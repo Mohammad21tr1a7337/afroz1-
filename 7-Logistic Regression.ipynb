{
 "cells": [
  {
   "cell_type": "markdown",
   "id": "ccea02df",
   "metadata": {},
   "source": [
    "# LOGISTIC REGRESSION\n",
    "1. Data Exploration:\n",
    "a. Load the dataset and perform exploratory data analysis (EDA).\n",
    "b. Examine the features, their types, and summary statistics.\n",
    "c. Create visualizations such as histograms, box plots, or pair plots to visualize the distributions and relationships between features.\n",
    "Analyze any patterns or correlations observed in the data.\n",
    "2. Data Preprocessing:\n",
    "a. Handle missing values (e.g., imputation).\n",
    "b. Encode categorical variables.\n",
    "3. Model Building:\n",
    "a. Build a logistic regression model using appropriate libraries (e.g., scikit-learn).\n",
    "b. Train the model using the training data.\n",
    "4. Model Evaluation:\n",
    "a. Evaluate the performance of the model on the testing data using accuracy, precision, recall, F1-score, and ROC-AUC score.\n",
    "Visualize the ROC curve.\n",
    "5. Interpretation:\n",
    "a. Interpret the coefficients of the logistic regression model.\n",
    "b. Discuss the significance of features in predicting the target variable (survival probability in this case).\n",
    "6. Deployment with Streamlit:\n",
    "In this task, you will deploy your logistic regression model using Streamlit. The deployment can be done locally or online via Streamlit Share. Your task includes creating a Streamlit app in Python that involves loading your trained model and setting up user inputs for predictions. \n",
    "\n",
    "(optional)For online deployment, use Streamlit Community Cloud, which supports deployment from GitHub repositories. \n",
    "Detailed deployment instructions are available in the Streamlit Documentation.\n",
    "https://docs.streamlit.io/streamlit-community-cloud/deploy-your-app \n",
    "Interview Questions:\n",
    "1. What is the difference between precision and recall?\n",
    "2. What is cross-validation, and why is it important in binary classification?\n",
    "\n"
   ]
  },
  {
   "cell_type": "markdown",
   "id": "6b027b52",
   "metadata": {},
   "source": [
    "# 1. Data Exploration:"
   ]
  },
  {
   "cell_type": "markdown",
   "id": "93f67dbf",
   "metadata": {},
   "source": [
    "# a. Load the dataset and perform exploratory data analysis (EDA)."
   ]
  },
  {
   "cell_type": "code",
   "execution_count": 1,
   "id": "57f21898",
   "metadata": {},
   "outputs": [],
   "source": [
    "import pandas as pd \n",
    "import numpy as np\n",
    "import matplotlib.pyplot as plt\n",
    "import seaborn as sns\n",
    "import warnings\n",
    "warnings.filterwarnings('ignore')"
   ]
  },
  {
   "cell_type": "code",
   "execution_count": 2,
   "id": "f73393f1",
   "metadata": {},
   "outputs": [
    {
     "data": {
      "text/html": [
       "<div>\n",
       "<style scoped>\n",
       "    .dataframe tbody tr th:only-of-type {\n",
       "        vertical-align: middle;\n",
       "    }\n",
       "\n",
       "    .dataframe tbody tr th {\n",
       "        vertical-align: top;\n",
       "    }\n",
       "\n",
       "    .dataframe thead th {\n",
       "        text-align: right;\n",
       "    }\n",
       "</style>\n",
       "<table border=\"1\" class=\"dataframe\">\n",
       "  <thead>\n",
       "    <tr style=\"text-align: right;\">\n",
       "      <th></th>\n",
       "      <th>PassengerId</th>\n",
       "      <th>Survived</th>\n",
       "      <th>Pclass</th>\n",
       "      <th>Name</th>\n",
       "      <th>Sex</th>\n",
       "      <th>Age</th>\n",
       "      <th>SibSp</th>\n",
       "      <th>Parch</th>\n",
       "      <th>Ticket</th>\n",
       "      <th>Fare</th>\n",
       "      <th>Cabin</th>\n",
       "      <th>Embarked</th>\n",
       "    </tr>\n",
       "  </thead>\n",
       "  <tbody>\n",
       "    <tr>\n",
       "      <th>0</th>\n",
       "      <td>1</td>\n",
       "      <td>0</td>\n",
       "      <td>3</td>\n",
       "      <td>Braund, Mr. Owen Harris</td>\n",
       "      <td>male</td>\n",
       "      <td>22.0</td>\n",
       "      <td>1</td>\n",
       "      <td>0</td>\n",
       "      <td>A/5 21171</td>\n",
       "      <td>7.2500</td>\n",
       "      <td>NaN</td>\n",
       "      <td>S</td>\n",
       "    </tr>\n",
       "    <tr>\n",
       "      <th>1</th>\n",
       "      <td>2</td>\n",
       "      <td>1</td>\n",
       "      <td>1</td>\n",
       "      <td>Cumings, Mrs. John Bradley (Florence Briggs Th...</td>\n",
       "      <td>female</td>\n",
       "      <td>38.0</td>\n",
       "      <td>1</td>\n",
       "      <td>0</td>\n",
       "      <td>PC 17599</td>\n",
       "      <td>71.2833</td>\n",
       "      <td>C85</td>\n",
       "      <td>C</td>\n",
       "    </tr>\n",
       "    <tr>\n",
       "      <th>2</th>\n",
       "      <td>3</td>\n",
       "      <td>1</td>\n",
       "      <td>3</td>\n",
       "      <td>Heikkinen, Miss. Laina</td>\n",
       "      <td>female</td>\n",
       "      <td>26.0</td>\n",
       "      <td>0</td>\n",
       "      <td>0</td>\n",
       "      <td>STON/O2. 3101282</td>\n",
       "      <td>7.9250</td>\n",
       "      <td>NaN</td>\n",
       "      <td>S</td>\n",
       "    </tr>\n",
       "    <tr>\n",
       "      <th>3</th>\n",
       "      <td>4</td>\n",
       "      <td>1</td>\n",
       "      <td>1</td>\n",
       "      <td>Futrelle, Mrs. Jacques Heath (Lily May Peel)</td>\n",
       "      <td>female</td>\n",
       "      <td>35.0</td>\n",
       "      <td>1</td>\n",
       "      <td>0</td>\n",
       "      <td>113803</td>\n",
       "      <td>53.1000</td>\n",
       "      <td>C123</td>\n",
       "      <td>S</td>\n",
       "    </tr>\n",
       "    <tr>\n",
       "      <th>4</th>\n",
       "      <td>5</td>\n",
       "      <td>0</td>\n",
       "      <td>3</td>\n",
       "      <td>Allen, Mr. William Henry</td>\n",
       "      <td>male</td>\n",
       "      <td>35.0</td>\n",
       "      <td>0</td>\n",
       "      <td>0</td>\n",
       "      <td>373450</td>\n",
       "      <td>8.0500</td>\n",
       "      <td>NaN</td>\n",
       "      <td>S</td>\n",
       "    </tr>\n",
       "  </tbody>\n",
       "</table>\n",
       "</div>"
      ],
      "text/plain": [
       "   PassengerId  Survived  Pclass  \\\n",
       "0            1         0       3   \n",
       "1            2         1       1   \n",
       "2            3         1       3   \n",
       "3            4         1       1   \n",
       "4            5         0       3   \n",
       "\n",
       "                                                Name     Sex   Age  SibSp  \\\n",
       "0                            Braund, Mr. Owen Harris    male  22.0      1   \n",
       "1  Cumings, Mrs. John Bradley (Florence Briggs Th...  female  38.0      1   \n",
       "2                             Heikkinen, Miss. Laina  female  26.0      0   \n",
       "3       Futrelle, Mrs. Jacques Heath (Lily May Peel)  female  35.0      1   \n",
       "4                           Allen, Mr. William Henry    male  35.0      0   \n",
       "\n",
       "   Parch            Ticket     Fare Cabin Embarked  \n",
       "0      0         A/5 21171   7.2500   NaN        S  \n",
       "1      0          PC 17599  71.2833   C85        C  \n",
       "2      0  STON/O2. 3101282   7.9250   NaN        S  \n",
       "3      0            113803  53.1000  C123        S  \n",
       "4      0            373450   8.0500   NaN        S  "
      ]
     },
     "execution_count": 2,
     "metadata": {},
     "output_type": "execute_result"
    }
   ],
   "source": [
    "#loading the dataset\n",
    "#in this assignment we are having two datasets train and test\n",
    "\n",
    "dftrain=pd.read_csv(\"Titanic_train.csv\")\n",
    "dftest=pd.read_csv(\"Titanic_test.csv\")\n",
    "\n",
    "dftrain.head()\n"
   ]
  },
  {
   "cell_type": "code",
   "execution_count": 3,
   "id": "97684197",
   "metadata": {},
   "outputs": [
    {
     "data": {
      "text/plain": [
       "((891, 12), (418, 11))"
      ]
     },
     "execution_count": 3,
     "metadata": {},
     "output_type": "execute_result"
    }
   ],
   "source": [
    "#1.understanding the data\n",
    "#checking shape of the data\n",
    "\n",
    "dftrain.shape,dftest.shape   #here we are having same 891 as train and 418 test"
   ]
  },
  {
   "cell_type": "code",
   "execution_count": 4,
   "id": "fdcf7470",
   "metadata": {},
   "outputs": [
    {
     "data": {
      "text/plain": [
       "Index(['PassengerId', 'Survived', 'Pclass', 'Name', 'Sex', 'Age', 'SibSp',\n",
       "       'Parch', 'Ticket', 'Fare', 'Cabin', 'Embarked'],\n",
       "      dtype='object')"
      ]
     },
     "execution_count": 4,
     "metadata": {},
     "output_type": "execute_result"
    }
   ],
   "source": [
    "#checking the columns names\n",
    "\n",
    "dftrain.columns"
   ]
  },
  {
   "cell_type": "code",
   "execution_count": null,
   "id": "d186675a",
   "metadata": {},
   "outputs": [],
   "source": []
  },
  {
   "cell_type": "code",
   "execution_count": 5,
   "id": "8b59fd69",
   "metadata": {},
   "outputs": [
    {
     "data": {
      "text/html": [
       "<div>\n",
       "<style scoped>\n",
       "    .dataframe tbody tr th:only-of-type {\n",
       "        vertical-align: middle;\n",
       "    }\n",
       "\n",
       "    .dataframe tbody tr th {\n",
       "        vertical-align: top;\n",
       "    }\n",
       "\n",
       "    .dataframe thead th {\n",
       "        text-align: right;\n",
       "    }\n",
       "</style>\n",
       "<table border=\"1\" class=\"dataframe\">\n",
       "  <thead>\n",
       "    <tr style=\"text-align: right;\">\n",
       "      <th></th>\n",
       "      <th>PassengerId</th>\n",
       "      <th>Survived</th>\n",
       "      <th>Pclass</th>\n",
       "      <th>Name</th>\n",
       "      <th>Sex</th>\n",
       "      <th>Age</th>\n",
       "      <th>SibSp</th>\n",
       "      <th>Parch</th>\n",
       "      <th>Ticket</th>\n",
       "      <th>Fare</th>\n",
       "      <th>Cabin</th>\n",
       "      <th>Embarked</th>\n",
       "    </tr>\n",
       "  </thead>\n",
       "  <tbody>\n",
       "    <tr>\n",
       "      <th>0</th>\n",
       "      <td>1</td>\n",
       "      <td>0.0</td>\n",
       "      <td>3</td>\n",
       "      <td>Braund, Mr. Owen Harris</td>\n",
       "      <td>male</td>\n",
       "      <td>22.0</td>\n",
       "      <td>1</td>\n",
       "      <td>0</td>\n",
       "      <td>A/5 21171</td>\n",
       "      <td>7.2500</td>\n",
       "      <td>NaN</td>\n",
       "      <td>S</td>\n",
       "    </tr>\n",
       "    <tr>\n",
       "      <th>1</th>\n",
       "      <td>2</td>\n",
       "      <td>1.0</td>\n",
       "      <td>1</td>\n",
       "      <td>Cumings, Mrs. John Bradley (Florence Briggs Th...</td>\n",
       "      <td>female</td>\n",
       "      <td>38.0</td>\n",
       "      <td>1</td>\n",
       "      <td>0</td>\n",
       "      <td>PC 17599</td>\n",
       "      <td>71.2833</td>\n",
       "      <td>C85</td>\n",
       "      <td>C</td>\n",
       "    </tr>\n",
       "    <tr>\n",
       "      <th>2</th>\n",
       "      <td>3</td>\n",
       "      <td>1.0</td>\n",
       "      <td>3</td>\n",
       "      <td>Heikkinen, Miss. Laina</td>\n",
       "      <td>female</td>\n",
       "      <td>26.0</td>\n",
       "      <td>0</td>\n",
       "      <td>0</td>\n",
       "      <td>STON/O2. 3101282</td>\n",
       "      <td>7.9250</td>\n",
       "      <td>NaN</td>\n",
       "      <td>S</td>\n",
       "    </tr>\n",
       "    <tr>\n",
       "      <th>3</th>\n",
       "      <td>4</td>\n",
       "      <td>1.0</td>\n",
       "      <td>1</td>\n",
       "      <td>Futrelle, Mrs. Jacques Heath (Lily May Peel)</td>\n",
       "      <td>female</td>\n",
       "      <td>35.0</td>\n",
       "      <td>1</td>\n",
       "      <td>0</td>\n",
       "      <td>113803</td>\n",
       "      <td>53.1000</td>\n",
       "      <td>C123</td>\n",
       "      <td>S</td>\n",
       "    </tr>\n",
       "    <tr>\n",
       "      <th>4</th>\n",
       "      <td>5</td>\n",
       "      <td>0.0</td>\n",
       "      <td>3</td>\n",
       "      <td>Allen, Mr. William Henry</td>\n",
       "      <td>male</td>\n",
       "      <td>35.0</td>\n",
       "      <td>0</td>\n",
       "      <td>0</td>\n",
       "      <td>373450</td>\n",
       "      <td>8.0500</td>\n",
       "      <td>NaN</td>\n",
       "      <td>S</td>\n",
       "    </tr>\n",
       "    <tr>\n",
       "      <th>...</th>\n",
       "      <td>...</td>\n",
       "      <td>...</td>\n",
       "      <td>...</td>\n",
       "      <td>...</td>\n",
       "      <td>...</td>\n",
       "      <td>...</td>\n",
       "      <td>...</td>\n",
       "      <td>...</td>\n",
       "      <td>...</td>\n",
       "      <td>...</td>\n",
       "      <td>...</td>\n",
       "      <td>...</td>\n",
       "    </tr>\n",
       "    <tr>\n",
       "      <th>1304</th>\n",
       "      <td>1305</td>\n",
       "      <td>NaN</td>\n",
       "      <td>3</td>\n",
       "      <td>Spector, Mr. Woolf</td>\n",
       "      <td>male</td>\n",
       "      <td>NaN</td>\n",
       "      <td>0</td>\n",
       "      <td>0</td>\n",
       "      <td>A.5. 3236</td>\n",
       "      <td>8.0500</td>\n",
       "      <td>NaN</td>\n",
       "      <td>S</td>\n",
       "    </tr>\n",
       "    <tr>\n",
       "      <th>1305</th>\n",
       "      <td>1306</td>\n",
       "      <td>NaN</td>\n",
       "      <td>1</td>\n",
       "      <td>Oliva y Ocana, Dona. Fermina</td>\n",
       "      <td>female</td>\n",
       "      <td>39.0</td>\n",
       "      <td>0</td>\n",
       "      <td>0</td>\n",
       "      <td>PC 17758</td>\n",
       "      <td>108.9000</td>\n",
       "      <td>C105</td>\n",
       "      <td>C</td>\n",
       "    </tr>\n",
       "    <tr>\n",
       "      <th>1306</th>\n",
       "      <td>1307</td>\n",
       "      <td>NaN</td>\n",
       "      <td>3</td>\n",
       "      <td>Saether, Mr. Simon Sivertsen</td>\n",
       "      <td>male</td>\n",
       "      <td>38.5</td>\n",
       "      <td>0</td>\n",
       "      <td>0</td>\n",
       "      <td>SOTON/O.Q. 3101262</td>\n",
       "      <td>7.2500</td>\n",
       "      <td>NaN</td>\n",
       "      <td>S</td>\n",
       "    </tr>\n",
       "    <tr>\n",
       "      <th>1307</th>\n",
       "      <td>1308</td>\n",
       "      <td>NaN</td>\n",
       "      <td>3</td>\n",
       "      <td>Ware, Mr. Frederick</td>\n",
       "      <td>male</td>\n",
       "      <td>NaN</td>\n",
       "      <td>0</td>\n",
       "      <td>0</td>\n",
       "      <td>359309</td>\n",
       "      <td>8.0500</td>\n",
       "      <td>NaN</td>\n",
       "      <td>S</td>\n",
       "    </tr>\n",
       "    <tr>\n",
       "      <th>1308</th>\n",
       "      <td>1309</td>\n",
       "      <td>NaN</td>\n",
       "      <td>3</td>\n",
       "      <td>Peter, Master. Michael J</td>\n",
       "      <td>male</td>\n",
       "      <td>NaN</td>\n",
       "      <td>1</td>\n",
       "      <td>1</td>\n",
       "      <td>2668</td>\n",
       "      <td>22.3583</td>\n",
       "      <td>NaN</td>\n",
       "      <td>C</td>\n",
       "    </tr>\n",
       "  </tbody>\n",
       "</table>\n",
       "<p>1309 rows × 12 columns</p>\n",
       "</div>"
      ],
      "text/plain": [
       "      PassengerId  Survived  Pclass  \\\n",
       "0               1       0.0       3   \n",
       "1               2       1.0       1   \n",
       "2               3       1.0       3   \n",
       "3               4       1.0       1   \n",
       "4               5       0.0       3   \n",
       "...           ...       ...     ...   \n",
       "1304         1305       NaN       3   \n",
       "1305         1306       NaN       1   \n",
       "1306         1307       NaN       3   \n",
       "1307         1308       NaN       3   \n",
       "1308         1309       NaN       3   \n",
       "\n",
       "                                                   Name     Sex   Age  SibSp  \\\n",
       "0                               Braund, Mr. Owen Harris    male  22.0      1   \n",
       "1     Cumings, Mrs. John Bradley (Florence Briggs Th...  female  38.0      1   \n",
       "2                                Heikkinen, Miss. Laina  female  26.0      0   \n",
       "3          Futrelle, Mrs. Jacques Heath (Lily May Peel)  female  35.0      1   \n",
       "4                              Allen, Mr. William Henry    male  35.0      0   \n",
       "...                                                 ...     ...   ...    ...   \n",
       "1304                                 Spector, Mr. Woolf    male   NaN      0   \n",
       "1305                       Oliva y Ocana, Dona. Fermina  female  39.0      0   \n",
       "1306                       Saether, Mr. Simon Sivertsen    male  38.5      0   \n",
       "1307                                Ware, Mr. Frederick    male   NaN      0   \n",
       "1308                           Peter, Master. Michael J    male   NaN      1   \n",
       "\n",
       "      Parch              Ticket      Fare Cabin Embarked  \n",
       "0         0           A/5 21171    7.2500   NaN        S  \n",
       "1         0            PC 17599   71.2833   C85        C  \n",
       "2         0    STON/O2. 3101282    7.9250   NaN        S  \n",
       "3         0              113803   53.1000  C123        S  \n",
       "4         0              373450    8.0500   NaN        S  \n",
       "...     ...                 ...       ...   ...      ...  \n",
       "1304      0           A.5. 3236    8.0500   NaN        S  \n",
       "1305      0            PC 17758  108.9000  C105        C  \n",
       "1306      0  SOTON/O.Q. 3101262    7.2500   NaN        S  \n",
       "1307      0              359309    8.0500   NaN        S  \n",
       "1308      1                2668   22.3583   NaN        C  \n",
       "\n",
       "[1309 rows x 12 columns]"
      ]
     },
     "execution_count": 5,
     "metadata": {},
     "output_type": "execute_result"
    }
   ],
   "source": [
    "# i am merging the training and testing data to perform the EDA process \n",
    "#after that we will fit the model on train and test\n",
    "\n",
    "df=pd.concat([dftrain,dftest],axis=0)  #merging with rows\n",
    "df.reset_index(drop=True,inplace=True)   #reseting the index\n",
    "df\n",
    "\n",
    "#we can see the survived column for test is not given so we can find the\n",
    "#null values in that column simply we ignore them"
   ]
  },
  {
   "cell_type": "code",
   "execution_count": 6,
   "id": "6e542229",
   "metadata": {},
   "outputs": [
    {
     "data": {
      "text/plain": [
       "(1309, 12)"
      ]
     },
     "execution_count": 6,
     "metadata": {},
     "output_type": "execute_result"
    }
   ],
   "source": [
    "df.shape  #checking the shape of data\n"
   ]
  },
  {
   "cell_type": "code",
   "execution_count": 7,
   "id": "84a4535f",
   "metadata": {},
   "outputs": [
    {
     "name": "stdout",
     "output_type": "stream",
     "text": [
      "<class 'pandas.core.frame.DataFrame'>\n",
      "RangeIndex: 1309 entries, 0 to 1308\n",
      "Data columns (total 12 columns):\n",
      " #   Column       Non-Null Count  Dtype  \n",
      "---  ------       --------------  -----  \n",
      " 0   PassengerId  1309 non-null   int64  \n",
      " 1   Survived     891 non-null    float64\n",
      " 2   Pclass       1309 non-null   int64  \n",
      " 3   Name         1309 non-null   object \n",
      " 4   Sex          1309 non-null   object \n",
      " 5   Age          1046 non-null   float64\n",
      " 6   SibSp        1309 non-null   int64  \n",
      " 7   Parch        1309 non-null   int64  \n",
      " 8   Ticket       1309 non-null   object \n",
      " 9   Fare         1308 non-null   float64\n",
      " 10  Cabin        295 non-null    object \n",
      " 11  Embarked     1307 non-null   object \n",
      "dtypes: float64(3), int64(4), object(5)\n",
      "memory usage: 122.8+ KB\n"
     ]
    }
   ],
   "source": [
    "#checking the Data types of each columns\n",
    "\n",
    "df.info()"
   ]
  },
  {
   "cell_type": "markdown",
   "id": "399f0420",
   "metadata": {},
   "source": [
    "# b. Examine the features, their types, and summary statistics."
   ]
  },
  {
   "cell_type": "code",
   "execution_count": 8,
   "id": "4d5ff374",
   "metadata": {},
   "outputs": [
    {
     "data": {
      "text/html": [
       "<div>\n",
       "<style scoped>\n",
       "    .dataframe tbody tr th:only-of-type {\n",
       "        vertical-align: middle;\n",
       "    }\n",
       "\n",
       "    .dataframe tbody tr th {\n",
       "        vertical-align: top;\n",
       "    }\n",
       "\n",
       "    .dataframe thead th {\n",
       "        text-align: right;\n",
       "    }\n",
       "</style>\n",
       "<table border=\"1\" class=\"dataframe\">\n",
       "  <thead>\n",
       "    <tr style=\"text-align: right;\">\n",
       "      <th></th>\n",
       "      <th>PassengerId</th>\n",
       "      <th>Survived</th>\n",
       "      <th>Pclass</th>\n",
       "      <th>Age</th>\n",
       "      <th>SibSp</th>\n",
       "      <th>Parch</th>\n",
       "      <th>Fare</th>\n",
       "    </tr>\n",
       "  </thead>\n",
       "  <tbody>\n",
       "    <tr>\n",
       "      <th>0</th>\n",
       "      <td>1</td>\n",
       "      <td>0.0</td>\n",
       "      <td>3</td>\n",
       "      <td>22.0</td>\n",
       "      <td>1</td>\n",
       "      <td>0</td>\n",
       "      <td>7.2500</td>\n",
       "    </tr>\n",
       "    <tr>\n",
       "      <th>1</th>\n",
       "      <td>2</td>\n",
       "      <td>1.0</td>\n",
       "      <td>1</td>\n",
       "      <td>38.0</td>\n",
       "      <td>1</td>\n",
       "      <td>0</td>\n",
       "      <td>71.2833</td>\n",
       "    </tr>\n",
       "    <tr>\n",
       "      <th>2</th>\n",
       "      <td>3</td>\n",
       "      <td>1.0</td>\n",
       "      <td>3</td>\n",
       "      <td>26.0</td>\n",
       "      <td>0</td>\n",
       "      <td>0</td>\n",
       "      <td>7.9250</td>\n",
       "    </tr>\n",
       "    <tr>\n",
       "      <th>3</th>\n",
       "      <td>4</td>\n",
       "      <td>1.0</td>\n",
       "      <td>1</td>\n",
       "      <td>35.0</td>\n",
       "      <td>1</td>\n",
       "      <td>0</td>\n",
       "      <td>53.1000</td>\n",
       "    </tr>\n",
       "    <tr>\n",
       "      <th>4</th>\n",
       "      <td>5</td>\n",
       "      <td>0.0</td>\n",
       "      <td>3</td>\n",
       "      <td>35.0</td>\n",
       "      <td>0</td>\n",
       "      <td>0</td>\n",
       "      <td>8.0500</td>\n",
       "    </tr>\n",
       "    <tr>\n",
       "      <th>...</th>\n",
       "      <td>...</td>\n",
       "      <td>...</td>\n",
       "      <td>...</td>\n",
       "      <td>...</td>\n",
       "      <td>...</td>\n",
       "      <td>...</td>\n",
       "      <td>...</td>\n",
       "    </tr>\n",
       "    <tr>\n",
       "      <th>1304</th>\n",
       "      <td>1305</td>\n",
       "      <td>NaN</td>\n",
       "      <td>3</td>\n",
       "      <td>NaN</td>\n",
       "      <td>0</td>\n",
       "      <td>0</td>\n",
       "      <td>8.0500</td>\n",
       "    </tr>\n",
       "    <tr>\n",
       "      <th>1305</th>\n",
       "      <td>1306</td>\n",
       "      <td>NaN</td>\n",
       "      <td>1</td>\n",
       "      <td>39.0</td>\n",
       "      <td>0</td>\n",
       "      <td>0</td>\n",
       "      <td>108.9000</td>\n",
       "    </tr>\n",
       "    <tr>\n",
       "      <th>1306</th>\n",
       "      <td>1307</td>\n",
       "      <td>NaN</td>\n",
       "      <td>3</td>\n",
       "      <td>38.5</td>\n",
       "      <td>0</td>\n",
       "      <td>0</td>\n",
       "      <td>7.2500</td>\n",
       "    </tr>\n",
       "    <tr>\n",
       "      <th>1307</th>\n",
       "      <td>1308</td>\n",
       "      <td>NaN</td>\n",
       "      <td>3</td>\n",
       "      <td>NaN</td>\n",
       "      <td>0</td>\n",
       "      <td>0</td>\n",
       "      <td>8.0500</td>\n",
       "    </tr>\n",
       "    <tr>\n",
       "      <th>1308</th>\n",
       "      <td>1309</td>\n",
       "      <td>NaN</td>\n",
       "      <td>3</td>\n",
       "      <td>NaN</td>\n",
       "      <td>1</td>\n",
       "      <td>1</td>\n",
       "      <td>22.3583</td>\n",
       "    </tr>\n",
       "  </tbody>\n",
       "</table>\n",
       "<p>1309 rows × 7 columns</p>\n",
       "</div>"
      ],
      "text/plain": [
       "      PassengerId  Survived  Pclass   Age  SibSp  Parch      Fare\n",
       "0               1       0.0       3  22.0      1      0    7.2500\n",
       "1               2       1.0       1  38.0      1      0   71.2833\n",
       "2               3       1.0       3  26.0      0      0    7.9250\n",
       "3               4       1.0       1  35.0      1      0   53.1000\n",
       "4               5       0.0       3  35.0      0      0    8.0500\n",
       "...           ...       ...     ...   ...    ...    ...       ...\n",
       "1304         1305       NaN       3   NaN      0      0    8.0500\n",
       "1305         1306       NaN       1  39.0      0      0  108.9000\n",
       "1306         1307       NaN       3  38.5      0      0    7.2500\n",
       "1307         1308       NaN       3   NaN      0      0    8.0500\n",
       "1308         1309       NaN       3   NaN      1      1   22.3583\n",
       "\n",
       "[1309 rows x 7 columns]"
      ]
     },
     "execution_count": 8,
     "metadata": {},
     "output_type": "execute_result"
    }
   ],
   "source": [
    "#these are the only columns which are having numeric values\n",
    "df.select_dtypes(include=[int,float])"
   ]
  },
  {
   "cell_type": "code",
   "execution_count": 9,
   "id": "becc0a72",
   "metadata": {},
   "outputs": [
    {
     "data": {
      "text/plain": [
       "array([3, 1, 2], dtype=int64)"
      ]
     },
     "execution_count": 9,
     "metadata": {},
     "output_type": "execute_result"
    }
   ],
   "source": [
    "df['Pclass'].unique() #tho it is numbers but behaving as descrete having \n",
    "                      #3 values like label encoding"
   ]
  },
  {
   "cell_type": "code",
   "execution_count": 10,
   "id": "0f68a172",
   "metadata": {},
   "outputs": [
    {
     "data": {
      "text/plain": [
       "array([1, 0, 3, 4, 2, 5, 8], dtype=int64)"
      ]
     },
     "execution_count": 10,
     "metadata": {},
     "output_type": "execute_result"
    }
   ],
   "source": [
    "df['SibSp'].unique()  #same numeric but descrete because it say no of \n",
    "                      #siblings/spouses aboard at titinic"
   ]
  },
  {
   "cell_type": "code",
   "execution_count": 11,
   "id": "495b88df",
   "metadata": {},
   "outputs": [
    {
     "data": {
      "text/plain": [
       "array([0, 1, 2, 5, 3, 4, 6, 9], dtype=int64)"
      ]
     },
     "execution_count": 11,
     "metadata": {},
     "output_type": "execute_result"
    }
   ],
   "source": [
    "df['Parch'].unique()#same situation number of parents/childrens aboard ship"
   ]
  },
  {
   "cell_type": "code",
   "execution_count": 12,
   "id": "62480afd",
   "metadata": {},
   "outputs": [
    {
     "data": {
      "text/html": [
       "<div>\n",
       "<style scoped>\n",
       "    .dataframe tbody tr th:only-of-type {\n",
       "        vertical-align: middle;\n",
       "    }\n",
       "\n",
       "    .dataframe tbody tr th {\n",
       "        vertical-align: top;\n",
       "    }\n",
       "\n",
       "    .dataframe thead th {\n",
       "        text-align: right;\n",
       "    }\n",
       "</style>\n",
       "<table border=\"1\" class=\"dataframe\">\n",
       "  <thead>\n",
       "    <tr style=\"text-align: right;\">\n",
       "      <th></th>\n",
       "      <th>PassengerId</th>\n",
       "      <th>Survived</th>\n",
       "      <th>Pclass</th>\n",
       "      <th>Age</th>\n",
       "      <th>SibSp</th>\n",
       "      <th>Parch</th>\n",
       "      <th>Fare</th>\n",
       "    </tr>\n",
       "  </thead>\n",
       "  <tbody>\n",
       "    <tr>\n",
       "      <th>count</th>\n",
       "      <td>1309.000000</td>\n",
       "      <td>891.000000</td>\n",
       "      <td>1309.000000</td>\n",
       "      <td>1046.000000</td>\n",
       "      <td>1309.000000</td>\n",
       "      <td>1309.000000</td>\n",
       "      <td>1308.000000</td>\n",
       "    </tr>\n",
       "    <tr>\n",
       "      <th>mean</th>\n",
       "      <td>655.000000</td>\n",
       "      <td>0.383838</td>\n",
       "      <td>2.294882</td>\n",
       "      <td>29.881138</td>\n",
       "      <td>0.498854</td>\n",
       "      <td>0.385027</td>\n",
       "      <td>33.295479</td>\n",
       "    </tr>\n",
       "    <tr>\n",
       "      <th>std</th>\n",
       "      <td>378.020061</td>\n",
       "      <td>0.486592</td>\n",
       "      <td>0.837836</td>\n",
       "      <td>14.413493</td>\n",
       "      <td>1.041658</td>\n",
       "      <td>0.865560</td>\n",
       "      <td>51.758668</td>\n",
       "    </tr>\n",
       "    <tr>\n",
       "      <th>min</th>\n",
       "      <td>1.000000</td>\n",
       "      <td>0.000000</td>\n",
       "      <td>1.000000</td>\n",
       "      <td>0.170000</td>\n",
       "      <td>0.000000</td>\n",
       "      <td>0.000000</td>\n",
       "      <td>0.000000</td>\n",
       "    </tr>\n",
       "    <tr>\n",
       "      <th>25%</th>\n",
       "      <td>328.000000</td>\n",
       "      <td>0.000000</td>\n",
       "      <td>2.000000</td>\n",
       "      <td>21.000000</td>\n",
       "      <td>0.000000</td>\n",
       "      <td>0.000000</td>\n",
       "      <td>7.895800</td>\n",
       "    </tr>\n",
       "    <tr>\n",
       "      <th>50%</th>\n",
       "      <td>655.000000</td>\n",
       "      <td>0.000000</td>\n",
       "      <td>3.000000</td>\n",
       "      <td>28.000000</td>\n",
       "      <td>0.000000</td>\n",
       "      <td>0.000000</td>\n",
       "      <td>14.454200</td>\n",
       "    </tr>\n",
       "    <tr>\n",
       "      <th>75%</th>\n",
       "      <td>982.000000</td>\n",
       "      <td>1.000000</td>\n",
       "      <td>3.000000</td>\n",
       "      <td>39.000000</td>\n",
       "      <td>1.000000</td>\n",
       "      <td>0.000000</td>\n",
       "      <td>31.275000</td>\n",
       "    </tr>\n",
       "    <tr>\n",
       "      <th>max</th>\n",
       "      <td>1309.000000</td>\n",
       "      <td>1.000000</td>\n",
       "      <td>3.000000</td>\n",
       "      <td>80.000000</td>\n",
       "      <td>8.000000</td>\n",
       "      <td>9.000000</td>\n",
       "      <td>512.329200</td>\n",
       "    </tr>\n",
       "  </tbody>\n",
       "</table>\n",
       "</div>"
      ],
      "text/plain": [
       "       PassengerId    Survived       Pclass          Age        SibSp  \\\n",
       "count  1309.000000  891.000000  1309.000000  1046.000000  1309.000000   \n",
       "mean    655.000000    0.383838     2.294882    29.881138     0.498854   \n",
       "std     378.020061    0.486592     0.837836    14.413493     1.041658   \n",
       "min       1.000000    0.000000     1.000000     0.170000     0.000000   \n",
       "25%     328.000000    0.000000     2.000000    21.000000     0.000000   \n",
       "50%     655.000000    0.000000     3.000000    28.000000     0.000000   \n",
       "75%     982.000000    1.000000     3.000000    39.000000     1.000000   \n",
       "max    1309.000000    1.000000     3.000000    80.000000     8.000000   \n",
       "\n",
       "             Parch         Fare  \n",
       "count  1309.000000  1308.000000  \n",
       "mean      0.385027    33.295479  \n",
       "std       0.865560    51.758668  \n",
       "min       0.000000     0.000000  \n",
       "25%       0.000000     7.895800  \n",
       "50%       0.000000    14.454200  \n",
       "75%       0.000000    31.275000  \n",
       "max       9.000000   512.329200  "
      ]
     },
     "execution_count": 12,
     "metadata": {},
     "output_type": "execute_result"
    }
   ],
   "source": [
    "#3==>statistical summary \n",
    "\n",
    "df.describe()"
   ]
  },
  {
   "cell_type": "raw",
   "id": "76b8c3b5",
   "metadata": {},
   "source": [
    "# from the above information we can see the categorical varibales.From that categorical variables we can find which are behaving as descrete/categorical/binary(when numeric) and which are continuous.We can see for the passengerid is numeric but should not be included as a feature as model selection because they dont hold any meaningful information about relationship between variables so we dont consider this varaiable.The survived column contains only 0 and 1 as we can see in min and max so we can create a bargraph for them.pclass is having only three values i.e 1 2 and 3 so we can say there are countable so we are considering as label encodel columns.Age is continuous variable because the difference between min and max is large so we can create a histogram and boxplot.sibsp and parch are having 0 as min and 9 as max so we can also conclude as descrete as label encoded variable.fare is continuous column because the range between min and max is large so we create a boxplot and histogram\n",
    "\n",
    "\n",
    "# from above data we can conclude that \n",
    "1==>age,fair           (continuous variables)\n",
    "2==>pclass,sibsp,parch (descrete variables)  \n",
    "3==>sex,embarked,cabin (categorical nominmal no order)\n",
    "4==>sex ,survived      (binary data)\n",
    "\n",
    "minimum Plots can be possible for above data are\n",
    "\n",
    "1)Bar graph/count plot:survived,pclass,sibsp,parch,embarked,sex\n",
    "2)histogram :fare,age,sibs,parch\n",
    "3)boxplot:fare age\n"
   ]
  },
  {
   "cell_type": "raw",
   "id": "3e5a6e8b",
   "metadata": {},
   "source": []
  },
  {
   "cell_type": "markdown",
   "id": "13bff6d5",
   "metadata": {},
   "source": [
    "# c.Create visualizations such as histograms, box plots, or pair plots to visualize the distributions and relationships between features.\n",
    "Analyze any patterns or correlations observed in the data."
   ]
  },
  {
   "cell_type": "code",
   "execution_count": 13,
   "id": "f7f937e2",
   "metadata": {},
   "outputs": [
    {
     "data": {
      "image/png": "[encoded data removed]",
      "text/plain": [
       "<Figure size 1200x1000 with 4 Axes>"
      ]
     },
     "metadata": {},
     "output_type": "display_data"
    },
    {
     "name": "stdout",
     "output_type": "stream",
     "text": [
      "\n",
      "Skewness of Age: 0.40767455974362266\n",
      "Skewness of Fare: 4.367709134122922\n",
      "Skewness of Parch: 3.6690782036511136\n",
      "Skewness of SibSp: 3.844220342922907\n"
     ]
    }
   ],
   "source": [
    " import warnings\n",
    "warnings.filterwarnings('ignore')   #ignoring alll the warnings\n",
    "\n",
    "# Creating the dashboard layout\n",
    "fig, axes = plt.subplots(2, 2, figsize=(12, 10))  # 2x2 grid layout\n",
    "\n",
    "# Histogram for Age\n",
    "axes[0, 0].hist(df['Age'], bins=8, color='pink', edgecolor='black')\n",
    "axes[0, 0].set_title(\"Age Distribution\")\n",
    "axes[0, 0].set_xlabel(\"Age\")\n",
    "\n",
    "# Histogram for Fare\n",
    "axes[0, 1].hist(df['Fare'], bins=8, color='orange', edgecolor='black')\n",
    "axes[0, 1].set_title(\"Fare Paid by Passengers\")\n",
    "axes[0, 1].set_xlabel(\"Fare\")\n",
    "\n",
    "# Histogram for Parch\n",
    "axes[1, 0].hist(df['Parch'], bins=8, color='indigo', edgecolor='black')\n",
    "axes[1, 0].set_title(\"Number of Parents/Children Aboard\")\n",
    "axes[1, 0].set_xlabel(\"Parch\")\n",
    "\n",
    "# Histogram for SibSp\n",
    "axes[1, 1].hist(df['SibSp'], bins=8, color='brown', edgecolor='black')\n",
    "axes[1, 1].set_title(\"Number of Siblings/Spouses Aboard\")\n",
    "axes[1, 1].set_xlabel(\"SibSp\")\n",
    "\n",
    "# Adjust layout\n",
    "plt.tight_layout()\n",
    "plt.show()\n",
    "\n",
    "# Print skewness values\n",
    "print(\"\\nSkewness of Age:\", df[\"Age\"].skew())\n",
    "print(\"Skewness of Fare:\", df[\"Fare\"].skew())\n",
    "print(\"Skewness of Parch:\", df[\"Parch\"].skew())\n",
    "print(\"Skewness of SibSp:\", df[\"SibSp\"].skew())"
   ]
  },
  {
   "cell_type": "code",
   "execution_count": 14,
   "id": "da6a048d",
   "metadata": {},
   "outputs": [
    {
     "data": {
      "image/png": "[encoded data removed]",
      "text/plain": [
       "<Figure size 1800x1400 with 6 Axes>"
      ]
     },
     "metadata": {},
     "output_type": "display_data"
    },
    {
     "name": "stdout",
     "output_type": "stream",
     "text": [
      "\n",
      "Skewness of SibSp: 3.844220342922907\n",
      "Skewness of Pclass: -0.5986471102804279\n",
      "Skewness of Fare: 4.367709134122922\n"
     ]
    }
   ],
   "source": [
    "\n",
    "# Creating a dashboard layout (3x2)\n",
    "fig, axes = plt.subplots(3, 2, figsize=(18, 14))\n",
    "\n",
    "#Survival Count\n",
    "sns.barplot(x=df['Survived'].value_counts().index, y=df['Survived'].value_counts().values, ax=axes[0, 0], palette='Blues')\n",
    "axes[0, 0].set_title(\"Count of People Survived Aboard\")\n",
    "axes[0, 0].set_xlabel(\"Survived (Yes = 1, No = 0)\")\n",
    "axes[0, 0].set_ylabel(\"Count\")\n",
    "\n",
    "# Gender-based Survival\n",
    "sns.countplot(x='Sex', hue='Survived', data=df, ax=axes[0, 1], palette='coolwarm')  #palette means color combinations\n",
    "axes[0, 1].set_title(\"Survival Count by Gender\")\n",
    "axes[0, 1].set_xlabel(\"Sex\")\n",
    "axes[0, 1].set_ylabel(\"Count\")\n",
    "\n",
    "# Embarkation Distribution\n",
    "sns.countplot(x='Embarked', hue='Pclass', data=df, ax=axes[1, 0], palette='pastel')\n",
    "axes[1, 0].set_title(\"Embarkation and Passenger Class Distribution\")\n",
    "axes[1, 0].set_xlabel(\"Embarked\")\n",
    "axes[1, 0].set_ylabel(\"Count\")\n",
    "\n",
    "# Sibling/Spouse Survival Analysis\n",
    "sns.countplot(x='SibSp', hue='Survived', data=df, ax=axes[1, 1], palette='Set2')\n",
    "axes[1, 1].set_title(\"Survival Rate for Siblings/Spouses Aboard\")\n",
    "axes[1, 1].set_xlabel(\"Number of Siblings/Spouses\")\n",
    "axes[1, 1].set_ylabel(\"Count\")\n",
    "\n",
    "#this plot split countinuous numeric data into descrete bins\n",
    "# Age Group Comparison for Survival (Binned into Categories)\n",
    "                                          #ages in intervals      #creates a new column\n",
    "df['Age_Group'] = pd.cut(df['Age'], bins=[0, 18, 40, 60, 80], labels=['Child', 'Young Adult', 'Middle Age', 'Senior'])\n",
    "sns.countplot(x='Age_Group', hue='Survived', data=df, ax=axes[2, 0], palette='muted')\n",
    "axes[2, 0].set_title(\"Survival Rate Across Age Groups\")\n",
    "axes[2, 0].set_xlabel(\"Age Group\")\n",
    "axes[2, 0].set_ylabel(\"Count\")\n",
    "\n",
    "# Fare Category Analysis (Binned for Better Comparison)\n",
    "                                            #fare categories\n",
    "df['Fare_Group'] = pd.cut(df['Fare'], bins=[0, 10, 50, 100, 600], labels=['Low', 'Medium', 'High', 'Premium'])\n",
    "sns.countplot(x='Fare_Group', hue='Survived', data=df, ax=axes[2, 1], palette='Oranges')\n",
    "axes[2, 1].set_title(\"Survival Rate Across Fare Groups\")\n",
    "axes[2, 1].set_xlabel(\"Fare Group\")\n",
    "axes[2, 1].set_ylabel(\"Count\")\n",
    "\n",
    "# Adjust layout for better spacing\n",
    "plt.tight_layout()\n",
    "plt.show()\n",
    "\n",
    "# Print Skewness values\n",
    "print(\"\\nSkewness of SibSp:\", df[\"SibSp\"].skew())  # Right skewed\n",
    "print(\"Skewness of Pclass:\", df[\"Pclass\"].skew())  # Right skewed\n",
    "print(\"Skewness of Fare:\", df[\"Fare\"].skew())  # Right skewed"
   ]
  },
  {
   "cell_type": "code",
   "execution_count": 15,
   "id": "6475d94f",
   "metadata": {},
   "outputs": [
    {
     "data": {
      "image/png": "[encoded data removed]",
      "text/plain": [
       "<Figure size 640x480 with 1 Axes>"
      ]
     },
     "metadata": {},
     "output_type": "display_data"
    }
   ],
   "source": [
    "import matplotlib.pyplot as plt\n",
    "\n",
    "# Boxplot for Fare\n",
    "\n",
    "plt.boxplot(dftrain['Fare'])\n",
    "plt.xlabel(\"Fare\")\n",
    "plt.title(\"Fare Distribution\")\n",
    "plt.show()\n",
    "\n",
    "#from the box plot of fare column we can assume that some of them has payed \n",
    "#more maybe because of late ticket booking or some tickets for luxey cabins"
   ]
  },
  {
   "cell_type": "code",
   "execution_count": 86,
   "id": "c7595cd9",
   "metadata": {},
   "outputs": [
    {
     "data": {
      "image/png": "[encoded data removed]",
      "text/plain": [
       "<Figure size 640x480 with 1 Axes>"
      ]
     },
     "metadata": {},
     "output_type": "display_data"
    }
   ],
   "source": [
    "# Boxplot for Age\n",
    "plt.boxplot(dftrain['Age'])\n",
    "plt.xlabel('Age')\n",
    "plt.title(\"Age Distribution\")\n",
    "plt.show()\n",
    "\n",
    "#in the age column the outlaers in lower bound is less than 3 maybe the baby\n",
    "#or kids and on uppper limits they may be old people  "
   ]
  },
  {
   "cell_type": "code",
   "execution_count": 17,
   "id": "92e5b5a7",
   "metadata": {},
   "outputs": [
    {
     "data": {
      "image/png": "[encoded data removed]",
      "text/plain": [
       "<Figure size 640x480 with 1 Axes>"
      ]
     },
     "metadata": {},
     "output_type": "display_data"
    }
   ],
   "source": [
    "plt.scatter(x=df['Fare'],y=df['Age'])\n",
    "plt.xlabel('Fare')\n",
    "plt.ylabel('Age')\n",
    "plt.title('Sactter plot of Fare vs Age')\n",
    "plt.show()"
   ]
  },
  {
   "cell_type": "code",
   "execution_count": 18,
   "id": "ca5bb814",
   "metadata": {},
   "outputs": [
    {
     "data": {
      "text/plain": [
       "0.1787398559996411"
      ]
     },
     "execution_count": 18,
     "metadata": {},
     "output_type": "execute_result"
    }
   ],
   "source": [
    "df['Fare'].corr(df['Age'])   #we can say that there is a relation but not strong"
   ]
  },
  {
   "cell_type": "code",
   "execution_count": 19,
   "id": "1dcc0046",
   "metadata": {},
   "outputs": [
    {
     "data": {
      "text/plain": [
       "0.1787398559996411"
      ]
     },
     "execution_count": 19,
     "metadata": {},
     "output_type": "execute_result"
    }
   ],
   "source": [
    "df['Age'].corr(df['Fare'])   #we can say that there is a relation but not strong"
   ]
  },
  {
   "cell_type": "code",
   "execution_count": 20,
   "id": "c950cf02",
   "metadata": {},
   "outputs": [
    {
     "data": {
      "image/png": "[encoded data removed]",
      "text/plain": [
       "<Figure size 640x480 with 1 Axes>"
      ]
     },
     "metadata": {},
     "output_type": "display_data"
    }
   ],
   "source": [
    "plt.scatter(x=df['Age'],y=df['Fare']) \n",
    "plt.xlabel('Fare')\n",
    "plt.ylabel('Age')\n",
    "plt.title('Sactter plot of Fare vs Age')\n",
    "plt.show()"
   ]
  },
  {
   "cell_type": "markdown",
   "id": "2e2602d3",
   "metadata": {},
   "source": [
    "# 2. Data Preprocessing:"
   ]
  },
  {
   "cell_type": "markdown",
   "id": "cb835bd7",
   "metadata": {},
   "source": [
    "# a. Handle missing values (e.g., imputation)"
   ]
  },
  {
   "cell_type": "code",
   "execution_count": 21,
   "id": "a714464a",
   "metadata": {},
   "outputs": [
    {
     "data": {
      "text/plain": [
       "(891, 12)"
      ]
     },
     "execution_count": 21,
     "metadata": {},
     "output_type": "execute_result"
    }
   ],
   "source": [
    "dftrain.shape  #checking the shape of data"
   ]
  },
  {
   "cell_type": "code",
   "execution_count": 22,
   "id": "9c46402a",
   "metadata": {},
   "outputs": [
    {
     "data": {
      "text/plain": [
       "PassengerId      0\n",
       "Survived         0\n",
       "Pclass           0\n",
       "Name             0\n",
       "Sex              0\n",
       "Age            177\n",
       "SibSp            0\n",
       "Parch            0\n",
       "Ticket           0\n",
       "Fare             0\n",
       "Cabin          687\n",
       "Embarked         2\n",
       "dtype: int64"
      ]
     },
     "execution_count": 22,
     "metadata": {},
     "output_type": "execute_result"
    }
   ],
   "source": [
    "#handling missing values\n",
    "#checking the missing values\n",
    "dftrain.isnull().sum()"
   ]
  },
  {
   "cell_type": "code",
   "execution_count": 23,
   "id": "ff3104f4",
   "metadata": {},
   "outputs": [
    {
     "name": "stdout",
     "output_type": "stream",
     "text": [
      "Total missing values in the age columns:  177\n",
      "Mean age is                            =  29.69911764705882\n",
      "Median age is                          =  28.0\n",
      "Filling the null values of age with mean  \n",
      "\n",
      "Total missing values in the age columns : 263\n"
     ]
    }
   ],
   "source": [
    "#checking which imputation technique is best for the data\n",
    "\n",
    "print(\"Total missing values in the age columns: \",dftrain['Age'].isnull().sum())\n",
    "print(\"Mean age is                            = \",dftrain['Age'].mean())\n",
    "print(\"Median age is                          = \",dftrain['Age'].median())\n",
    "print(\"Filling the null values of age with mean  \")\n",
    "print()\n",
    "dftrain[\"Age\"].fillna(dftrain['Age'].mean(),inplace=True)\n",
    "print(\"Total missing values in the age columns :\",df['Age'].isnull().sum())"
   ]
  },
  {
   "cell_type": "code",
   "execution_count": 24,
   "id": "a0fec636",
   "metadata": {},
   "outputs": [
    {
     "data": {
      "text/plain": [
       "687"
      ]
     },
     "execution_count": 24,
     "metadata": {},
     "output_type": "execute_result"
    }
   ],
   "source": [
    "dftrain['Cabin'].isnull().sum()  #checking null values for cabin column"
   ]
  },
  {
   "cell_type": "code",
   "execution_count": 25,
   "id": "697f08c1",
   "metadata": {},
   "outputs": [
    {
     "name": "stdout",
     "output_type": "stream",
     "text": [
      "unique values [nan 'C85' 'C123' 'E46' 'G6' 'C103' 'D56' 'A6' 'C23 C25 C27' 'B78' 'D33'\n",
      " 'B30' 'C52' 'B28' 'C83' 'F33' 'F G73' 'E31' 'A5' 'D10 D12' 'D26' 'C110'\n",
      " 'B58 B60' 'E101' 'F E69' 'D47' 'B86' 'F2' 'C2' 'E33' 'B19' 'A7' 'C49'\n",
      " 'F4' 'A32' 'B4' 'B80' 'A31' 'D36' 'D15' 'C93' 'C78' 'D35' 'C87' 'B77'\n",
      " 'E67' 'B94' 'C125' 'C99' 'C118' 'D7' 'A19' 'B49' 'D' 'C22 C26' 'C106'\n",
      " 'C65' 'E36' 'C54' 'B57 B59 B63 B66' 'C7' 'E34' 'C32' 'B18' 'C124' 'C91'\n",
      " 'E40' 'T' 'C128' 'D37' 'B35' 'E50' 'C82' 'B96 B98' 'E10' 'E44' 'A34'\n",
      " 'C104' 'C111' 'C92' 'E38' 'D21' 'E12' 'E63' 'A14' 'B37' 'C30' 'D20' 'B79'\n",
      " 'E25' 'D46' 'B73' 'C95' 'B38' 'B39' 'B22' 'C86' 'C70' 'A16' 'C101' 'C68'\n",
      " 'A10' 'E68' 'B41' 'A20' 'D19' 'D50' 'D9' 'A23' 'B50' 'A26' 'D48' 'E58'\n",
      " 'C126' 'B71' 'B51 B53 B55' 'D49' 'B5' 'B20' 'F G63' 'C62 C64' 'E24' 'C90'\n",
      " 'C45' 'E8' 'B101' 'D45' 'C46' 'D30' 'E121' 'D11' 'E77' 'F38' 'B3' 'D6'\n",
      " 'B82 B84' 'D17' 'A36' 'B102' 'B69' 'E49' 'C47' 'D28' 'E17' 'A24' 'C50'\n",
      " 'B42' 'C148']\n",
      "\n",
      "model of the data  0        B96 B98\n",
      "1    C23 C25 C27\n",
      "2             G6\n",
      "Name: Cabin, dtype: object\n",
      "\n"
     ]
    }
   ],
   "source": [
    "# here we are having a categorical data the imputation technique only used is mode\n",
    "\n",
    "print(\"unique values\",dftrain['Cabin'].unique())\n",
    "print()\n",
    "print(\"model of the data \",dftrain['Cabin'].mode())\n",
    "print()"
   ]
  },
  {
   "cell_type": "code",
   "execution_count": 26,
   "id": "4011fcd2",
   "metadata": {},
   "outputs": [
    {
     "data": {
      "text/plain": [
       "Ticket\n",
       "110152             B77\n",
       "110413             E67\n",
       "110465             A14\n",
       "110564             C52\n",
       "110813             D37\n",
       "                ...   \n",
       "W./C. 6608     Unknown\n",
       "W./C. 6609     Unknown\n",
       "W.E.P. 5734        E31\n",
       "W/C 14208      Unknown\n",
       "WE/P 5735          B22\n",
       "Name: Cabin, Length: 681, dtype: object"
      ]
     },
     "execution_count": 26,
     "metadata": {},
     "output_type": "execute_result"
    }
   ],
   "source": [
    "#from data we can observe that Cabin will de pendending on ticket/Pcalss so we\n",
    "#will fing the pattern between them because we are getting multimodel data\n",
    "\n",
    "dftrain['Cabin'].fillna('Unknown', inplace=True)    #craeting a lambda function\n",
    "                                             #anonumymous function(function without function name)\n",
    "dftrain.groupby('Ticket')['Cabin'].agg(lambda x: x.mode().iloc[0])  #x.mode()[0] finds the most frequent cabin value in each \"Pclass\" group\n",
    "                                              "
   ]
  },
  {
   "cell_type": "code",
   "execution_count": 27,
   "id": "5446e21f",
   "metadata": {},
   "outputs": [],
   "source": [
    "dftrain['Cabin'] = dftrain.groupby('Pclass')['Cabin'].transform(lambda x: x.fillna(x.mode()[0]))\n",
    "                                        #applies function to each group\n",
    "                                        #x.mode()[0]  finds the most frequent cabin value\n",
    "                                        #fillna(x.mode()[0])replace missing cabin values "
   ]
  },
  {
   "cell_type": "code",
   "execution_count": 28,
   "id": "8c1d6d95",
   "metadata": {},
   "outputs": [
    {
     "data": {
      "text/plain": [
       "0"
      ]
     },
     "execution_count": 28,
     "metadata": {},
     "output_type": "execute_result"
    }
   ],
   "source": [
    "#cross checking whether there are any other missing values in data\n",
    "dftrain['Cabin'].isnull().sum()"
   ]
  },
  {
   "cell_type": "code",
   "execution_count": 29,
   "id": "5c6665f4",
   "metadata": {},
   "outputs": [
    {
     "data": {
      "text/plain": [
       "PassengerId    0\n",
       "Survived       0\n",
       "Pclass         0\n",
       "Name           0\n",
       "Sex            0\n",
       "Age            0\n",
       "SibSp          0\n",
       "Parch          0\n",
       "Ticket         0\n",
       "Fare           0\n",
       "Cabin          0\n",
       "Embarked       2\n",
       "dtype: int64"
      ]
     },
     "execution_count": 29,
     "metadata": {},
     "output_type": "execute_result"
    }
   ],
   "source": [
    "dftrain.isnull().sum()"
   ]
  },
  {
   "cell_type": "code",
   "execution_count": 30,
   "id": "dad1ac5f",
   "metadata": {},
   "outputs": [],
   "source": [
    "#we can see  Embarked is having only 2 values \n",
    "2/836*100\n",
    "#that is only 0.23 % so we can drop them\n",
    "dftrain = dftrain.dropna(subset=['Embarked'])  # Removes rows where 'Fare' is NaN"
   ]
  },
  {
   "cell_type": "code",
   "execution_count": 31,
   "id": "f2d9d7af",
   "metadata": {},
   "outputs": [
    {
     "data": {
      "text/plain": [
       "PassengerId    0\n",
       "Survived       0\n",
       "Pclass         0\n",
       "Name           0\n",
       "Sex            0\n",
       "Age            0\n",
       "SibSp          0\n",
       "Parch          0\n",
       "Ticket         0\n",
       "Fare           0\n",
       "Cabin          0\n",
       "Embarked       0\n",
       "dtype: int64"
      ]
     },
     "execution_count": 31,
     "metadata": {},
     "output_type": "execute_result"
    }
   ],
   "source": [
    "dftrain.isnull().sum()"
   ]
  },
  {
   "cell_type": "raw",
   "id": "15274af7",
   "metadata": {},
   "source": [
    "====>Handling Missing Values for Testing Data"
   ]
  },
  {
   "cell_type": "code",
   "execution_count": 32,
   "id": "d26819c2",
   "metadata": {},
   "outputs": [
    {
     "data": {
      "text/plain": [
       "(418, 11)"
      ]
     },
     "execution_count": 32,
     "metadata": {},
     "output_type": "execute_result"
    }
   ],
   "source": [
    "dftest.shape"
   ]
  },
  {
   "cell_type": "code",
   "execution_count": null,
   "id": "7da7065a",
   "metadata": {},
   "outputs": [],
   "source": []
  },
  {
   "cell_type": "code",
   "execution_count": 33,
   "id": "57c5db5c",
   "metadata": {},
   "outputs": [
    {
     "data": {
      "text/plain": [
       "PassengerId      0\n",
       "Pclass           0\n",
       "Name             0\n",
       "Sex              0\n",
       "Age             86\n",
       "SibSp            0\n",
       "Parch            0\n",
       "Ticket           0\n",
       "Fare             1\n",
       "Cabin          327\n",
       "Embarked         0\n",
       "dtype: int64"
      ]
     },
     "execution_count": 33,
     "metadata": {},
     "output_type": "execute_result"
    }
   ],
   "source": [
    "#handling missing values for test data\n",
    "#checking the missing values test data\n",
    "dftest.isnull().sum()"
   ]
  },
  {
   "cell_type": "code",
   "execution_count": 34,
   "id": "55379bf6",
   "metadata": {},
   "outputs": [
    {
     "name": "stdout",
     "output_type": "stream",
     "text": [
      "total missing values in the age columns: 86\n",
      "mean age is 30.272590361445783\n",
      "median age is 27.0\n",
      "filling the null values of age with mean\n",
      "\n",
      "total missing values in the age columns: 0\n"
     ]
    }
   ],
   "source": [
    "print(\"total missing values in the age columns:\",dftest['Age'].isnull().sum())\n",
    "print(\"mean age is\",dftest['Age'].mean())\n",
    "print(\"median age is\",dftest['Age'].median())\n",
    "print(\"filling the null values of age with mean\")\n",
    "print()\n",
    "dftest[\"Age\"].fillna(dftest['Age'].mean(),inplace=True)\n",
    "print(\"total missing values in the age columns:\",dftest['Age'].isnull().sum())"
   ]
  },
  {
   "cell_type": "code",
   "execution_count": 35,
   "id": "1e44497c",
   "metadata": {},
   "outputs": [
    {
     "data": {
      "text/plain": [
       "327"
      ]
     },
     "execution_count": 35,
     "metadata": {},
     "output_type": "execute_result"
    }
   ],
   "source": [
    "dftest['Cabin'].isnull().sum()"
   ]
  },
  {
   "cell_type": "code",
   "execution_count": 36,
   "id": "b40cf758",
   "metadata": {},
   "outputs": [
    {
     "name": "stdout",
     "output_type": "stream",
     "text": [
      "unique values [nan 'B45' 'E31' 'B57 B59 B63 B66' 'B36' 'A21' 'C78' 'D34' 'D19' 'A9'\n",
      " 'D15' 'C31' 'C23 C25 C27' 'F G63' 'B61' 'C53' 'D43' 'C130' 'C132' 'C101'\n",
      " 'C55 C57' 'B71' 'C46' 'C116' 'F' 'A29' 'G6' 'C6' 'C28' 'C51' 'E46' 'C54'\n",
      " 'C97' 'D22' 'B10' 'F4' 'E45' 'E52' 'D30' 'B58 B60' 'E34' 'C62 C64' 'A11'\n",
      " 'B11' 'C80' 'F33' 'C85' 'D37' 'C86' 'D21' 'C89' 'F E46' 'A34' 'D' 'B26'\n",
      " 'C22 C26' 'B69' 'C32' 'B78' 'F E57' 'F2' 'A18' 'C106' 'B51 B53 B55'\n",
      " 'D10 D12' 'E60' 'E50' 'E39 E41' 'B52 B54 B56' 'C39' 'B24' 'D28' 'B41'\n",
      " 'C7' 'D40' 'D38' 'C105']\n",
      "\n",
      "model of the data  0    B57 B59 B63 B66\n",
      "Name: Cabin, dtype: object\n",
      "\n"
     ]
    }
   ],
   "source": [
    "# here we are having a categorical data the imputation technique only used is mode\n",
    "\n",
    "print(\"unique values\",dftest['Cabin'].unique())\n",
    "print()\n",
    "print(\"model of the data \",dftest['Cabin'].mode())\n",
    "print()"
   ]
  },
  {
   "cell_type": "code",
   "execution_count": 37,
   "id": "c7a30287",
   "metadata": {},
   "outputs": [
    {
     "data": {
      "text/plain": [
       "Ticket\n",
       "110469            C106\n",
       "110489             D22\n",
       "110813             D37\n",
       "111163         Unknown\n",
       "112051         Unknown\n",
       "                ...   \n",
       "W./C. 14260    Unknown\n",
       "W./C. 14266        F33\n",
       "W./C. 6607     Unknown\n",
       "W./C. 6608     Unknown\n",
       "W.E.P. 5734        E31\n",
       "Name: Cabin, Length: 363, dtype: object"
      ]
     },
     "execution_count": 37,
     "metadata": {},
     "output_type": "execute_result"
    }
   ],
   "source": [
    "#from data we can observe that Cabin will de pendending on ticket/Pcalss so we\n",
    "#will fing the pattern between them because we are getting multimodel data\n",
    "\n",
    "dftest['Cabin'].fillna('Unknown', inplace=True)    #craeting a lambda function\n",
    "                                             #anonumymous function(function without function name)\n",
    "dftest.groupby('Ticket')['Cabin'].agg(lambda x: x.mode().iloc[0])  #x.mode()[0] finds the most frequent cabin value in each \"Pclass\" group\n",
    "                                              "
   ]
  },
  {
   "cell_type": "code",
   "execution_count": 38,
   "id": "e1a661d4",
   "metadata": {},
   "outputs": [],
   "source": [
    "dftest['Cabin'] = dftest.groupby('Pclass')['Cabin'].transform(lambda x: x.fillna(x.mode()[0]))\n",
    "                                        #applies function to each group\n",
    "                                        #x.mode()[0]  finds the most frequent cabin value\n",
    "                                        #fillna(x.mode()[0])replace missing cabin values "
   ]
  },
  {
   "cell_type": "code",
   "execution_count": 39,
   "id": "9668c36c",
   "metadata": {},
   "outputs": [
    {
     "data": {
      "text/plain": [
       "0"
      ]
     },
     "execution_count": 39,
     "metadata": {},
     "output_type": "execute_result"
    }
   ],
   "source": [
    "#cross checking whether there are any other missing values in data\n",
    "dftrain['Cabin'].isnull().sum()"
   ]
  },
  {
   "cell_type": "code",
   "execution_count": 40,
   "id": "b935c934",
   "metadata": {},
   "outputs": [
    {
     "data": {
      "text/plain": [
       "PassengerId    0\n",
       "Survived       0\n",
       "Pclass         0\n",
       "Name           0\n",
       "Sex            0\n",
       "Age            0\n",
       "SibSp          0\n",
       "Parch          0\n",
       "Ticket         0\n",
       "Fare           0\n",
       "Cabin          0\n",
       "Embarked       0\n",
       "dtype: int64"
      ]
     },
     "execution_count": 40,
     "metadata": {},
     "output_type": "execute_result"
    }
   ],
   "source": [
    "dftrain.isnull().sum()"
   ]
  },
  {
   "cell_type": "markdown",
   "id": "c41eb434",
   "metadata": {},
   "source": [
    "# b. Encode categorical variables."
   ]
  },
  {
   "cell_type": "code",
   "execution_count": 41,
   "id": "2b56be1b",
   "metadata": {},
   "outputs": [
    {
     "data": {
      "text/html": [
       "<div>\n",
       "<style scoped>\n",
       "    .dataframe tbody tr th:only-of-type {\n",
       "        vertical-align: middle;\n",
       "    }\n",
       "\n",
       "    .dataframe tbody tr th {\n",
       "        vertical-align: top;\n",
       "    }\n",
       "\n",
       "    .dataframe thead th {\n",
       "        text-align: right;\n",
       "    }\n",
       "</style>\n",
       "<table border=\"1\" class=\"dataframe\">\n",
       "  <thead>\n",
       "    <tr style=\"text-align: right;\">\n",
       "      <th></th>\n",
       "      <th>PassengerId</th>\n",
       "      <th>Survived</th>\n",
       "      <th>Pclass</th>\n",
       "      <th>Name</th>\n",
       "      <th>Sex</th>\n",
       "      <th>Age</th>\n",
       "      <th>SibSp</th>\n",
       "      <th>Parch</th>\n",
       "      <th>Ticket</th>\n",
       "      <th>Fare</th>\n",
       "      <th>Cabin</th>\n",
       "      <th>Embarked</th>\n",
       "    </tr>\n",
       "  </thead>\n",
       "  <tbody>\n",
       "    <tr>\n",
       "      <th>0</th>\n",
       "      <td>1</td>\n",
       "      <td>0</td>\n",
       "      <td>3</td>\n",
       "      <td>Braund, Mr. Owen Harris</td>\n",
       "      <td>male</td>\n",
       "      <td>22.000000</td>\n",
       "      <td>1</td>\n",
       "      <td>0</td>\n",
       "      <td>A/5 21171</td>\n",
       "      <td>7.2500</td>\n",
       "      <td>Unknown</td>\n",
       "      <td>S</td>\n",
       "    </tr>\n",
       "    <tr>\n",
       "      <th>1</th>\n",
       "      <td>2</td>\n",
       "      <td>1</td>\n",
       "      <td>1</td>\n",
       "      <td>Cumings, Mrs. John Bradley (Florence Briggs Th...</td>\n",
       "      <td>female</td>\n",
       "      <td>38.000000</td>\n",
       "      <td>1</td>\n",
       "      <td>0</td>\n",
       "      <td>PC 17599</td>\n",
       "      <td>71.2833</td>\n",
       "      <td>C85</td>\n",
       "      <td>C</td>\n",
       "    </tr>\n",
       "    <tr>\n",
       "      <th>2</th>\n",
       "      <td>3</td>\n",
       "      <td>1</td>\n",
       "      <td>3</td>\n",
       "      <td>Heikkinen, Miss. Laina</td>\n",
       "      <td>female</td>\n",
       "      <td>26.000000</td>\n",
       "      <td>0</td>\n",
       "      <td>0</td>\n",
       "      <td>STON/O2. 3101282</td>\n",
       "      <td>7.9250</td>\n",
       "      <td>Unknown</td>\n",
       "      <td>S</td>\n",
       "    </tr>\n",
       "    <tr>\n",
       "      <th>3</th>\n",
       "      <td>4</td>\n",
       "      <td>1</td>\n",
       "      <td>1</td>\n",
       "      <td>Futrelle, Mrs. Jacques Heath (Lily May Peel)</td>\n",
       "      <td>female</td>\n",
       "      <td>35.000000</td>\n",
       "      <td>1</td>\n",
       "      <td>0</td>\n",
       "      <td>113803</td>\n",
       "      <td>53.1000</td>\n",
       "      <td>C123</td>\n",
       "      <td>S</td>\n",
       "    </tr>\n",
       "    <tr>\n",
       "      <th>4</th>\n",
       "      <td>5</td>\n",
       "      <td>0</td>\n",
       "      <td>3</td>\n",
       "      <td>Allen, Mr. William Henry</td>\n",
       "      <td>male</td>\n",
       "      <td>35.000000</td>\n",
       "      <td>0</td>\n",
       "      <td>0</td>\n",
       "      <td>373450</td>\n",
       "      <td>8.0500</td>\n",
       "      <td>Unknown</td>\n",
       "      <td>S</td>\n",
       "    </tr>\n",
       "    <tr>\n",
       "      <th>...</th>\n",
       "      <td>...</td>\n",
       "      <td>...</td>\n",
       "      <td>...</td>\n",
       "      <td>...</td>\n",
       "      <td>...</td>\n",
       "      <td>...</td>\n",
       "      <td>...</td>\n",
       "      <td>...</td>\n",
       "      <td>...</td>\n",
       "      <td>...</td>\n",
       "      <td>...</td>\n",
       "      <td>...</td>\n",
       "    </tr>\n",
       "    <tr>\n",
       "      <th>886</th>\n",
       "      <td>887</td>\n",
       "      <td>0</td>\n",
       "      <td>2</td>\n",
       "      <td>Montvila, Rev. Juozas</td>\n",
       "      <td>male</td>\n",
       "      <td>27.000000</td>\n",
       "      <td>0</td>\n",
       "      <td>0</td>\n",
       "      <td>211536</td>\n",
       "      <td>13.0000</td>\n",
       "      <td>Unknown</td>\n",
       "      <td>S</td>\n",
       "    </tr>\n",
       "    <tr>\n",
       "      <th>887</th>\n",
       "      <td>888</td>\n",
       "      <td>1</td>\n",
       "      <td>1</td>\n",
       "      <td>Graham, Miss. Margaret Edith</td>\n",
       "      <td>female</td>\n",
       "      <td>19.000000</td>\n",
       "      <td>0</td>\n",
       "      <td>0</td>\n",
       "      <td>112053</td>\n",
       "      <td>30.0000</td>\n",
       "      <td>B42</td>\n",
       "      <td>S</td>\n",
       "    </tr>\n",
       "    <tr>\n",
       "      <th>888</th>\n",
       "      <td>889</td>\n",
       "      <td>0</td>\n",
       "      <td>3</td>\n",
       "      <td>Johnston, Miss. Catherine Helen \"Carrie\"</td>\n",
       "      <td>female</td>\n",
       "      <td>29.699118</td>\n",
       "      <td>1</td>\n",
       "      <td>2</td>\n",
       "      <td>W./C. 6607</td>\n",
       "      <td>23.4500</td>\n",
       "      <td>Unknown</td>\n",
       "      <td>S</td>\n",
       "    </tr>\n",
       "    <tr>\n",
       "      <th>889</th>\n",
       "      <td>890</td>\n",
       "      <td>1</td>\n",
       "      <td>1</td>\n",
       "      <td>Behr, Mr. Karl Howell</td>\n",
       "      <td>male</td>\n",
       "      <td>26.000000</td>\n",
       "      <td>0</td>\n",
       "      <td>0</td>\n",
       "      <td>111369</td>\n",
       "      <td>30.0000</td>\n",
       "      <td>C148</td>\n",
       "      <td>C</td>\n",
       "    </tr>\n",
       "    <tr>\n",
       "      <th>890</th>\n",
       "      <td>891</td>\n",
       "      <td>0</td>\n",
       "      <td>3</td>\n",
       "      <td>Dooley, Mr. Patrick</td>\n",
       "      <td>male</td>\n",
       "      <td>32.000000</td>\n",
       "      <td>0</td>\n",
       "      <td>0</td>\n",
       "      <td>370376</td>\n",
       "      <td>7.7500</td>\n",
       "      <td>Unknown</td>\n",
       "      <td>Q</td>\n",
       "    </tr>\n",
       "  </tbody>\n",
       "</table>\n",
       "<p>889 rows × 12 columns</p>\n",
       "</div>"
      ],
      "text/plain": [
       "     PassengerId  Survived  Pclass  \\\n",
       "0              1         0       3   \n",
       "1              2         1       1   \n",
       "2              3         1       3   \n",
       "3              4         1       1   \n",
       "4              5         0       3   \n",
       "..           ...       ...     ...   \n",
       "886          887         0       2   \n",
       "887          888         1       1   \n",
       "888          889         0       3   \n",
       "889          890         1       1   \n",
       "890          891         0       3   \n",
       "\n",
       "                                                  Name     Sex        Age  \\\n",
       "0                              Braund, Mr. Owen Harris    male  22.000000   \n",
       "1    Cumings, Mrs. John Bradley (Florence Briggs Th...  female  38.000000   \n",
       "2                               Heikkinen, Miss. Laina  female  26.000000   \n",
       "3         Futrelle, Mrs. Jacques Heath (Lily May Peel)  female  35.000000   \n",
       "4                             Allen, Mr. William Henry    male  35.000000   \n",
       "..                                                 ...     ...        ...   \n",
       "886                              Montvila, Rev. Juozas    male  27.000000   \n",
       "887                       Graham, Miss. Margaret Edith  female  19.000000   \n",
       "888           Johnston, Miss. Catherine Helen \"Carrie\"  female  29.699118   \n",
       "889                              Behr, Mr. Karl Howell    male  26.000000   \n",
       "890                                Dooley, Mr. Patrick    male  32.000000   \n",
       "\n",
       "     SibSp  Parch            Ticket     Fare    Cabin Embarked  \n",
       "0        1      0         A/5 21171   7.2500  Unknown        S  \n",
       "1        1      0          PC 17599  71.2833      C85        C  \n",
       "2        0      0  STON/O2. 3101282   7.9250  Unknown        S  \n",
       "3        1      0            113803  53.1000     C123        S  \n",
       "4        0      0            373450   8.0500  Unknown        S  \n",
       "..     ...    ...               ...      ...      ...      ...  \n",
       "886      0      0            211536  13.0000  Unknown        S  \n",
       "887      0      0            112053  30.0000      B42        S  \n",
       "888      1      2        W./C. 6607  23.4500  Unknown        S  \n",
       "889      0      0            111369  30.0000     C148        C  \n",
       "890      0      0            370376   7.7500  Unknown        Q  \n",
       "\n",
       "[889 rows x 12 columns]"
      ]
     },
     "execution_count": 41,
     "metadata": {},
     "output_type": "execute_result"
    }
   ],
   "source": [
    "dftrain"
   ]
  },
  {
   "cell_type": "code",
   "execution_count": 42,
   "id": "95b58ee1",
   "metadata": {},
   "outputs": [],
   "source": [
    " #we are performing the label Encoding on the categorical data\n",
    "\n",
    "from sklearn.preprocessing import LabelEncoder  \n",
    "label=LabelEncoder()       #storing the function in a instance\n",
    "\n",
    "lab1=label.fit_transform(dftrain['Embarked'])   #transforming the data\n",
    "lab1=pd.DataFrame(lab1)                         #Creating the data frame\n",
    "lab1.columns=[\"Embarked\"]                       #giving the name for the column\n",
    "\n",
    "#for test data\n",
    "labt=label.fit_transform(dftest['Embarked'])\n",
    "labt=pd.DataFrame(labt)\n",
    "labt.columns=[\"Embarked\"] \n",
    "\n",
    "#for train data sex column\n",
    "\n",
    "lab2=label.fit_transform(dftrain['Sex'])\n",
    "lab2=pd.DataFrame(lab2)\n",
    "lab2.columns=['Sex']\n",
    "\n",
    "\n",
    "\n",
    "#for test data sex column\n",
    "\n",
    "lab2t=label.fit_transform(dftest['Sex'])\n",
    "lab2t=pd.DataFrame(lab2t)\n",
    "lab2t.columns=['Sex']\n"
   ]
  },
  {
   "cell_type": "code",
   "execution_count": 43,
   "id": "82a3eeb0",
   "metadata": {},
   "outputs": [
    {
     "data": {
      "text/html": [
       "<div>\n",
       "<style scoped>\n",
       "    .dataframe tbody tr th:only-of-type {\n",
       "        vertical-align: middle;\n",
       "    }\n",
       "\n",
       "    .dataframe tbody tr th {\n",
       "        vertical-align: top;\n",
       "    }\n",
       "\n",
       "    .dataframe thead th {\n",
       "        text-align: right;\n",
       "    }\n",
       "</style>\n",
       "<table border=\"1\" class=\"dataframe\">\n",
       "  <thead>\n",
       "    <tr style=\"text-align: right;\">\n",
       "      <th></th>\n",
       "      <th>Embarked</th>\n",
       "      <th>Sex</th>\n",
       "    </tr>\n",
       "  </thead>\n",
       "  <tbody>\n",
       "    <tr>\n",
       "      <th>0</th>\n",
       "      <td>2</td>\n",
       "      <td>1</td>\n",
       "    </tr>\n",
       "    <tr>\n",
       "      <th>1</th>\n",
       "      <td>0</td>\n",
       "      <td>0</td>\n",
       "    </tr>\n",
       "    <tr>\n",
       "      <th>2</th>\n",
       "      <td>2</td>\n",
       "      <td>0</td>\n",
       "    </tr>\n",
       "    <tr>\n",
       "      <th>3</th>\n",
       "      <td>2</td>\n",
       "      <td>0</td>\n",
       "    </tr>\n",
       "    <tr>\n",
       "      <th>4</th>\n",
       "      <td>2</td>\n",
       "      <td>1</td>\n",
       "    </tr>\n",
       "    <tr>\n",
       "      <th>...</th>\n",
       "      <td>...</td>\n",
       "      <td>...</td>\n",
       "    </tr>\n",
       "    <tr>\n",
       "      <th>884</th>\n",
       "      <td>2</td>\n",
       "      <td>1</td>\n",
       "    </tr>\n",
       "    <tr>\n",
       "      <th>885</th>\n",
       "      <td>2</td>\n",
       "      <td>0</td>\n",
       "    </tr>\n",
       "    <tr>\n",
       "      <th>886</th>\n",
       "      <td>2</td>\n",
       "      <td>0</td>\n",
       "    </tr>\n",
       "    <tr>\n",
       "      <th>887</th>\n",
       "      <td>0</td>\n",
       "      <td>1</td>\n",
       "    </tr>\n",
       "    <tr>\n",
       "      <th>888</th>\n",
       "      <td>1</td>\n",
       "      <td>1</td>\n",
       "    </tr>\n",
       "  </tbody>\n",
       "</table>\n",
       "<p>889 rows × 2 columns</p>\n",
       "</div>"
      ],
      "text/plain": [
       "     Embarked  Sex\n",
       "0           2    1\n",
       "1           0    0\n",
       "2           2    0\n",
       "3           2    0\n",
       "4           2    1\n",
       "..        ...  ...\n",
       "884         2    1\n",
       "885         2    0\n",
       "886         2    0\n",
       "887         0    1\n",
       "888         1    1\n",
       "\n",
       "[889 rows x 2 columns]"
      ]
     },
     "execution_count": 43,
     "metadata": {},
     "output_type": "execute_result"
    }
   ],
   "source": [
    "labeltrain=pd.concat([lab1,lab2],axis=1)\n",
    "labeltrain"
   ]
  },
  {
   "cell_type": "code",
   "execution_count": 44,
   "id": "c5ad962e",
   "metadata": {},
   "outputs": [
    {
     "data": {
      "text/html": [
       "<div>\n",
       "<style scoped>\n",
       "    .dataframe tbody tr th:only-of-type {\n",
       "        vertical-align: middle;\n",
       "    }\n",
       "\n",
       "    .dataframe tbody tr th {\n",
       "        vertical-align: top;\n",
       "    }\n",
       "\n",
       "    .dataframe thead th {\n",
       "        text-align: right;\n",
       "    }\n",
       "</style>\n",
       "<table border=\"1\" class=\"dataframe\">\n",
       "  <thead>\n",
       "    <tr style=\"text-align: right;\">\n",
       "      <th></th>\n",
       "      <th>Embarked</th>\n",
       "      <th>Sex</th>\n",
       "    </tr>\n",
       "  </thead>\n",
       "  <tbody>\n",
       "    <tr>\n",
       "      <th>0</th>\n",
       "      <td>1</td>\n",
       "      <td>1</td>\n",
       "    </tr>\n",
       "    <tr>\n",
       "      <th>1</th>\n",
       "      <td>2</td>\n",
       "      <td>0</td>\n",
       "    </tr>\n",
       "    <tr>\n",
       "      <th>2</th>\n",
       "      <td>1</td>\n",
       "      <td>1</td>\n",
       "    </tr>\n",
       "    <tr>\n",
       "      <th>3</th>\n",
       "      <td>2</td>\n",
       "      <td>1</td>\n",
       "    </tr>\n",
       "    <tr>\n",
       "      <th>4</th>\n",
       "      <td>2</td>\n",
       "      <td>0</td>\n",
       "    </tr>\n",
       "    <tr>\n",
       "      <th>...</th>\n",
       "      <td>...</td>\n",
       "      <td>...</td>\n",
       "    </tr>\n",
       "    <tr>\n",
       "      <th>413</th>\n",
       "      <td>2</td>\n",
       "      <td>1</td>\n",
       "    </tr>\n",
       "    <tr>\n",
       "      <th>414</th>\n",
       "      <td>0</td>\n",
       "      <td>0</td>\n",
       "    </tr>\n",
       "    <tr>\n",
       "      <th>415</th>\n",
       "      <td>2</td>\n",
       "      <td>1</td>\n",
       "    </tr>\n",
       "    <tr>\n",
       "      <th>416</th>\n",
       "      <td>2</td>\n",
       "      <td>1</td>\n",
       "    </tr>\n",
       "    <tr>\n",
       "      <th>417</th>\n",
       "      <td>0</td>\n",
       "      <td>1</td>\n",
       "    </tr>\n",
       "  </tbody>\n",
       "</table>\n",
       "<p>418 rows × 2 columns</p>\n",
       "</div>"
      ],
      "text/plain": [
       "     Embarked  Sex\n",
       "0           1    1\n",
       "1           2    0\n",
       "2           1    1\n",
       "3           2    1\n",
       "4           2    0\n",
       "..        ...  ...\n",
       "413         2    1\n",
       "414         0    0\n",
       "415         2    1\n",
       "416         2    1\n",
       "417         0    1\n",
       "\n",
       "[418 rows x 2 columns]"
      ]
     },
     "execution_count": 44,
     "metadata": {},
     "output_type": "execute_result"
    }
   ],
   "source": [
    "labeltest=pd.concat([labt,lab2t],axis=1)\n",
    "labeltest"
   ]
  },
  {
   "cell_type": "code",
   "execution_count": 45,
   "id": "4f39f97b",
   "metadata": {},
   "outputs": [
    {
     "data": {
      "text/plain": [
       "0    606\n",
       "1    209\n",
       "2     28\n",
       "4     18\n",
       "3     16\n",
       "8      7\n",
       "5      5\n",
       "Name: SibSp, dtype: int64"
      ]
     },
     "execution_count": 45,
     "metadata": {},
     "output_type": "execute_result"
    }
   ],
   "source": [
    "dftrain['SibSp'].value_counts()  # this columns is having only 7 values like label encoded"
   ]
  },
  {
   "cell_type": "code",
   "execution_count": 46,
   "id": "b33f15d9",
   "metadata": {},
   "outputs": [
    {
     "data": {
      "text/plain": [
       "0    676\n",
       "1    118\n",
       "2     80\n",
       "5      5\n",
       "3      5\n",
       "4      4\n",
       "6      1\n",
       "Name: Parch, dtype: int64"
      ]
     },
     "execution_count": 46,
     "metadata": {},
     "output_type": "execute_result"
    }
   ],
   "source": [
    "dftrain['Parch'].value_counts()  # this columns is having only 7 values like label encoded"
   ]
  },
  {
   "cell_type": "code",
   "execution_count": 47,
   "id": "26cf8b1d",
   "metadata": {},
   "outputs": [
    {
     "data": {
      "text/plain": [
       "3    491\n",
       "1    214\n",
       "2    184\n",
       "Name: Pclass, dtype: int64"
      ]
     },
     "execution_count": 47,
     "metadata": {},
     "output_type": "execute_result"
    }
   ],
   "source": [
    "dftrain['Pclass'].value_counts()  # this columns is having only 3 values like label encoded"
   ]
  },
  {
   "cell_type": "raw",
   "id": "e74b2654",
   "metadata": {},
   "source": [
    "#columns to avoid are:\n",
    "\n",
    "1)PassengerId:-just an identifier,no predictive value\n",
    "2)Name :-Unstructured text \n",
    "3)Ticket:-similar to name a unique identifier\n",
    "4)Cabin:-highly categorical not to perform encoding"
   ]
  },
  {
   "cell_type": "code",
   "execution_count": 48,
   "id": "0dd3e855",
   "metadata": {},
   "outputs": [
    {
     "data": {
      "text/html": [
       "<div>\n",
       "<style scoped>\n",
       "    .dataframe tbody tr th:only-of-type {\n",
       "        vertical-align: middle;\n",
       "    }\n",
       "\n",
       "    .dataframe tbody tr th {\n",
       "        vertical-align: top;\n",
       "    }\n",
       "\n",
       "    .dataframe thead th {\n",
       "        text-align: right;\n",
       "    }\n",
       "</style>\n",
       "<table border=\"1\" class=\"dataframe\">\n",
       "  <thead>\n",
       "    <tr style=\"text-align: right;\">\n",
       "      <th></th>\n",
       "      <th>Age</th>\n",
       "      <th>Fare</th>\n",
       "    </tr>\n",
       "  </thead>\n",
       "  <tbody>\n",
       "    <tr>\n",
       "      <th>0</th>\n",
       "      <td>0.271174</td>\n",
       "      <td>0.014151</td>\n",
       "    </tr>\n",
       "    <tr>\n",
       "      <th>1</th>\n",
       "      <td>0.472229</td>\n",
       "      <td>0.139136</td>\n",
       "    </tr>\n",
       "    <tr>\n",
       "      <th>2</th>\n",
       "      <td>0.321438</td>\n",
       "      <td>0.015469</td>\n",
       "    </tr>\n",
       "    <tr>\n",
       "      <th>3</th>\n",
       "      <td>0.434531</td>\n",
       "      <td>0.103644</td>\n",
       "    </tr>\n",
       "    <tr>\n",
       "      <th>4</th>\n",
       "      <td>0.434531</td>\n",
       "      <td>0.015713</td>\n",
       "    </tr>\n",
       "    <tr>\n",
       "      <th>...</th>\n",
       "      <td>...</td>\n",
       "      <td>...</td>\n",
       "    </tr>\n",
       "    <tr>\n",
       "      <th>884</th>\n",
       "      <td>0.334004</td>\n",
       "      <td>0.025374</td>\n",
       "    </tr>\n",
       "    <tr>\n",
       "      <th>885</th>\n",
       "      <td>0.233476</td>\n",
       "      <td>0.058556</td>\n",
       "    </tr>\n",
       "    <tr>\n",
       "      <th>886</th>\n",
       "      <td>0.367921</td>\n",
       "      <td>0.045771</td>\n",
       "    </tr>\n",
       "    <tr>\n",
       "      <th>887</th>\n",
       "      <td>0.321438</td>\n",
       "      <td>0.058556</td>\n",
       "    </tr>\n",
       "    <tr>\n",
       "      <th>888</th>\n",
       "      <td>0.396833</td>\n",
       "      <td>0.015127</td>\n",
       "    </tr>\n",
       "  </tbody>\n",
       "</table>\n",
       "<p>889 rows × 2 columns</p>\n",
       "</div>"
      ],
      "text/plain": [
       "          Age      Fare\n",
       "0    0.271174  0.014151\n",
       "1    0.472229  0.139136\n",
       "2    0.321438  0.015469\n",
       "3    0.434531  0.103644\n",
       "4    0.434531  0.015713\n",
       "..        ...       ...\n",
       "884  0.334004  0.025374\n",
       "885  0.233476  0.058556\n",
       "886  0.367921  0.045771\n",
       "887  0.321438  0.058556\n",
       "888  0.396833  0.015127\n",
       "\n",
       "[889 rows x 2 columns]"
      ]
     },
     "execution_count": 48,
     "metadata": {},
     "output_type": "execute_result"
    }
   ],
   "source": [
    "#Colums to be Standardize or Normalize\n",
    "\n",
    "from sklearn.preprocessing import MinMaxScaler\n",
    "\n",
    "scaler=MinMaxScaler()\n",
    "\n",
    "scale=scaler.fit_transform(dftrain[['Age','Fare']])\n",
    "scale=pd.DataFrame(scale)\n",
    "scale.columns=['Age','Fare']\n",
    "\n",
    "\n",
    "#for test data \n",
    "\n",
    "scaler=MinMaxScaler()\n",
    "\n",
    "scalet=scaler.fit_transform(dftest[['Age','Fare']])\n",
    "scalet=pd.DataFrame(scalet)\n",
    "scalet.columns=['Age','Fare']\n",
    "\n",
    "scale"
   ]
  },
  {
   "cell_type": "code",
   "execution_count": null,
   "id": "ba944219",
   "metadata": {},
   "outputs": [],
   "source": []
  },
  {
   "cell_type": "code",
   "execution_count": 49,
   "id": "632c52e8",
   "metadata": {},
   "outputs": [
    {
     "data": {
      "text/html": [
       "<div>\n",
       "<style scoped>\n",
       "    .dataframe tbody tr th:only-of-type {\n",
       "        vertical-align: middle;\n",
       "    }\n",
       "\n",
       "    .dataframe tbody tr th {\n",
       "        vertical-align: top;\n",
       "    }\n",
       "\n",
       "    .dataframe thead th {\n",
       "        text-align: right;\n",
       "    }\n",
       "</style>\n",
       "<table border=\"1\" class=\"dataframe\">\n",
       "  <thead>\n",
       "    <tr style=\"text-align: right;\">\n",
       "      <th></th>\n",
       "      <th>Age</th>\n",
       "      <th>Fare</th>\n",
       "      <th>Embarked</th>\n",
       "      <th>Sex</th>\n",
       "      <th>SibSp</th>\n",
       "      <th>Parch</th>\n",
       "      <th>Pclass</th>\n",
       "      <th>Survived</th>\n",
       "    </tr>\n",
       "  </thead>\n",
       "  <tbody>\n",
       "    <tr>\n",
       "      <th>0</th>\n",
       "      <td>0.271174</td>\n",
       "      <td>0.014151</td>\n",
       "      <td>2.0</td>\n",
       "      <td>1.0</td>\n",
       "      <td>1.0</td>\n",
       "      <td>0.0</td>\n",
       "      <td>3.0</td>\n",
       "      <td>0.0</td>\n",
       "    </tr>\n",
       "    <tr>\n",
       "      <th>1</th>\n",
       "      <td>0.472229</td>\n",
       "      <td>0.139136</td>\n",
       "      <td>0.0</td>\n",
       "      <td>0.0</td>\n",
       "      <td>1.0</td>\n",
       "      <td>0.0</td>\n",
       "      <td>1.0</td>\n",
       "      <td>1.0</td>\n",
       "    </tr>\n",
       "    <tr>\n",
       "      <th>2</th>\n",
       "      <td>0.321438</td>\n",
       "      <td>0.015469</td>\n",
       "      <td>2.0</td>\n",
       "      <td>0.0</td>\n",
       "      <td>0.0</td>\n",
       "      <td>0.0</td>\n",
       "      <td>3.0</td>\n",
       "      <td>1.0</td>\n",
       "    </tr>\n",
       "    <tr>\n",
       "      <th>3</th>\n",
       "      <td>0.434531</td>\n",
       "      <td>0.103644</td>\n",
       "      <td>2.0</td>\n",
       "      <td>0.0</td>\n",
       "      <td>1.0</td>\n",
       "      <td>0.0</td>\n",
       "      <td>1.0</td>\n",
       "      <td>1.0</td>\n",
       "    </tr>\n",
       "    <tr>\n",
       "      <th>4</th>\n",
       "      <td>0.434531</td>\n",
       "      <td>0.015713</td>\n",
       "      <td>2.0</td>\n",
       "      <td>1.0</td>\n",
       "      <td>0.0</td>\n",
       "      <td>0.0</td>\n",
       "      <td>3.0</td>\n",
       "      <td>0.0</td>\n",
       "    </tr>\n",
       "    <tr>\n",
       "      <th>...</th>\n",
       "      <td>...</td>\n",
       "      <td>...</td>\n",
       "      <td>...</td>\n",
       "      <td>...</td>\n",
       "      <td>...</td>\n",
       "      <td>...</td>\n",
       "      <td>...</td>\n",
       "      <td>...</td>\n",
       "    </tr>\n",
       "    <tr>\n",
       "      <th>884</th>\n",
       "      <td>0.334004</td>\n",
       "      <td>0.025374</td>\n",
       "      <td>2.0</td>\n",
       "      <td>1.0</td>\n",
       "      <td>0.0</td>\n",
       "      <td>0.0</td>\n",
       "      <td>3.0</td>\n",
       "      <td>0.0</td>\n",
       "    </tr>\n",
       "    <tr>\n",
       "      <th>885</th>\n",
       "      <td>0.233476</td>\n",
       "      <td>0.058556</td>\n",
       "      <td>2.0</td>\n",
       "      <td>0.0</td>\n",
       "      <td>0.0</td>\n",
       "      <td>5.0</td>\n",
       "      <td>3.0</td>\n",
       "      <td>0.0</td>\n",
       "    </tr>\n",
       "    <tr>\n",
       "      <th>886</th>\n",
       "      <td>0.367921</td>\n",
       "      <td>0.045771</td>\n",
       "      <td>2.0</td>\n",
       "      <td>0.0</td>\n",
       "      <td>0.0</td>\n",
       "      <td>0.0</td>\n",
       "      <td>2.0</td>\n",
       "      <td>0.0</td>\n",
       "    </tr>\n",
       "    <tr>\n",
       "      <th>887</th>\n",
       "      <td>0.321438</td>\n",
       "      <td>0.058556</td>\n",
       "      <td>0.0</td>\n",
       "      <td>1.0</td>\n",
       "      <td>0.0</td>\n",
       "      <td>0.0</td>\n",
       "      <td>1.0</td>\n",
       "      <td>1.0</td>\n",
       "    </tr>\n",
       "    <tr>\n",
       "      <th>888</th>\n",
       "      <td>0.396833</td>\n",
       "      <td>0.015127</td>\n",
       "      <td>1.0</td>\n",
       "      <td>1.0</td>\n",
       "      <td>1.0</td>\n",
       "      <td>2.0</td>\n",
       "      <td>3.0</td>\n",
       "      <td>0.0</td>\n",
       "    </tr>\n",
       "  </tbody>\n",
       "</table>\n",
       "<p>887 rows × 8 columns</p>\n",
       "</div>"
      ],
      "text/plain": [
       "          Age      Fare  Embarked  Sex  SibSp  Parch  Pclass  Survived\n",
       "0    0.271174  0.014151       2.0  1.0    1.0    0.0     3.0       0.0\n",
       "1    0.472229  0.139136       0.0  0.0    1.0    0.0     1.0       1.0\n",
       "2    0.321438  0.015469       2.0  0.0    0.0    0.0     3.0       1.0\n",
       "3    0.434531  0.103644       2.0  0.0    1.0    0.0     1.0       1.0\n",
       "4    0.434531  0.015713       2.0  1.0    0.0    0.0     3.0       0.0\n",
       "..        ...       ...       ...  ...    ...    ...     ...       ...\n",
       "884  0.334004  0.025374       2.0  1.0    0.0    0.0     3.0       0.0\n",
       "885  0.233476  0.058556       2.0  0.0    0.0    5.0     3.0       0.0\n",
       "886  0.367921  0.045771       2.0  0.0    0.0    0.0     2.0       0.0\n",
       "887  0.321438  0.058556       0.0  1.0    0.0    0.0     1.0       1.0\n",
       "888  0.396833  0.015127       1.0  1.0    1.0    2.0     3.0       0.0\n",
       "\n",
       "[887 rows x 8 columns]"
      ]
     },
     "execution_count": 49,
     "metadata": {},
     "output_type": "execute_result"
    }
   ],
   "source": [
    "#merging the all transformed columns in a single dataset\n",
    "\n",
    "#train\n",
    "\n",
    "df3=dftrain[['SibSp','Parch','Pclass','Survived']]\n",
    "\n",
    "df_train=pd.concat([scale,labeltrain,df3],axis=1)\n",
    "\n",
    "df_train.dropna(inplace=True)  #checks for any null values and drop them\n",
    "df_train.isnull().sum()\n",
    "\n",
    "df_train"
   ]
  },
  {
   "cell_type": "code",
   "execution_count": null,
   "id": "6ed63c21",
   "metadata": {},
   "outputs": [],
   "source": []
  },
  {
   "cell_type": "code",
   "execution_count": 50,
   "id": "d7fd8e62",
   "metadata": {},
   "outputs": [
    {
     "data": {
      "text/html": [
       "<div>\n",
       "<style scoped>\n",
       "    .dataframe tbody tr th:only-of-type {\n",
       "        vertical-align: middle;\n",
       "    }\n",
       "\n",
       "    .dataframe tbody tr th {\n",
       "        vertical-align: top;\n",
       "    }\n",
       "\n",
       "    .dataframe thead th {\n",
       "        text-align: right;\n",
       "    }\n",
       "</style>\n",
       "<table border=\"1\" class=\"dataframe\">\n",
       "  <thead>\n",
       "    <tr style=\"text-align: right;\">\n",
       "      <th></th>\n",
       "      <th>Age</th>\n",
       "      <th>Fare</th>\n",
       "      <th>Embarked</th>\n",
       "      <th>Sex</th>\n",
       "      <th>SibSp</th>\n",
       "      <th>Parch</th>\n",
       "      <th>Pclass</th>\n",
       "    </tr>\n",
       "  </thead>\n",
       "  <tbody>\n",
       "    <tr>\n",
       "      <th>0</th>\n",
       "      <td>0.452723</td>\n",
       "      <td>0.015282</td>\n",
       "      <td>1</td>\n",
       "      <td>1</td>\n",
       "      <td>0</td>\n",
       "      <td>3</td>\n",
       "      <td>0</td>\n",
       "    </tr>\n",
       "    <tr>\n",
       "      <th>1</th>\n",
       "      <td>0.617566</td>\n",
       "      <td>0.013663</td>\n",
       "      <td>2</td>\n",
       "      <td>0</td>\n",
       "      <td>1</td>\n",
       "      <td>3</td>\n",
       "      <td>0</td>\n",
       "    </tr>\n",
       "    <tr>\n",
       "      <th>2</th>\n",
       "      <td>0.815377</td>\n",
       "      <td>0.018909</td>\n",
       "      <td>1</td>\n",
       "      <td>1</td>\n",
       "      <td>0</td>\n",
       "      <td>2</td>\n",
       "      <td>0</td>\n",
       "    </tr>\n",
       "    <tr>\n",
       "      <th>3</th>\n",
       "      <td>0.353818</td>\n",
       "      <td>0.016908</td>\n",
       "      <td>2</td>\n",
       "      <td>1</td>\n",
       "      <td>0</td>\n",
       "      <td>3</td>\n",
       "      <td>0</td>\n",
       "    </tr>\n",
       "    <tr>\n",
       "      <th>4</th>\n",
       "      <td>0.287881</td>\n",
       "      <td>0.023984</td>\n",
       "      <td>2</td>\n",
       "      <td>0</td>\n",
       "      <td>1</td>\n",
       "      <td>3</td>\n",
       "      <td>1</td>\n",
       "    </tr>\n",
       "    <tr>\n",
       "      <th>...</th>\n",
       "      <td>...</td>\n",
       "      <td>...</td>\n",
       "      <td>...</td>\n",
       "      <td>...</td>\n",
       "      <td>...</td>\n",
       "      <td>...</td>\n",
       "      <td>...</td>\n",
       "    </tr>\n",
       "    <tr>\n",
       "      <th>413</th>\n",
       "      <td>0.396975</td>\n",
       "      <td>0.015713</td>\n",
       "      <td>2</td>\n",
       "      <td>1</td>\n",
       "      <td>0</td>\n",
       "      <td>3</td>\n",
       "      <td>0</td>\n",
       "    </tr>\n",
       "    <tr>\n",
       "      <th>414</th>\n",
       "      <td>0.512066</td>\n",
       "      <td>0.212559</td>\n",
       "      <td>0</td>\n",
       "      <td>0</td>\n",
       "      <td>0</td>\n",
       "      <td>1</td>\n",
       "      <td>0</td>\n",
       "    </tr>\n",
       "    <tr>\n",
       "      <th>415</th>\n",
       "      <td>0.505473</td>\n",
       "      <td>0.014151</td>\n",
       "      <td>2</td>\n",
       "      <td>1</td>\n",
       "      <td>0</td>\n",
       "      <td>3</td>\n",
       "      <td>0</td>\n",
       "    </tr>\n",
       "    <tr>\n",
       "      <th>416</th>\n",
       "      <td>0.396975</td>\n",
       "      <td>0.015713</td>\n",
       "      <td>2</td>\n",
       "      <td>1</td>\n",
       "      <td>0</td>\n",
       "      <td>3</td>\n",
       "      <td>0</td>\n",
       "    </tr>\n",
       "    <tr>\n",
       "      <th>417</th>\n",
       "      <td>0.396975</td>\n",
       "      <td>0.043640</td>\n",
       "      <td>0</td>\n",
       "      <td>1</td>\n",
       "      <td>1</td>\n",
       "      <td>3</td>\n",
       "      <td>1</td>\n",
       "    </tr>\n",
       "  </tbody>\n",
       "</table>\n",
       "<p>418 rows × 7 columns</p>\n",
       "</div>"
      ],
      "text/plain": [
       "          Age      Fare  Embarked  Sex  SibSp  Parch  Pclass\n",
       "0    0.452723  0.015282         1    1      0      3       0\n",
       "1    0.617566  0.013663         2    0      1      3       0\n",
       "2    0.815377  0.018909         1    1      0      2       0\n",
       "3    0.353818  0.016908         2    1      0      3       0\n",
       "4    0.287881  0.023984         2    0      1      3       1\n",
       "..        ...       ...       ...  ...    ...    ...     ...\n",
       "413  0.396975  0.015713         2    1      0      3       0\n",
       "414  0.512066  0.212559         0    0      0      1       0\n",
       "415  0.505473  0.014151         2    1      0      3       0\n",
       "416  0.396975  0.015713         2    1      0      3       0\n",
       "417  0.396975  0.043640         0    1      1      3       1\n",
       "\n",
       "[418 rows x 7 columns]"
      ]
     },
     "execution_count": 50,
     "metadata": {},
     "output_type": "execute_result"
    }
   ],
   "source": [
    "#merging all  the test dataset after data transformation\n",
    "\n",
    "df2=dftest[['SibSp','Pclass','Parch']]\n",
    "\n",
    "df_test=pd.concat([scalet,labeltest,df2],axis=1,ignore_index=True)\n",
    "\n",
    "df_test.columns=['Age','Fare','Embarked','Sex','SibSp','Parch','Pclass']\n",
    "\n",
    "df_test"
   ]
  },
  {
   "cell_type": "code",
   "execution_count": 51,
   "id": "9d46b9f6",
   "metadata": {},
   "outputs": [
    {
     "data": {
      "text/plain": [
       "Age         0\n",
       "Fare        1\n",
       "Embarked    0\n",
       "Sex         0\n",
       "SibSp       0\n",
       "Parch       0\n",
       "Pclass      0\n",
       "dtype: int64"
      ]
     },
     "execution_count": 51,
     "metadata": {},
     "output_type": "execute_result"
    }
   ],
   "source": [
    "df_test.isna().sum()"
   ]
  },
  {
   "cell_type": "code",
   "execution_count": 52,
   "id": "fe2d3634",
   "metadata": {},
   "outputs": [],
   "source": [
    "df_test.dropna(inplace=True)"
   ]
  },
  {
   "cell_type": "markdown",
   "id": "55cb607f",
   "metadata": {},
   "source": [
    "# 3. Model Building:\n",
    "\n",
    "a. Build a logistic regression model using appropriate libraries (e.g., scikit-learn).\n",
    "\n",
    "b. Train the model using the training data."
   ]
  },
  {
   "cell_type": "code",
   "execution_count": 53,
   "id": "a22db0a4",
   "metadata": {},
   "outputs": [],
   "source": [
    "#in this problem the data is already partation into train and test so we\n",
    "#are not splitting the data into train and test and we are fiiting the \n",
    "#model on train data and test on test data\n",
    "\n",
    "x=df_train.iloc[:,:7]  #independent variables using only pandas iloc func\n",
    "y=df_train['Survived']  #Dependent variable\n",
    "\n"
   ]
  },
  {
   "cell_type": "code",
   "execution_count": 54,
   "id": "2c5e190d",
   "metadata": {},
   "outputs": [],
   "source": [
    "from sklearn.linear_model import LogisticRegression  #import the model \n",
    "\n",
    "model=LogisticRegression()     #creating a instance\n",
    "\n",
    "log=model.fit(x,y)             #fitting the model\n",
    "\n",
    "y_pred=model.predict(x)        #predicting on x data\n",
    "\n",
    "\n",
    "\n",
    "y_pred_train=pd.DataFrame(y_pred,columns=['y_pred'])  #craeting a dataframe\n",
    "\n"
   ]
  },
  {
   "cell_type": "code",
   "execution_count": 55,
   "id": "685f7898",
   "metadata": {},
   "outputs": [
    {
     "data": {
      "text/html": [
       "<div>\n",
       "<style scoped>\n",
       "    .dataframe tbody tr th:only-of-type {\n",
       "        vertical-align: middle;\n",
       "    }\n",
       "\n",
       "    .dataframe tbody tr th {\n",
       "        vertical-align: top;\n",
       "    }\n",
       "\n",
       "    .dataframe thead th {\n",
       "        text-align: right;\n",
       "    }\n",
       "</style>\n",
       "<table border=\"1\" class=\"dataframe\">\n",
       "  <thead>\n",
       "    <tr style=\"text-align: right;\">\n",
       "      <th></th>\n",
       "      <th>Age</th>\n",
       "      <th>Fare</th>\n",
       "      <th>Embarked</th>\n",
       "      <th>Sex</th>\n",
       "      <th>SibSp</th>\n",
       "      <th>Parch</th>\n",
       "      <th>Pclass</th>\n",
       "      <th>Survived</th>\n",
       "      <th>y_pred</th>\n",
       "    </tr>\n",
       "  </thead>\n",
       "  <tbody>\n",
       "    <tr>\n",
       "      <th>0</th>\n",
       "      <td>0.271174</td>\n",
       "      <td>0.014151</td>\n",
       "      <td>2.0</td>\n",
       "      <td>1.0</td>\n",
       "      <td>1.0</td>\n",
       "      <td>0.0</td>\n",
       "      <td>3.0</td>\n",
       "      <td>0.0</td>\n",
       "      <td>0.0</td>\n",
       "    </tr>\n",
       "    <tr>\n",
       "      <th>1</th>\n",
       "      <td>0.472229</td>\n",
       "      <td>0.139136</td>\n",
       "      <td>0.0</td>\n",
       "      <td>0.0</td>\n",
       "      <td>1.0</td>\n",
       "      <td>0.0</td>\n",
       "      <td>1.0</td>\n",
       "      <td>1.0</td>\n",
       "      <td>1.0</td>\n",
       "    </tr>\n",
       "    <tr>\n",
       "      <th>2</th>\n",
       "      <td>0.321438</td>\n",
       "      <td>0.015469</td>\n",
       "      <td>2.0</td>\n",
       "      <td>0.0</td>\n",
       "      <td>0.0</td>\n",
       "      <td>0.0</td>\n",
       "      <td>3.0</td>\n",
       "      <td>1.0</td>\n",
       "      <td>0.0</td>\n",
       "    </tr>\n",
       "    <tr>\n",
       "      <th>3</th>\n",
       "      <td>0.434531</td>\n",
       "      <td>0.103644</td>\n",
       "      <td>2.0</td>\n",
       "      <td>0.0</td>\n",
       "      <td>1.0</td>\n",
       "      <td>0.0</td>\n",
       "      <td>1.0</td>\n",
       "      <td>1.0</td>\n",
       "      <td>1.0</td>\n",
       "    </tr>\n",
       "    <tr>\n",
       "      <th>4</th>\n",
       "      <td>0.434531</td>\n",
       "      <td>0.015713</td>\n",
       "      <td>2.0</td>\n",
       "      <td>1.0</td>\n",
       "      <td>0.0</td>\n",
       "      <td>0.0</td>\n",
       "      <td>3.0</td>\n",
       "      <td>0.0</td>\n",
       "      <td>0.0</td>\n",
       "    </tr>\n",
       "    <tr>\n",
       "      <th>...</th>\n",
       "      <td>...</td>\n",
       "      <td>...</td>\n",
       "      <td>...</td>\n",
       "      <td>...</td>\n",
       "      <td>...</td>\n",
       "      <td>...</td>\n",
       "      <td>...</td>\n",
       "      <td>...</td>\n",
       "      <td>...</td>\n",
       "    </tr>\n",
       "    <tr>\n",
       "      <th>882</th>\n",
       "      <td>0.334004</td>\n",
       "      <td>0.025374</td>\n",
       "      <td>2.0</td>\n",
       "      <td>1.0</td>\n",
       "      <td>0.0</td>\n",
       "      <td>0.0</td>\n",
       "      <td>3.0</td>\n",
       "      <td>0.0</td>\n",
       "      <td>0.0</td>\n",
       "    </tr>\n",
       "    <tr>\n",
       "      <th>883</th>\n",
       "      <td>0.233476</td>\n",
       "      <td>0.058556</td>\n",
       "      <td>2.0</td>\n",
       "      <td>0.0</td>\n",
       "      <td>0.0</td>\n",
       "      <td>5.0</td>\n",
       "      <td>3.0</td>\n",
       "      <td>0.0</td>\n",
       "      <td>1.0</td>\n",
       "    </tr>\n",
       "    <tr>\n",
       "      <th>884</th>\n",
       "      <td>0.367921</td>\n",
       "      <td>0.045771</td>\n",
       "      <td>2.0</td>\n",
       "      <td>0.0</td>\n",
       "      <td>0.0</td>\n",
       "      <td>0.0</td>\n",
       "      <td>2.0</td>\n",
       "      <td>0.0</td>\n",
       "      <td>0.0</td>\n",
       "    </tr>\n",
       "    <tr>\n",
       "      <th>885</th>\n",
       "      <td>0.321438</td>\n",
       "      <td>0.058556</td>\n",
       "      <td>0.0</td>\n",
       "      <td>1.0</td>\n",
       "      <td>0.0</td>\n",
       "      <td>0.0</td>\n",
       "      <td>1.0</td>\n",
       "      <td>1.0</td>\n",
       "      <td>1.0</td>\n",
       "    </tr>\n",
       "    <tr>\n",
       "      <th>886</th>\n",
       "      <td>0.396833</td>\n",
       "      <td>0.015127</td>\n",
       "      <td>1.0</td>\n",
       "      <td>1.0</td>\n",
       "      <td>1.0</td>\n",
       "      <td>2.0</td>\n",
       "      <td>3.0</td>\n",
       "      <td>0.0</td>\n",
       "      <td>0.0</td>\n",
       "    </tr>\n",
       "  </tbody>\n",
       "</table>\n",
       "<p>887 rows × 9 columns</p>\n",
       "</div>"
      ],
      "text/plain": [
       "          Age      Fare  Embarked  Sex  SibSp  Parch  Pclass  Survived  y_pred\n",
       "0    0.271174  0.014151       2.0  1.0    1.0    0.0     3.0       0.0     0.0\n",
       "1    0.472229  0.139136       0.0  0.0    1.0    0.0     1.0       1.0     1.0\n",
       "2    0.321438  0.015469       2.0  0.0    0.0    0.0     3.0       1.0     0.0\n",
       "3    0.434531  0.103644       2.0  0.0    1.0    0.0     1.0       1.0     1.0\n",
       "4    0.434531  0.015713       2.0  1.0    0.0    0.0     3.0       0.0     0.0\n",
       "..        ...       ...       ...  ...    ...    ...     ...       ...     ...\n",
       "882  0.334004  0.025374       2.0  1.0    0.0    0.0     3.0       0.0     0.0\n",
       "883  0.233476  0.058556       2.0  0.0    0.0    5.0     3.0       0.0     1.0\n",
       "884  0.367921  0.045771       2.0  0.0    0.0    0.0     2.0       0.0     0.0\n",
       "885  0.321438  0.058556       0.0  1.0    0.0    0.0     1.0       1.0     1.0\n",
       "886  0.396833  0.015127       1.0  1.0    1.0    2.0     3.0       0.0     0.0\n",
       "\n",
       "[887 rows x 9 columns]"
      ]
     },
     "execution_count": 55,
     "metadata": {},
     "output_type": "execute_result"
    }
   ],
   "source": [
    "df_train.reset_index(drop=True, inplace=True)      #resetting the index because it may gets suffed\n",
    "y_pred_train.reset_index(drop=True, inplace=True)\n",
    "df_train1= pd.concat([df_train, y_pred_train], axis=1)  #concating both pred and train data to see difference\n",
    "df_train1"
   ]
  },
  {
   "cell_type": "code",
   "execution_count": 56,
   "id": "8dff21bf",
   "metadata": {},
   "outputs": [
    {
     "data": {
      "text/plain": [
       "array([0.784895  , 0.215105  , 0.38921681, ..., 0.61973448, 0.66155553,\n",
       "       0.33844447])"
      ]
     },
     "execution_count": 56,
     "metadata": {},
     "output_type": "execute_result"
    }
   ],
   "source": [
    "prob=model.predict_proba(x)\n",
    "\n",
    "prob=prob.ravel()\n",
    "prob"
   ]
  },
  {
   "cell_type": "code",
   "execution_count": 57,
   "id": "dfbc24ba",
   "metadata": {},
   "outputs": [
    {
     "data": {
      "text/html": [
       "<div>\n",
       "<style scoped>\n",
       "    .dataframe tbody tr th:only-of-type {\n",
       "        vertical-align: middle;\n",
       "    }\n",
       "\n",
       "    .dataframe tbody tr th {\n",
       "        vertical-align: top;\n",
       "    }\n",
       "\n",
       "    .dataframe thead th {\n",
       "        text-align: right;\n",
       "    }\n",
       "</style>\n",
       "<table border=\"1\" class=\"dataframe\">\n",
       "  <thead>\n",
       "    <tr style=\"text-align: right;\">\n",
       "      <th></th>\n",
       "      <th>Age</th>\n",
       "      <th>Fare</th>\n",
       "      <th>Embarked</th>\n",
       "      <th>Sex</th>\n",
       "      <th>SibSp</th>\n",
       "      <th>Parch</th>\n",
       "      <th>Pclass</th>\n",
       "      <th>Survived</th>\n",
       "      <th>y_pred</th>\n",
       "      <th>predicted_prob</th>\n",
       "    </tr>\n",
       "  </thead>\n",
       "  <tbody>\n",
       "    <tr>\n",
       "      <th>0</th>\n",
       "      <td>0.271174</td>\n",
       "      <td>0.014151</td>\n",
       "      <td>2.0</td>\n",
       "      <td>1.0</td>\n",
       "      <td>1.0</td>\n",
       "      <td>0.0</td>\n",
       "      <td>3.0</td>\n",
       "      <td>0.0</td>\n",
       "      <td>0.0</td>\n",
       "      <td>0.784895</td>\n",
       "    </tr>\n",
       "    <tr>\n",
       "      <th>1</th>\n",
       "      <td>0.472229</td>\n",
       "      <td>0.139136</td>\n",
       "      <td>0.0</td>\n",
       "      <td>0.0</td>\n",
       "      <td>1.0</td>\n",
       "      <td>0.0</td>\n",
       "      <td>1.0</td>\n",
       "      <td>1.0</td>\n",
       "      <td>1.0</td>\n",
       "      <td>0.215105</td>\n",
       "    </tr>\n",
       "    <tr>\n",
       "      <th>2</th>\n",
       "      <td>0.321438</td>\n",
       "      <td>0.015469</td>\n",
       "      <td>2.0</td>\n",
       "      <td>0.0</td>\n",
       "      <td>0.0</td>\n",
       "      <td>0.0</td>\n",
       "      <td>3.0</td>\n",
       "      <td>1.0</td>\n",
       "      <td>0.0</td>\n",
       "      <td>0.389217</td>\n",
       "    </tr>\n",
       "    <tr>\n",
       "      <th>3</th>\n",
       "      <td>0.434531</td>\n",
       "      <td>0.103644</td>\n",
       "      <td>2.0</td>\n",
       "      <td>0.0</td>\n",
       "      <td>1.0</td>\n",
       "      <td>0.0</td>\n",
       "      <td>1.0</td>\n",
       "      <td>1.0</td>\n",
       "      <td>1.0</td>\n",
       "      <td>0.610783</td>\n",
       "    </tr>\n",
       "    <tr>\n",
       "      <th>4</th>\n",
       "      <td>0.434531</td>\n",
       "      <td>0.015713</td>\n",
       "      <td>2.0</td>\n",
       "      <td>1.0</td>\n",
       "      <td>0.0</td>\n",
       "      <td>0.0</td>\n",
       "      <td>3.0</td>\n",
       "      <td>0.0</td>\n",
       "      <td>0.0</td>\n",
       "      <td>0.750091</td>\n",
       "    </tr>\n",
       "    <tr>\n",
       "      <th>...</th>\n",
       "      <td>...</td>\n",
       "      <td>...</td>\n",
       "      <td>...</td>\n",
       "      <td>...</td>\n",
       "      <td>...</td>\n",
       "      <td>...</td>\n",
       "      <td>...</td>\n",
       "      <td>...</td>\n",
       "      <td>...</td>\n",
       "      <td>...</td>\n",
       "    </tr>\n",
       "    <tr>\n",
       "      <th>882</th>\n",
       "      <td>0.334004</td>\n",
       "      <td>0.025374</td>\n",
       "      <td>2.0</td>\n",
       "      <td>1.0</td>\n",
       "      <td>0.0</td>\n",
       "      <td>0.0</td>\n",
       "      <td>3.0</td>\n",
       "      <td>0.0</td>\n",
       "      <td>0.0</td>\n",
       "      <td>0.770123</td>\n",
       "    </tr>\n",
       "    <tr>\n",
       "      <th>883</th>\n",
       "      <td>0.233476</td>\n",
       "      <td>0.058556</td>\n",
       "      <td>2.0</td>\n",
       "      <td>0.0</td>\n",
       "      <td>0.0</td>\n",
       "      <td>5.0</td>\n",
       "      <td>3.0</td>\n",
       "      <td>0.0</td>\n",
       "      <td>1.0</td>\n",
       "      <td>0.229877</td>\n",
       "    </tr>\n",
       "    <tr>\n",
       "      <th>884</th>\n",
       "      <td>0.367921</td>\n",
       "      <td>0.045771</td>\n",
       "      <td>2.0</td>\n",
       "      <td>0.0</td>\n",
       "      <td>0.0</td>\n",
       "      <td>0.0</td>\n",
       "      <td>2.0</td>\n",
       "      <td>0.0</td>\n",
       "      <td>0.0</td>\n",
       "      <td>0.586431</td>\n",
       "    </tr>\n",
       "    <tr>\n",
       "      <th>885</th>\n",
       "      <td>0.321438</td>\n",
       "      <td>0.058556</td>\n",
       "      <td>0.0</td>\n",
       "      <td>1.0</td>\n",
       "      <td>0.0</td>\n",
       "      <td>0.0</td>\n",
       "      <td>1.0</td>\n",
       "      <td>1.0</td>\n",
       "      <td>1.0</td>\n",
       "      <td>0.413569</td>\n",
       "    </tr>\n",
       "    <tr>\n",
       "      <th>886</th>\n",
       "      <td>0.396833</td>\n",
       "      <td>0.015127</td>\n",
       "      <td>1.0</td>\n",
       "      <td>1.0</td>\n",
       "      <td>1.0</td>\n",
       "      <td>2.0</td>\n",
       "      <td>3.0</td>\n",
       "      <td>0.0</td>\n",
       "      <td>0.0</td>\n",
       "      <td>0.774497</td>\n",
       "    </tr>\n",
       "  </tbody>\n",
       "</table>\n",
       "<p>887 rows × 10 columns</p>\n",
       "</div>"
      ],
      "text/plain": [
       "          Age      Fare  Embarked  Sex  SibSp  Parch  Pclass  Survived  \\\n",
       "0    0.271174  0.014151       2.0  1.0    1.0    0.0     3.0       0.0   \n",
       "1    0.472229  0.139136       0.0  0.0    1.0    0.0     1.0       1.0   \n",
       "2    0.321438  0.015469       2.0  0.0    0.0    0.0     3.0       1.0   \n",
       "3    0.434531  0.103644       2.0  0.0    1.0    0.0     1.0       1.0   \n",
       "4    0.434531  0.015713       2.0  1.0    0.0    0.0     3.0       0.0   \n",
       "..        ...       ...       ...  ...    ...    ...     ...       ...   \n",
       "882  0.334004  0.025374       2.0  1.0    0.0    0.0     3.0       0.0   \n",
       "883  0.233476  0.058556       2.0  0.0    0.0    5.0     3.0       0.0   \n",
       "884  0.367921  0.045771       2.0  0.0    0.0    0.0     2.0       0.0   \n",
       "885  0.321438  0.058556       0.0  1.0    0.0    0.0     1.0       1.0   \n",
       "886  0.396833  0.015127       1.0  1.0    1.0    2.0     3.0       0.0   \n",
       "\n",
       "     y_pred  predicted_prob  \n",
       "0       0.0        0.784895  \n",
       "1       1.0        0.215105  \n",
       "2       0.0        0.389217  \n",
       "3       1.0        0.610783  \n",
       "4       0.0        0.750091  \n",
       "..      ...             ...  \n",
       "882     0.0        0.770123  \n",
       "883     1.0        0.229877  \n",
       "884     0.0        0.586431  \n",
       "885     1.0        0.413569  \n",
       "886     0.0        0.774497  \n",
       "\n",
       "[887 rows x 10 columns]"
      ]
     },
     "execution_count": 57,
     "metadata": {},
     "output_type": "execute_result"
    }
   ],
   "source": [
    "#creating a column in table to see the predicted probability \n",
    "\n",
    "\n",
    "df_train1['predicted_prob']=pd.DataFrame(prob)\n",
    "\n",
    "df_train1"
   ]
  },
  {
   "cell_type": "code",
   "execution_count": 58,
   "id": "f2363bf4",
   "metadata": {},
   "outputs": [
    {
     "data": {
      "text/plain": [
       "y_test_pred\n",
       "1.0            401\n",
       "0.0             16\n",
       "dtype: int64"
      ]
     },
     "execution_count": 58,
     "metadata": {},
     "output_type": "execute_result"
    }
   ],
   "source": [
    "x2=df_test.iloc[:,:]            #for total test dataset\n",
    "y_test_pred=model.predict(x2)   #predicting on x data\n",
    "\n",
    "y_test_pred=pd.DataFrame(y_test_pred,columns=['y_test_pred'])   #creating a dataframe\n",
    "\n",
    "y_test_pred.value_counts()"
   ]
  },
  {
   "cell_type": "markdown",
   "id": "e52e86ec",
   "metadata": {},
   "source": [
    "# cross validation"
   ]
  },
  {
   "cell_type": "code",
   "execution_count": 59,
   "id": "905206b3",
   "metadata": {},
   "outputs": [
    {
     "name": "stdout",
     "output_type": "stream",
     "text": [
      "cross-validation-score: [0.65168539 0.71348315 0.74011299 0.6779661  0.65536723]\n",
      "mean accuracy        : 68.77229734018917\n"
     ]
    }
   ],
   "source": [
    "#apply the cross validation using kfold\n",
    "\n",
    "from sklearn.model_selection import cross_val_score,KFold\n",
    "\n",
    "model=LogisticRegression()\n",
    "\n",
    "kfold=KFold(n_splits=5,shuffle=True,random_state=37)  #splits the hole datset into 5 parts\n",
    "\n",
    "scores=cross_val_score(model,x,y,cv=kfold,scoring='accuracy')\n",
    "\n",
    "print(\"cross-validation-score:\",scores)\n",
    "print(\"mean accuracy        :\",scores.mean()*100)"
   ]
  },
  {
   "cell_type": "code",
   "execution_count": 60,
   "id": "f3301ba4",
   "metadata": {},
   "outputs": [
    {
     "name": "stdout",
     "output_type": "stream",
     "text": [
      "Repeated K-Fold CV Scores: [0.65168539 0.71348315 0.74011299 0.6779661  0.65536723 0.69662921\n",
      " 0.65730337 0.74011299 0.69491525 0.65536723 0.64044944 0.69662921\n",
      " 0.62711864 0.75141243 0.71186441]\n",
      "\n",
      "Mean Accuracy: 68.73611375610994\n"
     ]
    }
   ],
   "source": [
    "#it will repeat more/multiple times for more stable evaluation\n",
    "\n",
    "from sklearn.model_selection import RepeatedKFold\n",
    "\n",
    "# Perform Repeated K-Fold Cross-Validation (e.g., 5 folds, repeated 3 times)\n",
    "rkf = RepeatedKFold(n_splits=5, n_repeats=3, random_state=37)\n",
    "scores = cross_val_score(model, x, y, cv=rkf, scoring='accuracy')\n",
    "\n",
    "print(\"Repeated K-Fold CV Scores:\", scores)\n",
    "print()\n",
    "print(\"Mean Accuracy:\", scores.mean()*100)"
   ]
  },
  {
   "cell_type": "code",
   "execution_count": 61,
   "id": "9d51b780",
   "metadata": {},
   "outputs": [
    {
     "name": "stdout",
     "output_type": "stream",
     "text": [
      "shuffle split cv score [0.65168539 0.69662921 0.64044944 0.73033708 0.67977528 0.66853933\n",
      " 0.69101124 0.68539326 0.70786517 0.65168539]\n",
      "\n",
      "mean accuracy 0.6803370786516854\n"
     ]
    }
   ],
   "source": [
    "#{\"suffile splitscross validation\"} randomly splits the data into train/test\n",
    "#multiple times without fixed folds it is also knows as monte carlo cv\n",
    "\n",
    "\n",
    "from sklearn.model_selection import ShuffleSplit\n",
    "\n",
    "suffle=ShuffleSplit(n_splits=10,test_size=0.20,random_state=37)\n",
    "scores=cross_val_score(model,x,y,cv=suffle,scoring='accuracy')\n",
    "\n",
    "print(\"shuffle split cv score\",scores)\n",
    "print()\n",
    "print(\"mean accuracy\",scores.mean())"
   ]
  },
  {
   "cell_type": "raw",
   "id": "be5c892e",
   "metadata": {},
   "source": [
    "or we can use for loop also to perform cross validation \n",
    "\n",
    "training_acc=[]\n",
    "testing_acc=[]\n",
    "\n",
    "for i in range(1,2001,1):                      #because i will be repeated\n",
    "    xtrain,xtest,ytrain,ytest=train_test_split(x,y,test_size=0.20,random_state=i)\n",
    "    model.fit(x,y)\n",
    "    y_pred_train=model.predict(x)\n",
    "    y_pred_test=model.predict(x2)\n",
    "    training_acc.append(accuracy_score(y,y_pred_train))\n",
    "    #testing_acc.append(accuracy_score(y2,y_pred_test))\n",
    "#print(training_acc)\n",
    "#print(testing_acc)\n",
    "    \n",
    "print(\"cross validation :training accuarcy\",np.round(np.mean(training_acc),2))\n",
    "#print(\"cross validation :testing accuarcy\",np.round(np.mean(testing_acc),2))"
   ]
  },
  {
   "cell_type": "code",
   "execution_count": null,
   "id": "add0e01b",
   "metadata": {},
   "outputs": [],
   "source": []
  },
  {
   "cell_type": "markdown",
   "id": "226681a1",
   "metadata": {},
   "source": [
    "# 4. Model Evaluation:\n",
    "\n",
    "a. Evaluate the performance of the model on the testing data using accuracy, precision, recall, F1-score, and ROC-AUC score.\n",
    "Visualize the ROC curve."
   ]
  },
  {
   "cell_type": "code",
   "execution_count": 62,
   "id": "777c00a2",
   "metadata": {},
   "outputs": [
    {
     "name": "stdout",
     "output_type": "stream",
     "text": [
      "Accuracy  : 0.69\n",
      "Precision : 0.63\n",
      "Recall    : 0.44\n",
      "F1 Score  : 0.52\n",
      "\n",
      "\n",
      "Confusion Matrix:\n",
      "[[459  89]\n",
      " [189 150]]\n"
     ]
    }
   ],
   "source": [
    "from sklearn.metrics import accuracy_score, precision_score, recall_score,f1_score,confusion_matrix\n",
    "\n",
    "\n",
    "accuracy = accuracy_score(y, y_pred_train)\n",
    "precision = precision_score(y, y_pred_train)\n",
    "recall = recall_score(y, y_pred_train)\n",
    "f1 = f1_score(y, y_pred_train)\n",
    "\n",
    "\n",
    "# Display results\n",
    "print(f\"Accuracy  : {accuracy:.2f}\")\n",
    "print(f\"Precision : {precision:.2f}\")\n",
    "print(f\"Recall    : {recall:.2f}\")\n",
    "print(f\"F1 Score  : {f1:.2f}\")\n",
    "print()\n",
    "print(\"\\nConfusion Matrix:\")\n",
    "print(confusion_matrix(y, y_pred_train))\n"
   ]
  },
  {
   "cell_type": "code",
   "execution_count": 63,
   "id": "3590df88",
   "metadata": {},
   "outputs": [
    {
     "data": {
      "image/png": "[encoded data removed]",
      "text/plain": [
       "<Figure size 600x500 with 2 Axes>"
      ]
     },
     "metadata": {},
     "output_type": "display_data"
    }
   ],
   "source": [
    "#visualization for confusion matrix\n",
    "\n",
    "\n",
    "# Compute confusion matrix\n",
    "cm = confusion_matrix(y, y_pred_train)\n",
    "\n",
    "# Define class labels\n",
    "labels = ['Not Survived', 'Survived']\n",
    "\n",
    "# Create heatmap\n",
    "plt.figure(figsize=(6, 5))\n",
    "sns.heatmap(cm, annot=True, fmt='d', cmap='Blues', xticklabels=labels, yticklabels=labels)\n",
    "\n",
    "# Add labels\n",
    "plt.xlabel(\"Predicted Label\")\n",
    "plt.ylabel(\"True Label\")\n",
    "plt.title(\"Confusion Matrix\")\n",
    "plt.show()"
   ]
  },
  {
   "cell_type": "raw",
   "id": "7f456aa8",
   "metadata": {},
   "source": [
    "         TN     FP              TN=True Negative\n",
    "         NO     YES             TP=Trur Positive\n",
    "          0     1               FN=False Negative\n",
    "NO    0[ 459   89 ]             FP=False Positive\n",
    "YES   1[ 189   150]\n",
    "    \n",
    "         FN      TP"
   ]
  },
  {
   "cell_type": "code",
   "execution_count": 64,
   "id": "e315ba72",
   "metadata": {},
   "outputs": [
    {
     "name": "stdout",
     "output_type": "stream",
     "text": [
      "Recall     : 0.4424778761061947\n",
      "\n",
      "Specificity: 0.7083333333333334\n",
      "\n",
      "Precision  : 0.6276150627615062\n",
      "\n",
      "T-1 Erroe  fpr: 0.1624087591240876\n",
      "\n",
      "T-2 error fnr : 0.5575221238938053\n",
      "\n",
      "f1-score 0.5190311418685121\n",
      "\n",
      "Accuracy score: 0.6865839909808342\n"
     ]
    }
   ],
   "source": [
    "#calculating with help of formula\n",
    "\n",
    "TP=150\n",
    "TN=459\n",
    "FP=89\n",
    "FN=189\n",
    "\n",
    "print(\"Recall     :\",150/(150+189))  #TP/TP+FN  RECALL/SENSITIVITY  true postive rate\n",
    "print()\n",
    "\n",
    "#calculating with help of formula\n",
    "\n",
    "print(\"Specificity:\",459/(459+189)) #TN/TN+FP Specificity true negative rate\n",
    "print()\n",
    "\n",
    "\n",
    "print(\"Precision  :\",150/(150+89))  #TP/TP+FP  precision\n",
    "print()\n",
    "\n",
    "print(\"T-1 Erroe  fpr:\",89/(89+459))  #type 1 error  FP/FP+TN  false postive rate \n",
    "print()\n",
    "\n",
    "print(\"T-2 error fnr :\",189/(189+150))  #TYPE 2 ERROR FN/FN+TN    True negative rate\n",
    "print()\n",
    "\n",
    "\n",
    "precision=TP/(TP+FP)\n",
    "recall=TP/(TP+FN)              #calculates the harmonic mean of precision and recall\n",
    "print(\"f1-score\",2*(precision*recall)/(precision+recall))\n",
    "print()\n",
    "\n",
    "print(\"Accuracy score:\",(150+459)/(459+89+189+150))  #ACCURACY TP+TN/TOTAL"
   ]
  },
  {
   "cell_type": "code",
   "execution_count": 65,
   "id": "45aaaa38",
   "metadata": {},
   "outputs": [
    {
     "name": "stdout",
     "output_type": "stream",
     "text": [
      "false positive rate      : [0.         0.16240876 1.        ]\n",
      "true positive rate       : [0.         0.44247788 1.        ]\n",
      "decision threshold values: [inf  1.  0.]\n"
     ]
    },
    {
     "data": {
      "image/png": "[encoded data removed]",
      "text/plain": [
       "<Figure size 640x480 with 1 Axes>"
      ]
     },
     "metadata": {},
     "output_type": "display_data"
    },
    {
     "name": "stdout",
     "output_type": "stream",
     "text": [
      "area  under curve 64.003\n"
     ]
    }
   ],
   "source": [
    "from sklearn.metrics import roc_curve,roc_auc_score\n",
    "\n",
    "fpr,tpr,dummy=roc_curve(y,df_train1['y_pred'])\n",
    "\n",
    "print(\"false positive rate      :\",fpr)  #type 1 error\n",
    "\n",
    "print(\"true positive rate       :\",tpr)   #recall\n",
    "\n",
    "print(\"decision threshold values:\",dummy)\n",
    "\n",
    "\n",
    "plt.scatter(x=fpr,y=tpr)\n",
    "plt.plot(fpr,tpr,color='red')\n",
    "plt.ylabel(\"True positive Rate\")\n",
    "plt.xlabel(\"False positive Rate\")\n",
    "plt.show()\n",
    "\n",
    "auc=roc_auc_score(y,df_train1['y_pred'])\n",
    "print(\"area  under curve\",(auc*100).round(3))"
   ]
  },
  {
   "cell_type": "code",
   "execution_count": 66,
   "id": "5f275ef8",
   "metadata": {},
   "outputs": [],
   "source": [
    "#from the above graph we can see that only there are only three points because\n",
    "#in the dependent varaible/target variable we are having only the binary class\n",
    "#so we have get only three values instead of many points.If we want to see more\n",
    "#points we can use the predicted probality values and then plot"
   ]
  },
  {
   "cell_type": "code",
   "execution_count": 67,
   "id": "4104c0a5",
   "metadata": {},
   "outputs": [
    {
     "name": "stdout",
     "output_type": "stream",
     "text": [
      "false positive rate      : [0.         0.16240876 1.        ]\n",
      "true positive rate       : [0.         0.44247788 1.        ]\n",
      "decision threshold values: [inf  1.  0.]\n"
     ]
    },
    {
     "data": {
      "image/png": "[encoded data removed]",
      "text/plain": [
       "<Figure size 640x480 with 1 Axes>"
      ]
     },
     "metadata": {},
     "output_type": "display_data"
    },
    {
     "name": "stdout",
     "output_type": "stream",
     "text": [
      "area  under curve 64.003\n"
     ]
    }
   ],
   "source": [
    "from sklearn.metrics import roc_curve,roc_auc_score\n",
    "\n",
    "fpr,tpr,dummy=roc_curve(y,df_train1['y_pred'])\n",
    "\n",
    "print(\"false positive rate      :\",fpr)  #type 1 error\n",
    "\n",
    "print(\"true positive rate       :\",tpr)   #recall\n",
    "\n",
    "print(\"decision threshold values:\",dummy)\n",
    "\n",
    "\n",
    "plt.scatter(x=fpr,y=tpr)\n",
    "plt.plot(fpr, tpr, color='red', label=f\"AUC={(roc_auc_score(y, df_train1['y_pred']) * 100).round(3)}\")  \n",
    "\n",
    "plt.plot([0,1],[0,1],color='darkblue',linestyle='--')\n",
    "plt.ylabel(\"True positive Rate\")\n",
    "plt.xlabel(\"False positive Rate\")\n",
    "plt.show()\n",
    "\n",
    "auc=roc_auc_score(y,df_train1['y_pred'])\n",
    "print(\"area  under curve\",(auc*100).round(3))"
   ]
  },
  {
   "cell_type": "code",
   "execution_count": 68,
   "id": "d781d480",
   "metadata": {},
   "outputs": [
    {
     "name": "stdout",
     "output_type": "stream",
     "text": [
      "loss : 11.297\n"
     ]
    }
   ],
   "source": [
    "#calculating the log loss:-metrics used to calculate performance of classification\n",
    "#model it is calculated by apply formula logloss/in simple terms it is error\n",
    "\n",
    "from sklearn.metrics import log_loss\n",
    "loss = log_loss(y,y_pred)\n",
    "print(\"loss :\", np.round(loss,3))\n",
    "\n"
   ]
  },
  {
   "cell_type": "code",
   "execution_count": 69,
   "id": "0b9b641c",
   "metadata": {},
   "outputs": [],
   "source": [
    "#from above result we can say the model is not performing well.So we can say\n",
    "#that the models predicted probability are significantly different from actual \n",
    "#labels"
   ]
  },
  {
   "cell_type": "code",
   "execution_count": null,
   "id": "84dbb028",
   "metadata": {},
   "outputs": [],
   "source": []
  },
  {
   "cell_type": "code",
   "execution_count": 70,
   "id": "81fc2e7a",
   "metadata": {},
   "outputs": [
    {
     "data": {
      "text/html": [
       "<div>\n",
       "<style scoped>\n",
       "    .dataframe tbody tr th:only-of-type {\n",
       "        vertical-align: middle;\n",
       "    }\n",
       "\n",
       "    .dataframe tbody tr th {\n",
       "        vertical-align: top;\n",
       "    }\n",
       "\n",
       "    .dataframe thead th {\n",
       "        text-align: right;\n",
       "    }\n",
       "</style>\n",
       "<table border=\"1\" class=\"dataframe\">\n",
       "  <thead>\n",
       "    <tr style=\"text-align: right;\">\n",
       "      <th></th>\n",
       "      <th>Age</th>\n",
       "      <th>Fare</th>\n",
       "      <th>Embarked</th>\n",
       "      <th>Sex</th>\n",
       "      <th>SibSp</th>\n",
       "      <th>Parch</th>\n",
       "      <th>Pclass</th>\n",
       "      <th>Survived</th>\n",
       "      <th>y_pred</th>\n",
       "      <th>predicted_prob</th>\n",
       "    </tr>\n",
       "  </thead>\n",
       "  <tbody>\n",
       "    <tr>\n",
       "      <th>0</th>\n",
       "      <td>0.271174</td>\n",
       "      <td>0.014151</td>\n",
       "      <td>2.0</td>\n",
       "      <td>1.0</td>\n",
       "      <td>1.0</td>\n",
       "      <td>0.0</td>\n",
       "      <td>3.0</td>\n",
       "      <td>0.0</td>\n",
       "      <td>0.0</td>\n",
       "      <td>0.784895</td>\n",
       "    </tr>\n",
       "    <tr>\n",
       "      <th>1</th>\n",
       "      <td>0.472229</td>\n",
       "      <td>0.139136</td>\n",
       "      <td>0.0</td>\n",
       "      <td>0.0</td>\n",
       "      <td>1.0</td>\n",
       "      <td>0.0</td>\n",
       "      <td>1.0</td>\n",
       "      <td>1.0</td>\n",
       "      <td>1.0</td>\n",
       "      <td>0.215105</td>\n",
       "    </tr>\n",
       "    <tr>\n",
       "      <th>2</th>\n",
       "      <td>0.321438</td>\n",
       "      <td>0.015469</td>\n",
       "      <td>2.0</td>\n",
       "      <td>0.0</td>\n",
       "      <td>0.0</td>\n",
       "      <td>0.0</td>\n",
       "      <td>3.0</td>\n",
       "      <td>1.0</td>\n",
       "      <td>0.0</td>\n",
       "      <td>0.389217</td>\n",
       "    </tr>\n",
       "    <tr>\n",
       "      <th>3</th>\n",
       "      <td>0.434531</td>\n",
       "      <td>0.103644</td>\n",
       "      <td>2.0</td>\n",
       "      <td>0.0</td>\n",
       "      <td>1.0</td>\n",
       "      <td>0.0</td>\n",
       "      <td>1.0</td>\n",
       "      <td>1.0</td>\n",
       "      <td>1.0</td>\n",
       "      <td>0.610783</td>\n",
       "    </tr>\n",
       "    <tr>\n",
       "      <th>4</th>\n",
       "      <td>0.434531</td>\n",
       "      <td>0.015713</td>\n",
       "      <td>2.0</td>\n",
       "      <td>1.0</td>\n",
       "      <td>0.0</td>\n",
       "      <td>0.0</td>\n",
       "      <td>3.0</td>\n",
       "      <td>0.0</td>\n",
       "      <td>0.0</td>\n",
       "      <td>0.750091</td>\n",
       "    </tr>\n",
       "    <tr>\n",
       "      <th>...</th>\n",
       "      <td>...</td>\n",
       "      <td>...</td>\n",
       "      <td>...</td>\n",
       "      <td>...</td>\n",
       "      <td>...</td>\n",
       "      <td>...</td>\n",
       "      <td>...</td>\n",
       "      <td>...</td>\n",
       "      <td>...</td>\n",
       "      <td>...</td>\n",
       "    </tr>\n",
       "    <tr>\n",
       "      <th>882</th>\n",
       "      <td>0.334004</td>\n",
       "      <td>0.025374</td>\n",
       "      <td>2.0</td>\n",
       "      <td>1.0</td>\n",
       "      <td>0.0</td>\n",
       "      <td>0.0</td>\n",
       "      <td>3.0</td>\n",
       "      <td>0.0</td>\n",
       "      <td>0.0</td>\n",
       "      <td>0.770123</td>\n",
       "    </tr>\n",
       "    <tr>\n",
       "      <th>883</th>\n",
       "      <td>0.233476</td>\n",
       "      <td>0.058556</td>\n",
       "      <td>2.0</td>\n",
       "      <td>0.0</td>\n",
       "      <td>0.0</td>\n",
       "      <td>5.0</td>\n",
       "      <td>3.0</td>\n",
       "      <td>0.0</td>\n",
       "      <td>1.0</td>\n",
       "      <td>0.229877</td>\n",
       "    </tr>\n",
       "    <tr>\n",
       "      <th>884</th>\n",
       "      <td>0.367921</td>\n",
       "      <td>0.045771</td>\n",
       "      <td>2.0</td>\n",
       "      <td>0.0</td>\n",
       "      <td>0.0</td>\n",
       "      <td>0.0</td>\n",
       "      <td>2.0</td>\n",
       "      <td>0.0</td>\n",
       "      <td>0.0</td>\n",
       "      <td>0.586431</td>\n",
       "    </tr>\n",
       "    <tr>\n",
       "      <th>885</th>\n",
       "      <td>0.321438</td>\n",
       "      <td>0.058556</td>\n",
       "      <td>0.0</td>\n",
       "      <td>1.0</td>\n",
       "      <td>0.0</td>\n",
       "      <td>0.0</td>\n",
       "      <td>1.0</td>\n",
       "      <td>1.0</td>\n",
       "      <td>1.0</td>\n",
       "      <td>0.413569</td>\n",
       "    </tr>\n",
       "    <tr>\n",
       "      <th>886</th>\n",
       "      <td>0.396833</td>\n",
       "      <td>0.015127</td>\n",
       "      <td>1.0</td>\n",
       "      <td>1.0</td>\n",
       "      <td>1.0</td>\n",
       "      <td>2.0</td>\n",
       "      <td>3.0</td>\n",
       "      <td>0.0</td>\n",
       "      <td>0.0</td>\n",
       "      <td>0.774497</td>\n",
       "    </tr>\n",
       "  </tbody>\n",
       "</table>\n",
       "<p>887 rows × 10 columns</p>\n",
       "</div>"
      ],
      "text/plain": [
       "          Age      Fare  Embarked  Sex  SibSp  Parch  Pclass  Survived  \\\n",
       "0    0.271174  0.014151       2.0  1.0    1.0    0.0     3.0       0.0   \n",
       "1    0.472229  0.139136       0.0  0.0    1.0    0.0     1.0       1.0   \n",
       "2    0.321438  0.015469       2.0  0.0    0.0    0.0     3.0       1.0   \n",
       "3    0.434531  0.103644       2.0  0.0    1.0    0.0     1.0       1.0   \n",
       "4    0.434531  0.015713       2.0  1.0    0.0    0.0     3.0       0.0   \n",
       "..        ...       ...       ...  ...    ...    ...     ...       ...   \n",
       "882  0.334004  0.025374       2.0  1.0    0.0    0.0     3.0       0.0   \n",
       "883  0.233476  0.058556       2.0  0.0    0.0    5.0     3.0       0.0   \n",
       "884  0.367921  0.045771       2.0  0.0    0.0    0.0     2.0       0.0   \n",
       "885  0.321438  0.058556       0.0  1.0    0.0    0.0     1.0       1.0   \n",
       "886  0.396833  0.015127       1.0  1.0    1.0    2.0     3.0       0.0   \n",
       "\n",
       "     y_pred  predicted_prob  \n",
       "0       0.0        0.784895  \n",
       "1       1.0        0.215105  \n",
       "2       0.0        0.389217  \n",
       "3       1.0        0.610783  \n",
       "4       0.0        0.750091  \n",
       "..      ...             ...  \n",
       "882     0.0        0.770123  \n",
       "883     1.0        0.229877  \n",
       "884     0.0        0.586431  \n",
       "885     1.0        0.413569  \n",
       "886     0.0        0.774497  \n",
       "\n",
       "[887 rows x 10 columns]"
      ]
     },
     "execution_count": 70,
     "metadata": {},
     "output_type": "execute_result"
    }
   ],
   "source": [
    "df_train1\n"
   ]
  },
  {
   "cell_type": "code",
   "execution_count": 71,
   "id": "512cedf7",
   "metadata": {},
   "outputs": [
    {
     "data": {
      "text/plain": [
       "[[0.3, 0.4813979706877114],\n",
       " [0.31, 0.4813979706877114],\n",
       " [0.32, 0.48252536640360766],\n",
       " [0.33, 0.4836527621195039],\n",
       " [0.34, 0.4836527621195039],\n",
       " [0.35000000000000003, 0.48478015783540024],\n",
       " [0.36000000000000004, 0.48478015783540024],\n",
       " [0.37000000000000005, 0.4836527621195039],\n",
       " [0.38000000000000006, 0.4813979706877114],\n",
       " [0.39000000000000007, 0.48703494926719276],\n",
       " [0.4000000000000001, 0.4926719278466742],\n",
       " [0.4100000000000001, 0.4926719278466742],\n",
       " [0.4200000000000001, 0.4983089064261556],\n",
       " [0.4300000000000001, 0.5016910935738444],\n",
       " [0.4400000000000001, 0.5084554678692221],\n",
       " [0.4500000000000001, 0.5107102593010147],\n",
       " [0.46000000000000013, 0.5118376550169109],\n",
       " [0.47000000000000014, 0.5140924464487034],\n",
       " [0.48000000000000015, 0.5140924464487034],\n",
       " [0.49000000000000016, 0.5163472378804961],\n",
       " [0.5000000000000002, 0.5163472378804961],\n",
       " [0.5100000000000002, 0.5163472378804961],\n",
       " [0.5200000000000002, 0.5186020293122886],\n",
       " [0.5300000000000002, 0.5186020293122886],\n",
       " [0.5400000000000003, 0.5186020293122886],\n",
       " [0.5500000000000003, 0.5174746335963923],\n",
       " [0.5600000000000003, 0.5174746335963923],\n",
       " [0.5700000000000003, 0.52423900789177],\n",
       " [0.5800000000000003, 0.5276211950394588],\n",
       " [0.5900000000000003, 0.5558060879368658],\n",
       " [0.6000000000000003, 0.5670800450958287],\n",
       " [0.6100000000000003, 0.5704622322435174],\n",
       " [0.6200000000000003, 0.5715896279594137],\n",
       " [0.6300000000000003, 0.5738444193912063],\n",
       " [0.6400000000000003, 0.5682074408117249],\n",
       " [0.6500000000000004, 0.5682074408117249],\n",
       " [0.6600000000000004, 0.5670800450958287],\n",
       " [0.6700000000000004, 0.5693348365276212],\n",
       " [0.6800000000000004, 0.5704622322435174],\n",
       " [0.6900000000000004, 0.5693348365276212]]"
      ]
     },
     "execution_count": 71,
     "metadata": {},
     "output_type": "execute_result"
    }
   ],
   "source": [
    "#for which threshold value model is perfroming well\n",
    "\n",
    "results=[]\n",
    "thresholds=np.arange(0.3,0.7,0.01)\n",
    "\n",
    "for threshold in thresholds:\n",
    "    y_pred1=(df_train1['predicted_prob']>threshold).astype(int)\n",
    "    accuracy=accuracy_score(y,y_pred1)\n",
    "    results.append([threshold,accuracy])\n",
    "    \n",
    "results \n",
    "#from the below results we can see if we change the threshold value/cutoff \n",
    "#value we can a slight improvement in the model so we select one threshold value\n"
   ]
  },
  {
   "cell_type": "code",
   "execution_count": 72,
   "id": "f4c53bba",
   "metadata": {},
   "outputs": [],
   "source": [
    "#from above results we can see 4.6 is having maximum accuracy\n",
    "\n",
    "dft=pd.DataFrame(df_train1['predicted_prob']>0.46)\n"
   ]
  },
  {
   "cell_type": "code",
   "execution_count": 73,
   "id": "fe44fad1",
   "metadata": {},
   "outputs": [
    {
     "data": {
      "text/plain": [
       "predicted_prob\n",
       "True     456\n",
       "False    431\n",
       "dtype: int64"
      ]
     },
     "execution_count": 73,
     "metadata": {},
     "output_type": "execute_result"
    }
   ],
   "source": [
    "dft.value_counts(df_train1['predicted_prob']>0.46)  #checking using function"
   ]
  },
  {
   "cell_type": "code",
   "execution_count": 74,
   "id": "f4b8f739",
   "metadata": {},
   "outputs": [
    {
     "data": {
      "text/html": [
       "<div>\n",
       "<style scoped>\n",
       "    .dataframe tbody tr th:only-of-type {\n",
       "        vertical-align: middle;\n",
       "    }\n",
       "\n",
       "    .dataframe tbody tr th {\n",
       "        vertical-align: top;\n",
       "    }\n",
       "\n",
       "    .dataframe thead th {\n",
       "        text-align: right;\n",
       "    }\n",
       "</style>\n",
       "<table border=\"1\" class=\"dataframe\">\n",
       "  <thead>\n",
       "    <tr style=\"text-align: right;\">\n",
       "      <th></th>\n",
       "      <th>y_pred1</th>\n",
       "    </tr>\n",
       "  </thead>\n",
       "  <tbody>\n",
       "    <tr>\n",
       "      <th>0</th>\n",
       "      <td>1</td>\n",
       "    </tr>\n",
       "    <tr>\n",
       "      <th>1</th>\n",
       "      <td>0</td>\n",
       "    </tr>\n",
       "    <tr>\n",
       "      <th>2</th>\n",
       "      <td>0</td>\n",
       "    </tr>\n",
       "    <tr>\n",
       "      <th>3</th>\n",
       "      <td>1</td>\n",
       "    </tr>\n",
       "    <tr>\n",
       "      <th>4</th>\n",
       "      <td>1</td>\n",
       "    </tr>\n",
       "    <tr>\n",
       "      <th>...</th>\n",
       "      <td>...</td>\n",
       "    </tr>\n",
       "    <tr>\n",
       "      <th>882</th>\n",
       "      <td>1</td>\n",
       "    </tr>\n",
       "    <tr>\n",
       "      <th>883</th>\n",
       "      <td>0</td>\n",
       "    </tr>\n",
       "    <tr>\n",
       "      <th>884</th>\n",
       "      <td>1</td>\n",
       "    </tr>\n",
       "    <tr>\n",
       "      <th>885</th>\n",
       "      <td>0</td>\n",
       "    </tr>\n",
       "    <tr>\n",
       "      <th>886</th>\n",
       "      <td>1</td>\n",
       "    </tr>\n",
       "  </tbody>\n",
       "</table>\n",
       "<p>887 rows × 1 columns</p>\n",
       "</div>"
      ],
      "text/plain": [
       "     y_pred1\n",
       "0          1\n",
       "1          0\n",
       "2          0\n",
       "3          1\n",
       "4          1\n",
       "..       ...\n",
       "882        1\n",
       "883        0\n",
       "884        1\n",
       "885        0\n",
       "886        1\n",
       "\n",
       "[887 rows x 1 columns]"
      ]
     },
     "execution_count": 74,
     "metadata": {},
     "output_type": "execute_result"
    }
   ],
   "source": [
    "y_pred1=[]                        #creating a array and storing the results\n",
    "for i in dft['predicted_prob']:\n",
    "    if i>0.4:\n",
    "        y_pred1.append(1)\n",
    "    else:\n",
    "        y_pred1.append(0)\n",
    "        \n",
    "y_pred1=pd.DataFrame(y_pred1,columns=['y_pred1'])\n",
    "y_pred1                                         #creating a data frame "
   ]
  },
  {
   "cell_type": "code",
   "execution_count": 75,
   "id": "30da1bbc",
   "metadata": {},
   "outputs": [
    {
     "data": {
      "text/html": [
       "<div>\n",
       "<style scoped>\n",
       "    .dataframe tbody tr th:only-of-type {\n",
       "        vertical-align: middle;\n",
       "    }\n",
       "\n",
       "    .dataframe tbody tr th {\n",
       "        vertical-align: top;\n",
       "    }\n",
       "\n",
       "    .dataframe thead th {\n",
       "        text-align: right;\n",
       "    }\n",
       "</style>\n",
       "<table border=\"1\" class=\"dataframe\">\n",
       "  <thead>\n",
       "    <tr style=\"text-align: right;\">\n",
       "      <th></th>\n",
       "      <th>Age</th>\n",
       "      <th>Fare</th>\n",
       "      <th>Embarked</th>\n",
       "      <th>Sex</th>\n",
       "      <th>SibSp</th>\n",
       "      <th>Parch</th>\n",
       "      <th>Pclass</th>\n",
       "      <th>Survived</th>\n",
       "      <th>y_pred</th>\n",
       "      <th>predicted_prob</th>\n",
       "      <th>y_pred1</th>\n",
       "    </tr>\n",
       "  </thead>\n",
       "  <tbody>\n",
       "    <tr>\n",
       "      <th>0</th>\n",
       "      <td>0.271174</td>\n",
       "      <td>0.014151</td>\n",
       "      <td>2.0</td>\n",
       "      <td>1.0</td>\n",
       "      <td>1.0</td>\n",
       "      <td>0.0</td>\n",
       "      <td>3.0</td>\n",
       "      <td>0.0</td>\n",
       "      <td>0.0</td>\n",
       "      <td>0.784895</td>\n",
       "      <td>1</td>\n",
       "    </tr>\n",
       "    <tr>\n",
       "      <th>1</th>\n",
       "      <td>0.472229</td>\n",
       "      <td>0.139136</td>\n",
       "      <td>0.0</td>\n",
       "      <td>0.0</td>\n",
       "      <td>1.0</td>\n",
       "      <td>0.0</td>\n",
       "      <td>1.0</td>\n",
       "      <td>1.0</td>\n",
       "      <td>1.0</td>\n",
       "      <td>0.215105</td>\n",
       "      <td>0</td>\n",
       "    </tr>\n",
       "    <tr>\n",
       "      <th>2</th>\n",
       "      <td>0.321438</td>\n",
       "      <td>0.015469</td>\n",
       "      <td>2.0</td>\n",
       "      <td>0.0</td>\n",
       "      <td>0.0</td>\n",
       "      <td>0.0</td>\n",
       "      <td>3.0</td>\n",
       "      <td>1.0</td>\n",
       "      <td>0.0</td>\n",
       "      <td>0.389217</td>\n",
       "      <td>0</td>\n",
       "    </tr>\n",
       "    <tr>\n",
       "      <th>3</th>\n",
       "      <td>0.434531</td>\n",
       "      <td>0.103644</td>\n",
       "      <td>2.0</td>\n",
       "      <td>0.0</td>\n",
       "      <td>1.0</td>\n",
       "      <td>0.0</td>\n",
       "      <td>1.0</td>\n",
       "      <td>1.0</td>\n",
       "      <td>1.0</td>\n",
       "      <td>0.610783</td>\n",
       "      <td>1</td>\n",
       "    </tr>\n",
       "    <tr>\n",
       "      <th>4</th>\n",
       "      <td>0.434531</td>\n",
       "      <td>0.015713</td>\n",
       "      <td>2.0</td>\n",
       "      <td>1.0</td>\n",
       "      <td>0.0</td>\n",
       "      <td>0.0</td>\n",
       "      <td>3.0</td>\n",
       "      <td>0.0</td>\n",
       "      <td>0.0</td>\n",
       "      <td>0.750091</td>\n",
       "      <td>1</td>\n",
       "    </tr>\n",
       "    <tr>\n",
       "      <th>...</th>\n",
       "      <td>...</td>\n",
       "      <td>...</td>\n",
       "      <td>...</td>\n",
       "      <td>...</td>\n",
       "      <td>...</td>\n",
       "      <td>...</td>\n",
       "      <td>...</td>\n",
       "      <td>...</td>\n",
       "      <td>...</td>\n",
       "      <td>...</td>\n",
       "      <td>...</td>\n",
       "    </tr>\n",
       "    <tr>\n",
       "      <th>882</th>\n",
       "      <td>0.334004</td>\n",
       "      <td>0.025374</td>\n",
       "      <td>2.0</td>\n",
       "      <td>1.0</td>\n",
       "      <td>0.0</td>\n",
       "      <td>0.0</td>\n",
       "      <td>3.0</td>\n",
       "      <td>0.0</td>\n",
       "      <td>0.0</td>\n",
       "      <td>0.770123</td>\n",
       "      <td>1</td>\n",
       "    </tr>\n",
       "    <tr>\n",
       "      <th>883</th>\n",
       "      <td>0.233476</td>\n",
       "      <td>0.058556</td>\n",
       "      <td>2.0</td>\n",
       "      <td>0.0</td>\n",
       "      <td>0.0</td>\n",
       "      <td>5.0</td>\n",
       "      <td>3.0</td>\n",
       "      <td>0.0</td>\n",
       "      <td>1.0</td>\n",
       "      <td>0.229877</td>\n",
       "      <td>0</td>\n",
       "    </tr>\n",
       "    <tr>\n",
       "      <th>884</th>\n",
       "      <td>0.367921</td>\n",
       "      <td>0.045771</td>\n",
       "      <td>2.0</td>\n",
       "      <td>0.0</td>\n",
       "      <td>0.0</td>\n",
       "      <td>0.0</td>\n",
       "      <td>2.0</td>\n",
       "      <td>0.0</td>\n",
       "      <td>0.0</td>\n",
       "      <td>0.586431</td>\n",
       "      <td>1</td>\n",
       "    </tr>\n",
       "    <tr>\n",
       "      <th>885</th>\n",
       "      <td>0.321438</td>\n",
       "      <td>0.058556</td>\n",
       "      <td>0.0</td>\n",
       "      <td>1.0</td>\n",
       "      <td>0.0</td>\n",
       "      <td>0.0</td>\n",
       "      <td>1.0</td>\n",
       "      <td>1.0</td>\n",
       "      <td>1.0</td>\n",
       "      <td>0.413569</td>\n",
       "      <td>0</td>\n",
       "    </tr>\n",
       "    <tr>\n",
       "      <th>886</th>\n",
       "      <td>0.396833</td>\n",
       "      <td>0.015127</td>\n",
       "      <td>1.0</td>\n",
       "      <td>1.0</td>\n",
       "      <td>1.0</td>\n",
       "      <td>2.0</td>\n",
       "      <td>3.0</td>\n",
       "      <td>0.0</td>\n",
       "      <td>0.0</td>\n",
       "      <td>0.774497</td>\n",
       "      <td>1</td>\n",
       "    </tr>\n",
       "  </tbody>\n",
       "</table>\n",
       "<p>887 rows × 11 columns</p>\n",
       "</div>"
      ],
      "text/plain": [
       "          Age      Fare  Embarked  Sex  SibSp  Parch  Pclass  Survived  \\\n",
       "0    0.271174  0.014151       2.0  1.0    1.0    0.0     3.0       0.0   \n",
       "1    0.472229  0.139136       0.0  0.0    1.0    0.0     1.0       1.0   \n",
       "2    0.321438  0.015469       2.0  0.0    0.0    0.0     3.0       1.0   \n",
       "3    0.434531  0.103644       2.0  0.0    1.0    0.0     1.0       1.0   \n",
       "4    0.434531  0.015713       2.0  1.0    0.0    0.0     3.0       0.0   \n",
       "..        ...       ...       ...  ...    ...    ...     ...       ...   \n",
       "882  0.334004  0.025374       2.0  1.0    0.0    0.0     3.0       0.0   \n",
       "883  0.233476  0.058556       2.0  0.0    0.0    5.0     3.0       0.0   \n",
       "884  0.367921  0.045771       2.0  0.0    0.0    0.0     2.0       0.0   \n",
       "885  0.321438  0.058556       0.0  1.0    0.0    0.0     1.0       1.0   \n",
       "886  0.396833  0.015127       1.0  1.0    1.0    2.0     3.0       0.0   \n",
       "\n",
       "     y_pred  predicted_prob  y_pred1  \n",
       "0       0.0        0.784895        1  \n",
       "1       1.0        0.215105        0  \n",
       "2       0.0        0.389217        0  \n",
       "3       1.0        0.610783        1  \n",
       "4       0.0        0.750091        1  \n",
       "..      ...             ...      ...  \n",
       "882     0.0        0.770123        1  \n",
       "883     1.0        0.229877        0  \n",
       "884     0.0        0.586431        1  \n",
       "885     1.0        0.413569        0  \n",
       "886     0.0        0.774497        1  \n",
       "\n",
       "[887 rows x 11 columns]"
      ]
     },
     "execution_count": 75,
     "metadata": {},
     "output_type": "execute_result"
    }
   ],
   "source": [
    "df_train2=pd.concat([df_train1,y_pred1],axis=1)  #concatinating the results\n",
    "\n",
    "df_train2"
   ]
  },
  {
   "cell_type": "code",
   "execution_count": 76,
   "id": "a30611bd",
   "metadata": {},
   "outputs": [
    {
     "data": {
      "text/plain": [
       "0.5118376550169109"
      ]
     },
     "execution_count": 76,
     "metadata": {},
     "output_type": "execute_result"
    }
   ],
   "source": [
    "accuracy_score(y,y_pred1)   # checking accuracy "
   ]
  },
  {
   "cell_type": "code",
   "execution_count": 77,
   "id": "501a1d4c",
   "metadata": {},
   "outputs": [],
   "source": [
    "#y_prob=pd.DataFrame(df_train1['predicted_prob'])  no need if we get error we can use thsi"
   ]
  },
  {
   "cell_type": "code",
   "execution_count": 78,
   "id": "62900532",
   "metadata": {},
   "outputs": [
    {
     "name": "stdout",
     "output_type": "stream",
     "text": [
      "area under curve: 53.78716921818143\n"
     ]
    },
    {
     "data": {
      "image/png": "[encoded data removed]",
      "text/plain": [
       "<Figure size 640x480 with 1 Axes>"
      ]
     },
     "metadata": {},
     "output_type": "display_data"
    }
   ],
   "source": [
    "#creating a roc_auc curve with the predicted probability values \n",
    "\n",
    "fpr,tpr,dummy=roc_curve(y,df_train1['predicted_prob'])\n",
    "\n",
    "plt.scatter(x=fpr,y=tpr)\n",
    "plt.plot(fpr,tpr,color='black',label='\"Roc_Curve\"')\n",
    "\n",
    "auc_score=roc_auc_score(y,df_train1['predicted_prob'])\n",
    "print(\"area under curve:\",auc_score*100)"
   ]
  },
  {
   "cell_type": "code",
   "execution_count": 79,
   "id": "eef8ba2d",
   "metadata": {},
   "outputs": [],
   "source": [
    "#we can see the values are increased from 3.and the area under the curve is\n",
    "#also increased "
   ]
  },
  {
   "cell_type": "markdown",
   "id": "1d3aa8e7",
   "metadata": {},
   "source": [
    "# 5. Interpretation:\n",
    "\n",
    "a. Interpret the coefficients of the logistic regression model.\n",
    "\n",
    "b. Discuss the significance of features in predicting the target variable (survival probability in this case)."
   ]
  },
  {
   "cell_type": "markdown",
   "id": "5f45b717",
   "metadata": {},
   "source": [
    "# a. Interpret the coefficients of the logistic regression model."
   ]
  },
  {
   "cell_type": "code",
   "execution_count": 80,
   "id": "c52d20a7",
   "metadata": {},
   "outputs": [
    {
     "name": "stdout",
     "output_type": "stream",
     "text": [
      "[[ 0.04363973 -0.26100187 -0.0089211  -0.08505572 -0.1084207   0.30501981\n",
      "  -0.83298923]]\n"
     ]
    },
    {
     "data": {
      "text/plain": [
       "array([ 0.04363973, -0.26100187, -0.0089211 , -0.08505572, -0.1084207 ,\n",
       "        0.30501981, -0.83298923])"
      ]
     },
     "execution_count": 80,
     "metadata": {},
     "output_type": "execute_result"
    }
   ],
   "source": [
    "model = LogisticRegression()\n",
    "model.fit(x,y)  #the model is trained\n",
    "print(model.coef_)  \n",
    "model.coef_[0]"
   ]
  },
  {
   "cell_type": "code",
   "execution_count": 81,
   "id": "0c1fbc81",
   "metadata": {},
   "outputs": [
    {
     "data": {
      "text/plain": [
       "Index(['Age', 'Fare', 'Embarked', 'Sex', 'SibSp', 'Parch', 'Pclass',\n",
       "       'Survived', 'y_pred', 'predicted_prob'],\n",
       "      dtype='object')"
      ]
     },
     "execution_count": 81,
     "metadata": {},
     "output_type": "execute_result"
    }
   ],
   "source": [
    "df_train1.columns"
   ]
  },
  {
   "cell_type": "raw",
   "id": "14938600",
   "metadata": {},
   "source": [
    "Interpreting the coefficients of a logistic regression model and understanding the significance of features can provide valuable insights into how different factors influence the survival probability.\n",
    "\n",
    "==>The coefficient represent the log-odds(logit \n",
    "function{e(bo+b1x/1+e(b0+b1x))}) of survival per unit change in the predictor varaible\n",
    "\n",
    "==>if the coefficient is \"positive\" it \"increases\" the \"probability\" of         survival\n",
    "\n",
    "==>if a coefficient is \"negative\" it \"decreases\" the \"probability\" of             survival\n",
    "\n",
    "==>the larger the \"magnitude\" of coefficient the stronger the influence\n",
    "\n",
    "according to above interepatation we can conclude that \"age\",and \"Pclass\" \n",
    "is \"increasing the probabilty of surival\" of people \n",
    "\n",
    "=>Because lesser the age more the probabilty of survival and \"pcalss\" have more influence in survival because the luxzury class will be having more privacy and will be propabily situated in middle of ship so may be they are also influencing the survival probability\n",
    "\n",
    "=>other than this columns all are negative like 'Fare', 'Embarked', 'Sex',  'SibSp', 'Parch', does not influence in the survival  like the place where   they board the ship does not influence in survival and like sibling and     parents are not related to the survival"
   ]
  },
  {
   "cell_type": "code",
   "execution_count": 82,
   "id": "e2b61b28",
   "metadata": {},
   "outputs": [
    {
     "data": {
      "text/plain": [
       "Index(['Age', 'Fare', 'Embarked', 'Sex', 'SibSp', 'Parch', 'Pclass',\n",
       "       'Survived', 'y_pred', 'predicted_prob'],\n",
       "      dtype='object')"
      ]
     },
     "execution_count": 82,
     "metadata": {},
     "output_type": "execute_result"
    }
   ],
   "source": [
    "df_train1.columns"
   ]
  },
  {
   "cell_type": "markdown",
   "id": "b0c4b1ee",
   "metadata": {},
   "source": [
    "# b. Discuss the significance of features in predicting the target variable (survival probability in this case)."
   ]
  },
  {
   "cell_type": "code",
   "execution_count": 83,
   "id": "e9dd9ad2",
   "metadata": {},
   "outputs": [
    {
     "name": "stdout",
     "output_type": "stream",
     "text": [
      "Optimization terminated successfully.\n",
      "         Current function value: 0.604566\n",
      "         Iterations 5\n",
      "                           Logit Regression Results                           \n",
      "==============================================================================\n",
      "Dep. Variable:               Survived   No. Observations:                  887\n",
      "Model:                          Logit   Df Residuals:                      878\n",
      "Method:                           MLE   Df Model:                            8\n",
      "Date:                Wed, 07 May 2025   Pseudo R-squ.:                 0.09105\n",
      "Time:                        19:10:31   Log-Likelihood:                -536.25\n",
      "converged:                       True   LL-Null:                       -589.97\n",
      "Covariance Type:            nonrobust   LLR p-value:                 1.283e-19\n",
      "==================================================================================\n",
      "                     coef    std err          z      P>|z|      [0.025      0.975]\n",
      "----------------------------------------------------------------------------------\n",
      "Age                0.2812      0.444      0.634      0.526      -0.589       1.151\n",
      "Fare              -0.2446      0.786     -0.311      0.756      -1.785       1.296\n",
      "Embarked           0.0411      0.093      0.444      0.657      -0.140       0.223\n",
      "Sex               -0.0413      0.157     -0.263      0.792      -0.349       0.266\n",
      "SibSp             -0.0965      0.078     -1.238      0.216      -0.249       0.056\n",
      "Parch              0.2468      0.103      2.406      0.016       0.046       0.448\n",
      "Pclass            -0.5524      0.099     -5.598      0.000      -0.746      -0.359\n",
      "y_pred             0.4918      0.208      2.364      0.018       0.084       0.900\n",
      "predicted_prob     0.8652      0.340      2.545      0.011       0.199       1.532\n",
      "==================================================================================\n"
     ]
    }
   ],
   "source": [
    "import statsmodels.api as sm\n",
    "\n",
    "X = df_train1.drop(columns=['Survived'])  # Independent variables\n",
    "y = df_train1['Survived']  # Dependent variable\n",
    "\n",
    "#X = sm.add_constant(X)  # Adding intercept so that model has a bias term\n",
    "                       #the intercept ensures that B0 is present in equation\n",
    "         \n",
    "logit_model = sm.Logit(y, X) #fits a logisticregression model using statsmodel\n",
    "                             #it uses logit function/formla for calculation\n",
    "\n",
    "result = logit_model.fit()  #fits the model to data using MLE(maximum \n",
    "                                        #likehood estimator)\n",
    "\n",
    "\n",
    "print(result.summary())  # View p-values and significance of each feature"
   ]
  },
  {
   "cell_type": "code",
   "execution_count": 84,
   "id": "95ccf42c",
   "metadata": {},
   "outputs": [
    {
     "data": {
      "text/plain": [
       "0      0.276675\n",
       "1      0.531890\n",
       "2      0.240184\n",
       "3      0.634228\n",
       "4      0.299638\n",
       "         ...   \n",
       "882    0.296855\n",
       "883    0.598934\n",
       "884    0.395810\n",
       "885    0.582240\n",
       "886    0.381679\n",
       "Length: 887, dtype: float64"
      ]
     },
     "execution_count": 84,
     "metadata": {},
     "output_type": "execute_result"
    }
   ],
   "source": [
    "result.predict(X)"
   ]
  },
  {
   "cell_type": "code",
   "execution_count": null,
   "id": "cae68a41",
   "metadata": {},
   "outputs": [],
   "source": []
  },
  {
   "cell_type": "raw",
   "id": "150bd039",
   "metadata": {},
   "source": [
    "From above results explaining each terns in results:-\n",
    "    \n",
    "    1)current function value measures how well the logistic regression fits       the given data.(if the likelyhood close to \"0\" says best value.\n",
    "    \n",
    "    2)iterator :how may times it is repeated\n",
    "    \n",
    "    3)DF Resuidals refers to degrees of freedom\n",
    "    \n",
    "    4)method=MLE maximum likelyhood estimator\n",
    "    \n",
    "    5)Pseudo R-Squared gives idea of performance higher value(1) is better\n",
    "    \n",
    "    6)LLR p-value(<0.05) model is statistically significant\n",
    "    \n",
    "    \n",
    "Coef (B) → Represents the effect of each predictor on survival probability.\n",
    " - Positive values → Increase survival probability.\n",
    " - Negative values → Decrease survival probability.\n",
    "\n",
    "Std Err → Measures the uncertainty of each coefficient.\n",
    "\n",
    "z-score → Measures how far a feature deviates from zero (higher values indicate stronger effects)\n",
    "\n",
    "p-value → Tests feature significance (low p-values < 0.05 indicate a statistically significant predictor)\n",
    "\n",
    "Confidence Interval (95%) → Range of values within which the true coefficient is likely to fall.\n"
   ]
  },
  {
   "cell_type": "raw",
   "id": "e1ad5c46",
   "metadata": {},
   "source": [
    "=>The strongest predictor of survival is Passenger Class (Pclass), with lower-class passengers significantly less likely to survive.\n",
    "\n",
    "=>Having Parents/Children (Parch) onboard improves survival chances.\n",
    "\n",
    "=>Other features, such as Age, Sex, and Fare, are not statistically significant in this model, meaning their effect is uncertain.\n"
   ]
  },
  {
   "cell_type": "markdown",
   "id": "4cb86199",
   "metadata": {},
   "source": [
    "# Interview Questions\n"
   ]
  },
  {
   "cell_type": "raw",
   "id": "3b7b4e93",
   "metadata": {},
   "source": [
    "1.What is the difference between precision and recall?\n",
    "\n",
    "==>Both Precision and recall are the metrics used in Logistic                    Regression/Binary classification\n",
    "    \n",
    "     1)precison:- Measures how many of the predicted positive instances were        actually positive.it checks When the model says ‘positive,’ how often        is it correct\n",
    "     \n",
    "      precision={TP/TP+FP}here we can see all are positive t,f=true,false +ve\n",
    "      \n",
    "      =>important when \"flase positive\" are costly.ex(spam)\n",
    "      \n",
    "      2)Recall:-Also knows as True postive Rate.Measures how many actual            positive instances were correctly identified.\n",
    "      \n",
    "      recall={TP/TP+FN}\n",
    "      \n",
    "      =>important when \"flase negative\" are costly.ex(covid-19) "
   ]
  },
  {
   "cell_type": "code",
   "execution_count": null,
   "id": "1a542318",
   "metadata": {},
   "outputs": [],
   "source": []
  },
  {
   "cell_type": "raw",
   "id": "344cd619",
   "metadata": {},
   "source": [
    "2.What is cross-validation, and why is it important in binary classification?\n",
    "\n",
    "==>cross validdation is a technique which splits the hole dataset into different training and testing samples in a generalized way.instead of just splitting them into training and testing.\n",
    "\n",
    "=>This helps the model to train on hole dataset with small samples in           different iterartion \n",
    "\n",
    "=>Prevents \"overfitting\" ensuring the model isn’t just memorizing the training data.\n",
    "\n",
    "=>Gives a more reliable performance estimate since it tests the model on       different subsets of data.\n",
    "\n",
    "For binary classification, cross-validation ensures that the model performs well on both classes, reducing the risk of overfitting to majority class instances\n",
    "\n",
    "  ex:Kfold cross validation\n",
    "     shuffle split cross validation\n",
    "     leave one out cross validation."
   ]
  },
  {
   "cell_type": "code",
   "execution_count": null,
   "id": "273350bb",
   "metadata": {},
   "outputs": [],
   "source": []
  },
  {
   "cell_type": "code",
   "execution_count": null,
   "id": "1fdceabb",
   "metadata": {},
   "outputs": [],
   "source": []
  },
  {
   "cell_type": "code",
   "execution_count": null,
   "id": "ce59232a",
   "metadata": {},
   "outputs": [],
   "source": [
    "\n"
   ]
  },
  {
   "cell_type": "code",
   "execution_count": null,
   "id": "ebcfa50f",
   "metadata": {},
   "outputs": [],
   "source": []
  }
 ],
 "metadata": {
  "kernelspec": {
   "display_name": "Python 3 (ipykernel)",
   "language": "python",
   "name": "python3"
  },
  "language_info": {
   "codemirror_mode": {
    "name": "ipython",
    "version": 3
   },
   "file_extension": ".py",
   "mimetype": "text/x-python",
   "name": "python",
   "nbconvert_exporter": "python",
   "pygments_lexer": "ipython3",
   "version": "3.9.13"
  }
 },
 "nbformat": 4,
 "nbformat_minor": 5
}
