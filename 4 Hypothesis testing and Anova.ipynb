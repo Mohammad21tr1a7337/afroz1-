{
 "cells": [
  {
   "cell_type": "markdown",
   "id": "ddb08463",
   "metadata": {},
   "source": [
    "# HYPOTHESIS TESTING\n",
    "Background:\n",
    "Bombay hospitality Ltd. operates a franchise model for producing exotic Norwegian dinners throughout New England. The operating cost for a franchise in a week (W) is given by the equation W = $1,000 + $5X, where X represents the number of units produced in a week. Recent feedback from restaurant owners suggests that this cost model may no longer be accurate, as their observed weekly operating costs are higher.\n",
    "\n",
    "Objective:\n",
    "To investigate the restaurant owners' claim about the increase in weekly operating costs using hypothesis testing.\n",
    "Data Provided:\n",
    "•\tThe theoretical weekly operating cost model: W = $1,000 + $5X\n",
    "•\tSample of 25 restaurants with a mean weekly cost of Rs. 3,050\n",
    "•\tNumber of units produced in a week (X) follows a normal distribution with a mean (μ) of 600 units and a standard deviation (σ) of 25 units\n",
    "\n",
    "Assignment Tasks:\n",
    "1. State the Hypotheses statement:\n",
    "2. Calculate the Test Statistic:\n",
    "Use the following formula to calculate the test statistic (t):\n",
    "where:\n",
    "•\tˉxˉ = sample mean weekly cost (Rs. 3,050)\n",
    "•\tμ = theoretical mean weekly cost according to the cost model (W = $1,000 + $5X for X = 600 units)\n",
    "•\tσ = 5*25 units\n",
    "•\tn = sample size (25 restaurants)\n",
    "\n",
    "3. Determine the Critical Value:\n",
    "Using the alpha level of 5% (α = 0.05), determine the critical value from the standard normal (Z) distribution table.\n",
    "\n",
    "4. Make a Decision:\n",
    "Compare the test statistic with the critical value to decide whether to reject the null hypothesis.\n",
    "\n",
    "5. Conclusion:\n",
    "Based on the decision in step 4, conclude whether there is strong evidence to support the restaurant owners' claim that the weekly operating costs are higher than the model suggests.\n",
    "\n",
    "Submission Guidelines:\n",
    "•\tPrepare python file detailing each step of your hypothesis testing process.\n",
    "•\tInclude calculations for the test statistic and the critical value.\n",
    "•\tProvide a clear conclusion based on your analysis.\n",
    "\n"
   ]
  },
  {
   "cell_type": "raw",
   "id": "3fa86601",
   "metadata": {},
   "source": [
    "Given\n",
    "To check whether the observed weekly operating costs are higher\n",
    "\n",
    "in hypothesis testing we are trying the reject the null hypothesis(i.e hypothesis means an idea that can  be tested)\n",
    "\n",
    "we can conculde the solution using two techniques\n",
    "1=>using p value           \n",
    "      if {\"p>aplha  accept  null\"}\n",
    "         {\"p<alpha  reject null\"}\n",
    "         \n",
    "2=>using t/z critical value\n",
    "     if {\"ztest<zcritical  accept ho\"}\n",
    "        {\"ztest>zcritical  reject ho\"}\n",
    "\n",
    "Null Hypothesis:\n",
    "    H0=The observed weekly operation is not higher==>u=u\n",
    "Alternate Hypothesis:\n",
    "    H1>The observed weekly operating costs are higher==>u!=u\n",
    "\n",
    "x=3050  sample mean\n",
    "u= (W = $1,000 + $5X for X = 600 units)->1000+5*600==>4000    \n",
    "sigma=5*25==>125        #they wantn't mentioned whether a population standard deviation or sample standard deviation \n",
    "n=25\n",
    "\n",
    "given n<30 best test is T-distribution\n",
    "\n",
    "T-test=x-u/s/sqrt(n)     v/s    Z-test=x=u/sigma/sqrt(n) \n",
    "\n",
    "x=sample mean                    x=sample mean\n",
    "u=assumed mean                   u=populaion mean\n",
    "s=sample standard deviation      sigma=population standard deviation\n",
    "sqrt(n)=sample size              sqrt(n)=number of samples\n"
   ]
  },
  {
   "cell_type": "raw",
   "id": "47ed76d9",
   "metadata": {},
   "source": [
    "levalof significence is given as 0.05 i.e(5%) we can see \n",
    "for aplha=5% in t table here it is given as to check in z table"
   ]
  },
  {
   "cell_type": "code",
   "execution_count": 12,
   "id": "729d01a0",
   "metadata": {},
   "outputs": [
    {
     "name": "stdout",
     "output_type": "stream",
     "text": [
      "number of sample=  25  'and degree of freedom'=  24\n",
      "the critical value on one side                = 1.7108820799094275\n",
      "\n",
      "ttest value using t                         = -38.0\n",
      "\n",
      "H1 is accepted,so we can conclude that the'The observed weekly operating costs are higher'\n",
      "there is enough evidence to support the restaurant owners' claim that the weekly operating costs are significantly higher than the theoretical cost model.\n"
     ]
    }
   ],
   "source": [
    "from scipy.stats import t\n",
    "from math import sqrt\n",
    "import numpy as np\n",
    "#here we are performing t test so we want degree of freedom i.e.,n-1 dof is \n",
    "#the number of independent pieces of information available to estimate a statistic\n",
    " \n",
    "    \n",
    "x=3050 \n",
    "u= 4000\n",
    "s=125\n",
    "\n",
    "n=25\n",
    "dof=n-1\n",
    "print(f\"number of sample=  {n}  'and degree of freedom'=  {dof}\")\n",
    "\n",
    "aplha=0.05  #possibility of error=5%  \n",
    "\n",
    "tcritical=t.ppf(1-aplha,dof)   # for 1 sided because the quesion says the mean is greater\n",
    "                        #1-alpha because the total outcome is 1 and error is 0.05\n",
    "print(\"the critical value on one side                =\",tcritical)\n",
    "print()\n",
    "\n",
    "ttest=(x-u)/(s/sqrt(n))  #s=sample variance/sqrt(n)is standard error\n",
    "print(\"ttest value using t                         =\",ttest)\n",
    "print()\n",
    "\n",
    "if ttest>tcritical:\n",
    "    print(\"H1 is accepted,so we can conclude that the'The observed weekly operating costs are higher'\")\n",
    "    print(\"there is enough evidence to support the restaurant owners' claim that the weekly operating costs are significantly higher than the theoretical cost model.\")\n",
    "else:\n",
    "    print(\"H0 is accepted,so we can conclude that 'The observed weekly operation is not higher'\")\n",
    "    print(\"there is not enough evidence to support the restaurant owners' claim that the weekly operating costs are significantly higher than the theoretical cost model.\")\n",
    "\n"
   ]
  },
  {
   "cell_type": "code",
   "execution_count": 15,
   "id": "280f1b9c",
   "metadata": {},
   "outputs": [
    {
     "name": "stdout",
     "output_type": "stream",
     "text": [
      "P-value: 2.9607810808177907e-23\n",
      "H0 is accepted,so we can conclude that 'The observed weekly operation is not higher'\n",
      "there is not enough evidence to support the restaurant owners' claim that the weekly operating costs are significantly higher than the theoretical cost model.\n"
     ]
    }
   ],
   "source": [
    "# concludind using p_value\n",
    "t_test = -38\n",
    "dof = 24\n",
    "\n",
    "# Calculate p-value (for one-sided test)\n",
    "p_value = t.cdf(t_test, df=dof)  # Lower tail because t_test < 0\n",
    "print(f\"P-value: {p_value}\")\n",
    "\n",
    "if p_value>tcritical:\n",
    "    print(\"H1 is accepted,so we can conclude that the'The observed weekly operating costs are higher'\")\n",
    "    print(\"there is enough evidence to support the restaurant owners' claim that the weekly operating costs are significantly higher than the theoretical cost model.\")\n",
    "else:\n",
    "    print(\"H0 is accepted,so we can conclude that 'The observed weekly operation is not higher'\")\n",
    "    print(\"there is not enough evidence to support the restaurant owners' claim that the weekly operating costs are significantly higher than the theoretical cost model.\")\n",
    "\n"
   ]
  },
  {
   "cell_type": "code",
   "execution_count": 17,
   "id": "c0c24590",
   "metadata": {},
   "outputs": [
    {
     "name": "stdout",
     "output_type": "stream",
     "text": [
      "the z_critical value on one side= 1.64\n",
      "\n",
      "ttest value -38.0\n",
      "\n",
      "h0 is accepted,so we can conclude that 'The observed weekly operation is not higher'\n",
      "there is not enough evidence to support the restaurant owners' claim that the weekly operating costs are significantly higher than the theoretical cost model.\n",
      "\n"
     ]
    }
   ],
   "source": [
    "from scipy.stats import t\n",
    "from math import sqrt\n",
    "import numpy as np\n",
    "#here we are performing t test with z critical value\n",
    "\n",
    "x=3050 \n",
    "u= 4000\n",
    "s=125\n",
    "\n",
    "n=25\n",
    "\n",
    "aplha=0.05  #possibility of error=5%\n",
    "\n",
    "zcritical=1.64   # for 1 sided because the quesion says the mean is greater\n",
    "                       \n",
    "print(\"the z_critical value on one side=\",zcritical)\n",
    "print()\n",
    "\n",
    "ttest=(x-u)/(s/sqrt(n))\n",
    "print(\"ttest value\",ttest)\n",
    "print()\n",
    "\n",
    "if ttest>zcritical:\n",
    "    print(\"H1 is accepted,so we can conclude that the'The observed weekly operating costs are higher'\")\n",
    "    print(\"there is enough evidence to support the restaurant owners' claim that the weekly operating costs are significantly higher than the theoretical cost model.\")\n",
    "else:\n",
    "    print(\"H0 is accepted,so we can conclude that 'The observed weekly operation is not higher'\")\n",
    "    print(\"there is not enough evidence to support the restaurant owners' claim that the weekly operating costs are significantly higher than the theoretical cost model.\")\n",
    "    print()\n",
    "    "
   ]
  },
  {
   "cell_type": "code",
   "execution_count": null,
   "id": "1297af57",
   "metadata": {},
   "outputs": [],
   "source": []
  },
  {
   "cell_type": "markdown",
   "id": "c6076b53",
   "metadata": {},
   "source": [
    "# There is not enough evidence to support the restaurant owners' claim that the weekly operating costs are significantly higher than the theoretical cost model."
   ]
  },
  {
   "cell_type": "code",
   "execution_count": null,
   "id": "d57962f0",
   "metadata": {},
   "outputs": [],
   "source": []
  },
  {
   "cell_type": "code",
   "execution_count": null,
   "id": "cd23cf51",
   "metadata": {},
   "outputs": [],
   "source": []
  },
  {
   "cell_type": "markdown",
   "id": "b84315c4",
   "metadata": {},
   "source": [
    "# CHI-SQUARE TEST"
   ]
  },
  {
   "cell_type": "raw",
   "id": "9010eb3d",
   "metadata": {},
   "source": [
    "s# CHI-SQUARE TEST\n",
    "**----------------**\n",
    "\n",
    "Association between Device Type and Customer Satisfaction\n",
    "Background:\n",
    "Mizzare Corporation has collected data on customer satisfaction levels for two types of smart home devices: Smart Thermostats and Smart Lights. They want to determine if there's a significant association between the type of device purchased and the customer's satisfaction level.\n",
    "Data Provided:\n",
    "The data is summarized in a contingency table showing the counts of customers in each satisfaction level for both types of devices:\n",
    "Satisfaction\tSmart Thermostat\tSmart Light\tTotal\n",
    "Very Satisfied\t50\t70\t120\n",
    "Satisfied\t80\t100\t180\n",
    "Neutral\t60\t90\t150\n",
    "Unsatisfied\t30\t50\t80\n",
    "Very Unsatisfied\t20\t50\t70\n",
    "Total\t240\t360\t600\n",
    "Objective:\n",
    "To use the Chi-Square test for independence to determine if there's a significant association between the type of smart home device purchased (Smart Thermostats vs. Smart Lights) and the customer satisfaction level.\n",
    "Assignment Tasks:\n",
    "1. State the Hypotheses:\n",
    "2. Compute the Chi-Square Statistic:\n",
    "3. Determine the Critical Value:\n",
    "Using the significance level (alpha) of 0.05 and the degrees of freedom (which is the number of categories minus 1)\n",
    "4. Make a Decision:\n",
    "Compare the Chi-Square statistic with the critical value to decide whether to reject the null hypothesis.\n",
    "Submission Guidelines:\n",
    "•\tProvide a detailed report of your analysis, including each step outlined in the assignment tasks in a python file.\n",
    "•\tInclude all calculations, the Chi-Square statistic, the critical value, and your conclusion.\n"
   ]
  },
  {
   "cell_type": "code",
   "execution_count": null,
   "id": "261b4426",
   "metadata": {},
   "outputs": [],
   "source": []
  },
  {
   "cell_type": "raw",
   "id": "d48afd0a",
   "metadata": {},
   "source": [
    "Given,   {Association between Device Type and Customer Satisfaction}\n",
    "\n",
    "Dataset\n",
    "Satisfaction      Smart Thermostat       Smart Light  Total\n",
    "Very Satisfied\t        50\t                 70\t       120\n",
    "Satisfied\t            80\t                100\t       180\n",
    "Neutral\t                60\t                 90\t       150\n",
    "Unsatisfied          \t30\t                 50\t        80\n",
    "Very Unsatisfied\t    20\t                 50\t        70\n",
    "\n",
    "Total\t               240\t                360    \t   600\n",
    "\n",
    "Hypothesis:\n",
    "    \n",
    "H0:there is no  significant association between the type of smart home device\n",
    "purchased (Smart Thermostats vs. Smart Lights) and the customer satisfaction level.\n",
    "\n",
    "H1:there  is significance difference between smart home purchase and customer\n",
    "    satistication level\n",
    "    \n",
    "level of significance is given as (aplha)=0.05\n"
   ]
  },
  {
   "cell_type": "code",
   "execution_count": null,
   "id": "b2131e30",
   "metadata": {},
   "outputs": [],
   "source": []
  },
  {
   "cell_type": "code",
   "execution_count": 4,
   "id": "df814998",
   "metadata": {},
   "outputs": [
    {
     "name": "stdout",
     "output_type": "stream",
     "text": [
      "                  Smart_Thermostat  Smart_Light\n",
      "Very Satisfied                  50           70\n",
      "Satisfied                       80          100\n",
      "Neutral                         60           90\n",
      "Unsatisfied                     30           50\n",
      "Very Unsatisfied                20           50\n",
      "\n"
     ]
    }
   ],
   "source": [
    "#importing the required libraries\n",
    "\n",
    "import pandas as pd                      \n",
    "from scipy.stats import chi2_contingency\n",
    "\n",
    "# we have given a crosstab data here we are transforming them into dataframes\n",
    "\n",
    "data = [[50, 70], [80, 100], [60, 90], [30, 50], [20, 50]] #creatind a list with given values\n",
    "\n",
    "df = pd.DataFrame(data, columns=[\"Smart_Thermostat\", \"Smart_Light\"],   #here in the place of index values we are write the rating\n",
    "                  index=[\"Very Satisfied\", \"Satisfied\", \"Neutral\", \"Unsatisfied\", \"Very Unsatisfied\"])\n",
    "print(df)  #printing the data frame\n",
    "print()\n",
    "\n"
   ]
  },
  {
   "cell_type": "code",
   "execution_count": 9,
   "id": "cdf12f43",
   "metadata": {},
   "outputs": [
    {
     "name": "stdout",
     "output_type": "stream",
     "text": [
      "Chi-square Statistic= 5.638227513227513\n",
      "\n",
      "P-value= 0.22784371130697179\n",
      "\n",
      "Degrees of Freedom= 4\n",
      "\n",
      "Expected Frequencies:\n",
      "[[ 48.  72.]\n",
      " [ 72. 108.]\n",
      " [ 60.  90.]\n",
      " [ 32.  48.]\n",
      " [ 28.  42.]]\n",
      "H0 is accepted and H1 is rejected \n",
      "***--------------------------------------------****\n",
      "\n",
      "if there's no  significant association between the type of smart home devicepurchased (Smart Thermostats vs. Smart Lights) and the customer satisfaction level.\n"
     ]
    }
   ],
   "source": [
    "# Chi-square test  using scipy we can also use researchpy \n",
    "\n",
    "chi2, p_value, dof, expected = chi2_contingency(df)  #chi2_contigency will return chi2 value\n",
    "                                               #degree of freedom,p_value,excepted=excepted frequencies\n",
    "\n",
    "# Results\n",
    "print(\"Chi-square Statistic=\", chi2)\n",
    "print()\n",
    "print(\"P-value=\", p_value)\n",
    "print()\n",
    "print(\"Degrees of Freedom=\", dof)\n",
    "print()\n",
    "print(\"Expected Frequencies:\")   # this are calculated by row total*column total/total\n",
    "print(expected)                  #in this data example 240*120/600\n",
    "\n",
    "# Decision\n",
    "if p_value < 0.05:\n",
    "    print(\"H0 is rejected and H1 is accepted \")\n",
    "    print(\"***--------------------------------------------****\")\n",
    "    print()\n",
    "    print(\"there  is significance difference between smart home purchase and customer satistication level\")\n",
    "else:\n",
    "    print(\"H0 is accepted and H1 is rejected \")\n",
    "    print(\"***--------------------------------------------****\")\n",
    "    print()\n",
    "    print(\"there's no  significant association between the type of smart home device purchased Smart Thermostats  Smart Light and the customer satisfaction level.\")\n"
   ]
  },
  {
   "cell_type": "markdown",
   "id": "dd6e429b",
   "metadata": {},
   "source": [
    "# there is no  significant association between the type of smart home device purchased likeSmart Thermostats and Smart Lights and the customer satisfaction level."
   ]
  },
  {
   "cell_type": "code",
   "execution_count": null,
   "id": "ec9bf8e0",
   "metadata": {},
   "outputs": [],
   "source": []
  }
 ],
 "metadata": {
  "kernelspec": {
   "display_name": "Python 3 (ipykernel)",
   "language": "python",
   "name": "python3"
  },
  "language_info": {
   "codemirror_mode": {
    "name": "ipython",
    "version": 3
   },
   "file_extension": ".py",
   "mimetype": "text/x-python",
   "name": "python",
   "nbconvert_exporter": "python",
   "pygments_lexer": "ipython3",
   "version": "3.9.13"
  }
 },
 "nbformat": 4,
 "nbformat_minor": 5
}
