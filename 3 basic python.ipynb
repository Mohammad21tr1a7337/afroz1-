{
 "cells": [
  {
   "cell_type": "markdown",
   "id": "967211a4",
   "metadata": {},
   "source": [
    "# PYTHON PROGRAMMING ASSIGNMENT\n",
    "Coding Exercises\n",
    "Exercise 1: Prime Numbers\n",
    "Write a Python program that checks whether a given number is prime or not. A prime number is a natural number greater than 1 that has no positive divisors other than 1 and itself.\n",
    "Exercise 2: Product of Random Numbers\n",
    "Develop a Python program that generates two random numbers and asks the user to enter the product of these numbers. The program should then check if the user's answer is correct and display an appropriate message.\n",
    "Exercise 3: Squares of Even/Odd Numbers\n",
    "Create a Python script that prints the squares of all even or odd numbers within the range of 100 to 200. Choose either even or odd numbers and document your choice in the code.\n",
    "Exercise 4: Word counter\n",
    "write a program to count the number of words in a given text.\n",
    "example:\n",
    "input_text = \"This is a sample text. This text will be used to demonstrate the word counter.\"\n",
    "Expected output:\n",
    "'This': 2 \n",
    "'is': 1\n",
    "'a': 1\n",
    "'sample': 1\n",
    "'text.': 1\n",
    "\n",
    "Exercise 5: Check for Palindrome\n",
    "Write a Python function called is_palindrome that takes a string as input and returns True if the string is a palindrome, and False otherwise. A palindrome is a word, phrase, number, or other sequence of characters that reads the same forward and backward, ignoring spaces, punctuation, and capitalization.\n",
    "Example:\n",
    "Input: \"racecar\"\n",
    "Expected Output: True\n",
    "________________________________________\n",
    "Please complete the coding exercises and answer the theoretical questions. Submit your work in a single Python (.ipynb) file for the coding exercises.Ensure your code is well-commented to explain your logic and approach. Good luck!\n",
    "\n"
   ]
  },
  {
   "cell_type": "code",
   "execution_count": null,
   "id": "eb7e4e55",
   "metadata": {},
   "outputs": [],
   "source": []
  },
  {
   "cell_type": "markdown",
   "id": "2f32d694",
   "metadata": {},
   "source": [
    "# Exercise 1: Prime Numbers\n",
    "Write a Python program that checks whether a given number is prime or not.\n",
    "A prime number is a natural number greater than 1 that has no positive\n",
    "divisors other than 1 and itself."
   ]
  },
  {
   "cell_type": "code",
   "execution_count": 1,
   "id": "892e327b",
   "metadata": {},
   "outputs": [
    {
     "name": "stdout",
     "output_type": "stream",
     "text": [
      "enter a number=5\n"
     ]
    },
    {
     "data": {
      "text/plain": [
       "True"
      ]
     },
     "execution_count": 1,
     "metadata": {},
     "output_type": "execute_result"
    }
   ],
   "source": [
    "def prime(number):   #defining a function \n",
    "    if number < 2:      #checking the numbers less than 2 then it is not prime\n",
    "        return False    #because a number is said to be prime when  it has only \n",
    "                         #two divisor (1 and itself)\n",
    "    \n",
    "    for i in range(2, int(number**0.5) + 1):  # Check divisors up to the square root\n",
    "                                     #why square root because we can test the number\n",
    "                                     #of divisor ex:25->5,divisor=1,2,3,4,5  (+1) because \n",
    "                                     #the range excludes the last number(5) so we add one \n",
    "        if number % i == 0:      #check condition if number divides by zero leaves \n",
    "            return              #no remainder then it is divisible by more than two numbers \n",
    "    return True                 #if not return prime\n",
    "a=int(input(\"enter a number=\"))\n",
    "prime(a)"
   ]
  },
  {
   "cell_type": "code",
   "execution_count": 2,
   "id": "f5ff7bbb",
   "metadata": {},
   "outputs": [
    {
     "name": "stdout",
     "output_type": "stream",
     "text": [
      "enter a number=12\n",
      "\n",
      "12 is not a prime number.\n",
      "\n",
      "enter the starting range=5\n",
      "\n",
      "enter the ending range=31\n",
      "\n",
      "Prime numbers between 5 and 31:\n",
      "\n",
      "5 \n",
      "7 \n",
      "11 \n",
      "13 \n",
      "17 \n",
      "19 \n",
      "23 \n",
      "29 \n",
      "31 \n"
     ]
    }
   ],
   "source": [
    "def is_prime(number):\n",
    "    if number < 2:\n",
    "        return False  # Numbers less than 2 are not prime\n",
    "    for i in range(2, int(number**0.5) + 1):  # Check divisors up to the square root\n",
    "        if number % i == 0\n",
    "            return False\n",
    "    return True\n",
    "\n",
    "num =int(input(\"enter a number=\"))\n",
    "print()\n",
    "if is_prime(num):\n",
    "    print(f\"{num} is a prime number!\")\n",
    "    print()\n",
    "else:\n",
    "    print(f\"{num} is not a prime number.\")\n",
    "    print()\n",
    "    \n",
    "def print_primes(start, end):\n",
    "    for num in range(start, end + 1):\n",
    "        if is_prime(num):  # Use the `is_prime` function\n",
    "            print(num, end=\" \")\n",
    "            print()\n",
    "            \n",
    "start =int(input(\"enter the starting range=\"))\n",
    "print()\n",
    "end = int(input(\"enter the ending range=\"))\n",
    "print()\n",
    "print(f\"Prime numbers between {start} and {end}:\")\n",
    "print()\n",
    "print_primes(start, end)"
   ]
  },
  {
   "cell_type": "markdown",
   "id": "484fc3be",
   "metadata": {},
   "source": [
    "# Exercise 2: Product of Random Numbers Develop a Python program that \n",
    "generates two random numbers and asks the user to enter the product of these\n",
    "numbers. The program should then check if the user's answer is correct and \n",
    "display an appropriate message. "
   ]
  },
  {
   "cell_type": "code",
   "execution_count": 5,
   "id": "d4d10b07",
   "metadata": {},
   "outputs": [
    {
     "name": "stdout",
     "output_type": "stream",
     "text": [
      "Are you Intersted in trying this Game say 'Yes'or 'No'Yes\n",
      "\n",
      "Guess  the product of two random numbers between 1 to 20=52\n",
      "\n",
      ":( sorry! better luck next time\n",
      "\n",
      "The answer was : 21\n",
      "\n"
     ]
    }
   ],
   "source": [
    "import random as r\n",
    "\n",
    "#guess the product of two random numbers\n",
    "\n",
    "a=r.randint(1,10)  #generate a random nubers between 1 to 10\n",
    "b=r.randint(1,10)\n",
    "c=a*b\n",
    "\n",
    "a=input(\"Are you Intersted in trying this Game say 'Yes'or 'No'\")\n",
    "print()    # ask the users for the for his intrest in game in yes or no \n",
    "if a=='Yes':    #checks amd matches with the input\n",
    "    guess=int(input(\"Guess  the product of two random numbers between 1 to 20=\"))\n",
    "    print()\n",
    "    if guess==c:   #matches the gueesed number with the actual prroduct\n",
    "        print(\"Congrulation! :)  you won the game\")\n",
    "        print()\n",
    "\n",
    "    else:\n",
    "        print(\":( sorry! better luck next time\")\n",
    "        print()\n",
    "    \n",
    "    print(\"The answer was :\",c)\n",
    "    print()\n",
    "else:\n",
    "    print(\"Thank you \")  #if the players says no gives a postive meaasge"
   ]
  },
  {
   "cell_type": "raw",
   "id": "8a781a26",
   "metadata": {},
   "source": [
    "method 2"
   ]
  },
  {
   "cell_type": "code",
   "execution_count": 7,
   "id": "037799c4",
   "metadata": {},
   "outputs": [
    {
     "name": "stdout",
     "output_type": "stream",
     "text": [
      "What is the product of 8 and 2?\n",
      "Enter your answer: 10\n",
      "Incorrect. The correct answer is 16. Better luck next time!\n"
     ]
    }
   ],
   "source": [
    "import random\n",
    "import numpy as np\n",
    "\n",
    "# Generate two random numbers\n",
    "num1 = random.randint(1, 10)  # Random number between 1 and 10\n",
    "num2 = random.randint(1, 10)  # Random number between 1 and 10\n",
    "\n",
    "# Calculate the correct product using numpy\n",
    "correct_product = np.multiply(num1, num2)\n",
    "\n",
    "# Prompt the user to enter the product\n",
    "print(f\"What is the product of {num1} and {num2}?\")\n",
    "user_answer = int(input(\"Enter your answer: \"))\n",
    "\n",
    "# Check if the user's answer is correct\n",
    "if user_answer == correct_product:\n",
    "    print(\"Correct! Great job!\")\n",
    "else:\n",
    "    print(f\"Incorrect. The correct answer is {correct_product}. Better luck next time!\")"
   ]
  },
  {
   "cell_type": "markdown",
   "id": "4c6003ba",
   "metadata": {},
   "source": [
    "# Exercise 3: Squares of Even/Odd Numbers Create a Python script that prints\n",
    "the squares of all even or odd numbers within the range of 100 to 200. \n",
    "Choose either even or odd numbers and document your choice in the code. "
   ]
  },
  {
   "cell_type": "code",
   "execution_count": 8,
   "id": "c3d074b6",
   "metadata": {},
   "outputs": [
    {
     "name": "stdout",
     "output_type": "stream",
     "text": [
      "select the 'Even',or 'Odd' numbers for squaring between 100-200Odd\n",
      "\n",
      "The square of 101 is 10201\n",
      "The square of 103 is 10609\n",
      "The square of 105 is 11025\n",
      "The square of 107 is 11449\n",
      "The square of 109 is 11881\n",
      "The square of 111 is 12321\n",
      "The square of 113 is 12769\n",
      "The square of 115 is 13225\n",
      "The square of 117 is 13689\n",
      "The square of 119 is 14161\n",
      "The square of 121 is 14641\n",
      "The square of 123 is 15129\n",
      "The square of 125 is 15625\n",
      "The square of 127 is 16129\n",
      "The square of 129 is 16641\n",
      "The square of 131 is 17161\n",
      "The square of 133 is 17689\n",
      "The square of 135 is 18225\n",
      "The square of 137 is 18769\n",
      "The square of 139 is 19321\n",
      "The square of 141 is 19881\n",
      "The square of 143 is 20449\n",
      "The square of 145 is 21025\n",
      "The square of 147 is 21609\n",
      "The square of 149 is 22201\n",
      "The square of 151 is 22801\n",
      "The square of 153 is 23409\n",
      "The square of 155 is 24025\n",
      "The square of 157 is 24649\n",
      "The square of 159 is 25281\n",
      "The square of 161 is 25921\n",
      "The square of 163 is 26569\n",
      "The square of 165 is 27225\n",
      "The square of 167 is 27889\n",
      "The square of 169 is 28561\n",
      "The square of 171 is 29241\n",
      "The square of 173 is 29929\n",
      "The square of 175 is 30625\n",
      "The square of 177 is 31329\n",
      "The square of 179 is 32041\n",
      "The square of 181 is 32761\n",
      "The square of 183 is 33489\n",
      "The square of 185 is 34225\n",
      "The square of 187 is 34969\n",
      "The square of 189 is 35721\n",
      "The square of 191 is 36481\n",
      "The square of 193 is 37249\n",
      "The square of 195 is 38025\n",
      "The square of 197 is 38809\n",
      "The square of 199 is 39601\n"
     ]
    }
   ],
   "source": [
    "#square of even numbers between 100-200\n",
    "\n",
    "option=input(\"select the 'Even',or 'Odd' numbers for squaring between 100-200\")\n",
    "print()\n",
    "start=100                       #initializing the start\n",
    "end=200                         #initializing the end\n",
    "\n",
    "if option=='Even':                 #checking for the choice\n",
    "    for i in  range(100,200,2):    #loop for even\n",
    "        print(f\"The square of { i } is { i**2}\")\n",
    "        \n",
    "elif option=='Odd':\n",
    "    for i in  range(101,200,2):\n",
    "        print(f\"The square of { i } is { i**2}\")\n",
    "        \n",
    "else:\n",
    "    print(\"invalid option\")\n",
    "        "
   ]
  },
  {
   "cell_type": "code",
   "execution_count": null,
   "id": "6f75a8be",
   "metadata": {},
   "outputs": [],
   "source": []
  },
  {
   "cell_type": "markdown",
   "id": "bf51630e",
   "metadata": {},
   "source": [
    "# Example 4: Word counter\n",
    "write a program to count the number of words in a given text.\n",
    "example:\n",
    "input_text = \"This is a sample text. This text will be used to demonstrate the word counter.\"\n",
    "Expected output:\n",
    "'This': 2 \n",
    "'is': 1\n",
    "'a': 1\n",
    "'sample': 1\n",
    "'text.': 1\n"
   ]
  },
  {
   "cell_type": "code",
   "execution_count": 10,
   "id": "f788048d",
   "metadata": {},
   "outputs": [
    {
     "name": "stdout",
     "output_type": "stream",
     "text": [
      "'This': 1\n",
      "'is': 1\n",
      "'a': 1\n",
      "'data': 1\n",
      "'science': 1\n",
      "'assignement': 1\n",
      "'number': 1\n",
      "'three.': 1\n"
     ]
    }
   ],
   "source": [
    "from collections import Counter  #with the help of this module we can do this problem\n",
    "                         #counter used to count occurrences of items in an iterartin\n",
    "#The input sentence\n",
    "sentence= \"This is a data science assignement number three.\"\n",
    "\n",
    "\n",
    "split= sentence.split() # Split the text into words when it find spaces in sentence\n",
    "\n",
    "countvalues=Counter(split)\n",
    "# Count each word\n",
    "\n",
    "for word, count in countvalues.items(): print(f\"'{word}': {count}\")\n",
    "                   #retrive a distionary(key,value pair) from countvalues\n",
    "    "
   ]
  },
  {
   "cell_type": "code",
   "execution_count": null,
   "id": "612f7608",
   "metadata": {},
   "outputs": [],
   "source": []
  },
  {
   "cell_type": "markdown",
   "id": "b82db661",
   "metadata": {},
   "source": [
    "# Exercise 5: Check for Palindrome\n",
    "Write a Python function called is_palindrome that takes a string as input and returns True if the string is a palindrome, and False otherwise. A palindrome is a word, phrase, number, or other sequence of characters that reads the same forward and backward, ignoring spaces, punctuation, and capitalization.\n",
    "Example:\n",
    "Input: \"racecar\"\n",
    "Expected Output: True\n",
    "_______________________"
   ]
  },
  {
   "cell_type": "code",
   "execution_count": null,
   "id": "8f94a5c1",
   "metadata": {},
   "outputs": [],
   "source": []
  },
  {
   "cell_type": "code",
   "execution_count": 15,
   "id": "7ea9c3a0",
   "metadata": {},
   "outputs": [
    {
     "name": "stdout",
     "output_type": "stream",
     "text": [
      "is palindrome True\n",
      "is polindrome True\n",
      "is polindrome False\n"
     ]
    }
   ],
   "source": [
    "import re   #regular expression module mostly used in NLP and text related problems\n",
    "\n",
    "def is_palindrome(stringinput):   #mentioned in the question to create the funstion\n",
    "    \n",
    "    cleaned_string = re.sub(r'[^a-zA-Z0-9]', '',stringinput).lower()\n",
    "                            #r=raw string ,^=ensures that the input should \n",
    "                            #contains either A to Z/a to z/0-9 ,stringinput=input from user\n",
    "                            #lower()used to lower the sentence in lower senetnce\n",
    "    return cleaned_string == cleaned_string[::-1]\n",
    "                            #checks from the back whether it is same from the back or not\n",
    "\n",
    "text = \"racecar\"\n",
    "print(\"is palindrome\",is_palindrome(text)) #given in the problem\n",
    "\n",
    "text2=\"pop\"\n",
    "print(\"is polindrome\",is_palindrome(text2))\n",
    "\n",
    "text2=\"bye\"\n",
    "print(\"is polindrome\",is_palindrome(text2))"
   ]
  },
  {
   "cell_type": "code",
   "execution_count": null,
   "id": "11493f42",
   "metadata": {},
   "outputs": [],
   "source": []
  }
 ],
 "metadata": {
  "kernelspec": {
   "display_name": "Python 3 (ipykernel)",
   "language": "python",
   "name": "python3"
  },
  "language_info": {
   "codemirror_mode": {
    "name": "ipython",
    "version": 3
   },
   "file_extension": ".py",
   "mimetype": "text/x-python",
   "name": "python",
   "nbconvert_exporter": "python",
   "pygments_lexer": "ipython3",
   "version": "3.9.13"
  }
 },
 "nbformat": 4,
 "nbformat_minor": 5
}
